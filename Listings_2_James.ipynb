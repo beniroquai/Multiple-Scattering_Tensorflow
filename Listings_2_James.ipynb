{
 "cells": [
  {
   "cell_type": "markdown",
   "metadata": {},
   "source": [
    "# This is the minimum Working Example to compute a multiple scattering experiment in the Q-Phase "
   ]
  },
  {
   "cell_type": "code",
   "execution_count": 3,
   "metadata": {
    "collapsed": true
   },
   "outputs": [],
   "source": [
    "#!/usr/bin/env python2\n",
    "# -*- coding: utf-8 -*-\n",
    "\"\"\"\n",
    "Created on Sat Jun 10 19:53:32 2017\n",
    "\n",
    "@author: Bene\n",
    "\n",
    "This file creates a fwd-model for the TESCAN Q-PHASE under \n",
    "multiple-scattering. It is majorly derived from  \"LEarning approach for optical tomography\"\n",
    "U. S. Kamilov, BIG, EPFL, 2014.\n",
    "\"\"\"\n",
    "# %load_ext autoreload\n",
    "import tensorflow as tf\n",
    "import numpy as np\n",
    "import matplotlib as mpl\n",
    "import matplotlib.pyplot as plt\n",
    "import scipy.io\n",
    "import scipy as scipy\n",
    "\n",
    "# load own functions\n",
    "import src.model as mus\n",
    "import src.tf_helper as tf_helper\n",
    "import src.tf_generate_object as tf_go\n",
    "import src.data as data\n",
    "\n",
    "import src.optimization.tf_regularizers as reg\n",
    "import os\n",
    "from datetime import datetime\n",
    "\n",
    "# change the following to %matplotlib notebook for interactive plotting\n",
    "%matplotlib inline\n",
    "\n",
    "# Optionally, tweak styles.\n",
    "mpl.rc('figure',  figsize=(10, 6))\n",
    "mpl.rc('image', cmap='gray')\n"
   ]
  },
  {
   "cell_type": "markdown",
   "metadata": {},
   "source": [
    "# Define some optimization parameters "
   ]
  },
  {
   "cell_type": "code",
   "execution_count": 4,
   "metadata": {
    "collapsed": false
   },
   "outputs": [
    {
     "name": "stdout",
     "output_type": "stream",
     "text": [
      "do we need to flip the data?! -> Observe FFT!!\n"
     ]
    }
   ],
   "source": [
    "'''Define some stuff related to infrastructure'''\n",
    "mytimestamp = datetime.now().strftime('%Y-%m-%d_%H-%M-%S')\n",
    "savepath =  os.path.join('./Data/DROPLETS/RESULTS/', mytimestamp)\n",
    "# Create directory\n",
    "try: \n",
    "    os.mkdir(savepath)\n",
    "except(FileExistsError): \n",
    "    print('Folder exists already')\n",
    "\n",
    "tf.reset_default_graph()\n",
    "\n",
    "is_flip = False\n",
    "is_display = True\n",
    "is_optimization = True \n",
    "\n",
    "'''Define Optimization Parameters'''\n",
    "my_learningrate = 5e-4  # learning rate\n",
    "lambda_tv = 1e-3 # lambda for Total variation\n",
    "lambda_gr = 0 # lambda for Goods Roughness \n",
    "lambda_pos = 10\n",
    "lambda_neg = 10\n",
    "\n",
    "Niter = 10000\n",
    "Ndisplay = 10\n",
    "\n",
    "''' File which stores the experimental parameters from the Q-PHASE setup \n",
    "    1.) Read in the parameters of the dataset ''' \n",
    "matlab_par_file = './Data/EM-James/Parameter.mat'   # File with the experimental Parameters\n",
    "matlab_pars = data.import_parameters_mat(filename = matlab_par_file, matname='myParameter')\n",
    "\n",
    "''' 2.) Read in the parameters of the dataset ''' \n",
    "matlab_val_file = './Data/DROPLETS/allAmp_red.mat'   \n",
    "matlab_val = data.import_realdata_h5(filename = matlab_val_file, matname='allAmp_red', is_complex=True)\n",
    "if(is_flip):\n",
    "    np_meas = np.flip(matlab_val,0)\n",
    "else:\n",
    "    np_meas = matlab_val\n",
    "        \n",
    "print('do we need to flip the data?! -> Observe FFT!!')"
   ]
  },
  {
   "cell_type": "markdown",
   "metadata": {},
   "source": [
    "# Initiate the MuScat (Multiple Scattering) Object"
   ]
  },
  {
   "cell_type": "code",
   "execution_count": 5,
   "metadata": {
    "collapsed": false
   },
   "outputs": [
    {
     "name": "stdout",
     "output_type": "stream",
     "text": [
      "Assigned some value for dn which is not good!\n"
     ]
    }
   ],
   "source": [
    "''' Create the Model'''\n",
    "matlab_pars['shiftIcX'] = 0\n",
    "matlab_pars['shiftIcY'] = 0\n",
    "muscat = mus.MuScatModel(matlab_pars, is_optimization=False)\n",
    "muscat.mysize = (muscat.Nz,muscat.Nx,muscat.Ny) # ordering is (Nillu, Nz, Nx, Ny)\n",
    "\n",
    "#muscat.Nx,muscat.Ny = int(np.squeeze(matlab_pars['Nx'].value)), int(np.squeeze(matlab_pars['Ny'].value))"
   ]
  },
  {
   "cell_type": "markdown",
   "metadata": {},
   "source": [
    "## Compute the System's properties (e.g. Pupil function/Illumination Source, K-vectors, etc.)"
   ]
  },
  {
   "cell_type": "markdown",
   "metadata": {},
   "source": [
    "## Generate a phantom object in 3D "
   ]
  },
  {
   "cell_type": "code",
   "execution_count": null,
   "metadata": {
    "collapsed": true
   },
   "outputs": [],
   "source": [
    "# INVERTING THE MISAGLINMENT OF THE SYSTEM! Its consered to be coma and/or shifted optical axis of the illumination in Y-direction!\n",
    "muscat.dn = .05\n",
    "diameter = .1\n",
    "#muscat.NAc = .3\n",
    "\n",
    "''' Create a 3D Refractive Index Distributaton as a artificial sample'''\n",
    "obj = tf_go.generateObject(mysize=muscat.mysize, obj_dim=muscat.dx, obj_type ='sphere', diameter = diameter, dn = muscat.dn)"
   ]
  },
  {
   "cell_type": "markdown",
   "metadata": {},
   "source": [
    "## Create computational graph"
   ]
  },
  {
   "cell_type": "code",
   "execution_count": null,
   "metadata": {
    "collapsed": false
   },
   "outputs": [
    {
     "name": "stdout",
     "output_type": "stream",
     "text": [
      "----------> Be aware: We are taking aberrations into account!\n",
      "Shifting the illumination in X by: 0 Pixel\n",
      "Shifting the illumination in Y by: 0 Pixel\n",
      "Number of Illumination Angles / Plane waves: 120\n",
      "Buildup Q-PHASE Model \n",
      "WARNING:tensorflow:Variable += will be deprecated. Use variable.assign_add if you want assignment to the variable value or 'x = x + y' if you want a new python Tensor object.\n"
     ]
    }
   ],
   "source": [
    "''' Compute the systems model'''\n",
    "muscat.computesys(obj, is_zernike=True)\n",
    "\n",
    "tf_fwd = muscat.computemodel()# Generate Test-Object"
   ]
  },
  {
   "cell_type": "markdown",
   "metadata": {},
   "source": [
    "## Now evaluate the result - start inference"
   ]
  },
  {
   "cell_type": "code",
   "execution_count": null,
   "metadata": {
    "collapsed": true
   },
   "outputs": [],
   "source": [
    "''' Evaluate the model '''\n",
    "sess = tf.Session()\n",
    "sess.run(tf.global_variables_initializer())\n",
    "myres = sess.run(tf_fwd, feed_dict={muscat.TF_obj:obj})"
   ]
  },
  {
   "cell_type": "markdown",
   "metadata": {},
   "source": [
    "\n",
    "## Visualize Results\n"
   ]
  },
  {
   "cell_type": "code",
   "execution_count": null,
   "metadata": {
    "collapsed": true
   },
   "outputs": [],
   "source": [
    "# add noise\n",
    "myres_noise = myres + 0.00*np.random.randn(muscat.Nz,muscat.Nx,muscat.Ny)\n",
    "\n",
    "fig = plt.figure()\n",
    "#plt.title('Experiment: YZ'),plt.imshow(obj[:,muscat.mysize[1]//2,:]), plt.colorbar()\n",
    "plt.subplot(231)\n",
    "plt.title('YZ'),plt.imshow(np.angle(myres_noise)[:,muscat.mysize[1]//2,:]), plt.colorbar()\n",
    "plt.subplot(232)\n",
    "plt.title('XZ'),plt.imshow(np.angle(myres_noise)[:,:,muscat.mysize[2]//2]), plt.colorbar()\n",
    "plt.subplot(233)\n",
    "plt.title('XY'),plt.imshow(np.angle(myres_noise)[muscat.mysize[0]//2,:,:]), plt.colorbar()\n",
    "\n",
    "plt.subplot(234)\n",
    "plt.title('Experiment: YZ'),plt.imshow(np.angle(matlab_val)[:,muscat.mysize[1]//2,:]), plt.colorbar()\n",
    "plt.subplot(235)\n",
    "plt.title('Experiment: XZ'),plt.imshow(np.angle(matlab_val)[:,:,muscat.mysize[2]//2]), plt.colorbar()\n",
    "plt.subplot(236)\n",
    "plt.title('Experiment: XY'),plt.imshow(np.angle(matlab_val)[muscat.mysize[0]//2,:,:]), plt.colorbar()\n",
    "fig.suptitle('ANGLE - This is the result for shiftX: '+str(shiftIcX)+', shiftY: '+str(shiftIcY)+', comaX: '+str(comaX)+', comaY: '+str(comaY))\n",
    "plt.savefig('ANGLE_shiftX_'+str(shiftIcX)+'_shiftY_'+str(shiftIcY)+'_comaX_'+str(comaX)+'_comaY_'+str(comaY)+'_compare_fig.png', bbox_inches='tight')\n",
    "plt.show()\n",
    "\n",
    "\n",
    "fig = plt.figure()\n",
    "plt.subplot(231)\n",
    "plt.title('YZ'),plt.imshow(np.abs(myres_noise)[:,muscat.mysize[1]//2,:]), plt.colorbar()\n",
    "plt.subplot(232)\n",
    "plt.title('XZ'),plt.imshow(np.abs(myres_noise)[:,:,muscat.mysize[2]//2]), plt.colorbar()\n",
    "plt.subplot(233)\n",
    "plt.title('XY'),plt.imshow(np.abs(myres_noise)[muscat.mysize[0]//2,:,:]), plt.colorbar()\n",
    "\n",
    "plt.subplot(234)\n",
    "plt.title('Experiment: YZ'),plt.imshow(np.abs(matlab_val)[:,muscat.mysize[1]//2,:]), plt.colorbar()\n",
    "plt.subplot(235)\n",
    "plt.title('Experiment: XZ'),plt.imshow(np.abs(matlab_val)[:,:,muscat.mysize[2]//2]), plt.colorbar()\n",
    "plt.subplot(236)\n",
    "plt.title('Experiment: XY'),plt.imshow(np.abs(matlab_val)[muscat.mysize[0]//2,:,:]), plt.colorbar()\n",
    "fig.suptitle('ABS - This is the result for shiftX: '+str(shiftIcX)+', shiftY: '+str(shiftIcY)+', comaX: '+str(comaX)+', comaY: '+str(comaY))\n",
    "plt.savefig('ABS_shiftX_'+str(shiftIcX)+'_shiftY_'+str (shiftIcY)+'_comaX_'+str(comaX)+'_comaY_'+str(comaY)+'_compare_fig.png', bbox_inches='tight')\n",
    "plt.show()\n",
    "\n",
    "#data.save_timeseries(np.angle(matlab_val), 'droplet_meas_angle')\n",
    "#data.save_timeseries(np.angle(myres), 'droplet_simu_angle') \n",
    "#%% save the results\n",
    "np.save(savepath+'/rec.npy', myres)\n",
    "\n",
    "tf_helper.saveHDF5(myres, savepath+'/Obj_Reconstruction.h5')\n",
    "tf_helper.saveHDF5(np.abs(np_meas), savepath+'/Amplitude_abs.h5')\n",
    "tf_helper.saveHDF5(np.angle(np_meas), savepath+'/Amplitude_angle.h5')"
   ]
  },
  {
   "cell_type": "code",
   "execution_count": null,
   "metadata": {
    "collapsed": true
   },
   "outputs": [],
   "source": []
  }
 ],
 "metadata": {
  "kernelspec": {
   "display_name": "Python 3",
   "language": "python",
   "name": "python3"
  },
  "language_info": {
   "codemirror_mode": {
    "name": "ipython",
    "version": 3
   },
   "file_extension": ".py",
   "mimetype": "text/x-python",
   "name": "python",
   "nbconvert_exporter": "python",
   "pygments_lexer": "ipython3",
   "version": "3.6.1"
  }
 },
 "nbformat": 4,
 "nbformat_minor": 2
}
