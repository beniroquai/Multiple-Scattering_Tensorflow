{
 "cells": [
  {
   "cell_type": "markdown",
   "metadata": {},
   "source": [
    "# This is the minimum Working Example to compute a multiple scattering experiment in the Q-Phase "
   ]
  },
  {
   "cell_type": "code",
   "execution_count": 1,
   "metadata": {
    "collapsed": false
   },
   "outputs": [
    {
     "name": "stderr",
     "output_type": "stream",
     "text": [
      "C:\\ProgramData\\Anaconda3\\lib\\site-packages\\h5py\\__init__.py:72: UserWarning: h5py is running against HDF5 1.10.2 when it was built against 1.10.3, this may cause problems\n",
      "  '{0}.{1}.{2}'.format(*version.hdf5_built_version_tuple)\n"
     ]
    }
   ],
   "source": [
    "#!/usr/bin/env python2\n",
    "# -*- coding: utf-8 -*-\n",
    "\"\"\"\n",
    "Created on Sat Jun 10 19:53:32 2017\n",
    "\n",
    "@author: Bene\n",
    "\n",
    "This file creates a fwd-model for the TESCAN Q-PHASE under \n",
    "multiple-scattering. It is majorly derived from  \"LEarning approach for optical tomography\"\n",
    "U. S. Kamilov, BIG, EPFL, 2014.\n",
    "\"\"\"\n",
    "# %load_ext autoreload\n",
    "import tensorflow as tf\n",
    "import numpy as np\n",
    "import matplotlib as mpl\n",
    "import matplotlib.pyplot as plt\n",
    "import os\n",
    "from datetime import datetime\n",
    "\n",
    "# load own functions\n",
    "import src.model as mus\n",
    "import src.tf_helper as tf_helper\n",
    "import src.tf_generate_object as tf_go\n",
    "import src.data as data\n",
    "import src.optimization.tf_regularizers as reg\n",
    "\n",
    "\n",
    "# change the following to %matplotlib notebook for interactive plotting\n",
    "# %matplotlib inline\n",
    "\n",
    "# Optionally, tweak styles.\n",
    "mpl.rc('figure',  figsize=(10, 6))\n",
    "mpl.rc('image', cmap='gray')\n"
   ]
  },
  {
   "cell_type": "markdown",
   "metadata": {},
   "source": [
    "# Define some optimization parameters "
   ]
  },
  {
   "cell_type": "code",
   "execution_count": 2,
   "metadata": {
    "collapsed": false
   },
   "outputs": [
    {
     "name": "stdout",
     "output_type": "stream",
     "text": [
      "Folder exists already\n"
     ]
    }
   ],
   "source": [
    "'''Define some stuff related to infrastructure'''\n",
    "mytimestamp = datetime.now().strftime('%Y-%m-%d_%H-%M-%S')\n",
    "savepath = os.path.join('./Data/DROPLETS/RESULTS/')#, mytimestamp)\n",
    "\n",
    "# Create directory\n",
    "try: \n",
    "    os.mkdir(savepath)\n",
    "except(FileExistsError): \n",
    "    print('Folder exists already')\n",
    "\n",
    "# Define parameters \n",
    "is_padding = False\n",
    "is_display = True\n",
    "is_optimization = True \n",
    "is_optimization_psf = True\n",
    "is_flip = False\n",
    "\n",
    "# data files for parameters and measuremets \n",
    "matlab_val_file = './Data/DROPLETS/allAmp_simu.npy' #'./Data/DROPLETS/allAmp_simu.mat'      \n",
    "matlab_par_file = './Data/DROPLETS/myParameterNew.mat'   \n",
    "\n",
    "# microscope parameters\n",
    "zernikefactors = np.array((0,0,0,0,0,0,0,0,0)) # representing the 9 first zernike coefficients in noll-writings \n",
    "dn = .075 # refractive index of the object (difference)\n",
    "\n",
    "'''Define Optimization Parameters'''\n",
    "my_learningrate = 1e-2  # learning rate\n",
    "lambda_tv = 1e-4 # lambda for Total variation\n",
    "lambda_gr = 0 # lambda for Goods Roughness \n",
    "lambda_pos = 0\n",
    "lambda_neg = 10\n",
    "\n",
    "Niter = 2000\n",
    "Ndisplay = 10\n",
    "\n",
    "\n",
    "'''START CODE'''\n",
    "tf.reset_default_graph() # just in case there was an open session"
   ]
  },
  {
   "cell_type": "markdown",
   "metadata": {},
   "source": [
    "# Generate Test-Object"
   ]
  },
  {
   "cell_type": "code",
   "execution_count": 3,
   "metadata": {
    "collapsed": false
   },
   "outputs": [
    {
     "name": "stdout",
     "output_type": "stream",
     "text": [
      "do we need to flip the data?! -> Observe FFT!!\n",
      "Assigned some value for dn which is not good!\n",
      "Attention: Changed Z-sampling!!\n"
     ]
    }
   ],
   "source": [
    "''' File which stores the experimental parameters from the Q-PHASE setup \n",
    "    1.) Read in the parameters of the dataset ''' \n",
    "matlab_pars = data.import_parameters_mat(filename = matlab_par_file, matname='myParameterNew')\n",
    "\n",
    "''' 2.) Read in the parameters of the dataset ''' \n",
    "if(matlab_val_file.find('mat')==-1):\n",
    "    matlab_val = np.load(matlab_val_file)\n",
    "else:\n",
    "    matlab_val = data.import_realdata_h5(filename = matlab_val_file, matname='allAmp_red', is_complex=True)\n",
    "\n",
    "if(is_flip):\n",
    "    np_meas = np.flip(matlab_val,0)\n",
    "    print('Attention: We are flipping the data!')\n",
    "else:\n",
    "    np_meas = matlab_val\n",
    "print('do we need to flip the data?! -> Observe FFT!!')\n",
    "\n",
    "\n",
    "''' Create the Model'''\n",
    "muscat = mus.MuScatModel(matlab_pars, is_optimization=is_optimization, is_optimization_psf = is_optimization_psf)\n",
    "muscat.Nx,muscat.Ny = int(np.squeeze(matlab_pars['Nx'].value)), int(np.squeeze(matlab_pars['Ny'].value))\n",
    "muscat.shiftIcY=0\n",
    "muscat.shiftIcX=0\n",
    "muscat.dn = dn\n",
    "#muscat.NAc =.4\n",
    "muscat.dz = muscat.lambda0/4\n",
    "print('Attention: Changed Z-sampling!!')\n",
    "\n",
    "''' Adjust some parameters to fit it in the memory '''\n",
    "muscat.mysize = (muscat.Nz,muscat.Nx,muscat.Ny) # ordering is (Nillu, Nz, Nx, Ny)\n",
    "\n",
    "''' Create a 3D Refractive Index Distributaton as a artificial sample'''\n",
    "obj = tf_go.generateObject(mysize=muscat.mysize, obj_dim=(muscat.dz,muscat.dx,muscat.dy), obj_type ='sphere', diameter = 1, dn = muscat.dn)\n",
    "\n",
    "# introduce zernike factors here\n",
    "muscat.zernikefactors = zernikefactors"
   ]
  },
  {
   "cell_type": "markdown",
   "metadata": {},
   "source": [
    "# Compute the System's properties (e.g. Pupil function/Illumination Source, K-vectors, etc.)"
   ]
  },
  {
   "cell_type": "code",
   "execution_count": 4,
   "metadata": {
    "collapsed": false
   },
   "outputs": [
    {
     "name": "stdout",
     "output_type": "stream",
     "text": [
      "----------> Be aware: We are taking aberrations into account!\n",
      "Shifting the illumination in X by: 0 Pixel\n",
      "Shifting the illumination in Y by: 0 Pixel\n",
      "Number of Illumination Angles / Plane waves: 49\n"
     ]
    }
   ],
   "source": [
    "''' Compute the systems model'''\n",
    "muscat.computesys(obj, is_zernike=True)"
   ]
  },
  {
   "cell_type": "markdown",
   "metadata": {},
   "source": [
    "# Generate Computational Graph (fwd model)"
   ]
  },
  {
   "cell_type": "code",
   "execution_count": 5,
   "metadata": {
    "collapsed": false
   },
   "outputs": [
    {
     "name": "stdout",
     "output_type": "stream",
     "text": [
      "Buildup Q-PHASE Model \n",
      "WARNING:tensorflow:Variable += will be deprecated. Use variable.assign_add if you want assignment to the variable value or 'x = x + y' if you want a new python Tensor object.\n"
     ]
    },
    {
     "name": "stderr",
     "output_type": "stream",
     "text": [
      "C:\\ProgramData\\Anaconda3\\lib\\site-packages\\tensorflow\\python\\framework\\tensor_util.py:416: ComplexWarning: Casting complex values to real discards the imaginary part\n",
      "  nparray = values.astype(dtype.as_numpy_dtype)\n"
     ]
    },
    {
     "data": {
      "image/png": "[encoded data removed]",
      "text/plain": [
       "<Figure size 720x432 with 5 Axes>"
      ]
     },
     "metadata": {},
     "output_type": "display_data"
    }
   ],
   "source": [
    "tf_fwd = muscat.computemodel()\n",
    "\n",
    "if(is_display): \n",
    "    plt.subplot(131), plt.title('Ic'), plt.imshow(muscat.Ic)\n",
    "    plt.subplot(132), plt.title('Po'),plt.imshow(np.fft.fftshift(np.abs(muscat.Po))), plt.colorbar()\n",
    "    plt.subplot(133), plt.title('Po'),plt.imshow(np.fft.fftshift(np.angle(muscat.Po))), plt.colorbar(), plt.show()"
   ]
  },
  {
   "cell_type": "markdown",
   "metadata": {},
   "source": [
    "# Define Optimizer and Cost-function"
   ]
  },
  {
   "cell_type": "markdown",
   "metadata": {},
   "source": [
    "Now load data which has been saved previously (Optional!)"
   ]
  },
  {
   "cell_type": "code",
   "execution_count": 6,
   "metadata": {
    "collapsed": false
   },
   "outputs": [
    {
     "name": "stdout",
     "output_type": "stream",
     "text": [
      "Evtl unwrap it!\n"
     ]
    },
    {
     "data": {
      "image/png": "[encoded data removed]",
      "text/plain": [
       "<Figure size 720x432 with 6 Axes>"
      ]
     },
     "metadata": {},
     "output_type": "display_data"
    }
   ],
   "source": [
    "print('Evtl unwrap it!')\n",
    "\n",
    "# this is the initial guess of the reconstruction\n",
    "np_meas=np_meas*np.exp(1j*np.pi)\n",
    "if(True):\n",
    "    init_guess = np.angle(np_meas)\n",
    "    init_guess = init_guess - np.min(init_guess)\n",
    "    init_guess = init_guess/np.max(init_guess)*muscat.dn\n",
    "else:\n",
    "    init_guess = np.ones(np_meas.shape)*muscat.dn/2\n",
    "    \n",
    "if(is_display): plt.subplot(231), plt.title('Angle XZ'),plt.imshow(init_guess[:,muscat.mysize[1]//2,:]), plt.colorbar()\n",
    "if(is_display): plt.subplot(232), plt.title('Angle XZ'),plt.imshow(init_guess[:,:,muscat.mysize[1]//2]), plt.colorbar()\n",
    "if(is_display): plt.subplot(233), plt.title('Angle XZ'),plt.imshow(init_guess[muscat.mysize[0]//2,:,:]), plt.colorbar(),plt.show()\n"
   ]
  },
  {
   "cell_type": "markdown",
   "metadata": {},
   "source": [
    "# Optimize"
   ]
  },
  {
   "cell_type": "code",
   "execution_count": 7,
   "metadata": {
    "collapsed": false
   },
   "outputs": [
    {
     "name": "stdout",
     "output_type": "stream",
     "text": [
      "Regularizer: Penalize Values less then 0\n",
      "Regularizer: Penalize Values higher then 0.2\n"
     ]
    }
   ],
   "source": [
    "#%%\n",
    "'''Regression + Regularization'''\n",
    "tf_meas = tf.placeholder(dtype=tf.complex64, shape=muscat.mysize)\n",
    "             \n",
    "'''Define Cost-function'''\n",
    "tf_tvloss = lambda_tv*reg.tf_total_variation_regularization(muscat.TF_obj)  #Alernatively total_variation\n",
    "tf_posloss = lambda_neg*reg.posiminity(muscat.TF_obj, minval=0)\n",
    "tf_negloss = lambda_pos*reg.posimaxity(muscat.TF_obj, maxval=.2) \n",
    "tf_globalphase = tf.Variable(0., tf.float32, name='var_phase')\n",
    "tf_globalabs = tf.Variable(1., tf.float32, name='var_abs')# \n",
    "tf_fidelity = tf.reduce_sum(tf_helper.tf_abssqr(tf_fwd  - (tf_meas/tf.cast(tf.abs(tf_globalabs), tf.complex64)*tf.exp(1j*tf.cast(tf_globalphase, tf.complex64))))) # allow a global phase parameter to avoid unwrapping effects\n",
    "tf_loss = tf_fidelity +  tf_negloss + tf_posloss + tf_tvloss\n",
    "\n",
    " # data fidelity\n",
    "# TV regularization\n",
    "# Positivity Penalty          \n",
    "# eventually Goods Roughness reg\n",
    "          \n",
    "if(True):          \n",
    "    '''Define Optimizer'''\n",
    "    tf_optimizer = tf.train.AdamOptimizer(my_learningrate)\n",
    "    tf_lossop = tf_optimizer.minimize(tf_loss)\n",
    "else:\n",
    "    tf_optimizer = tf.contrib.opt.ScipyOptimizerInterface(loss, options={'maxiter': 40},method='L-BFGS-B') # 'L-BFGS-B'\n",
    "    tf_optimizer.minimize(sess)\n",
    "    myloss=loss.eval()\n",
    "    \n",
    "''' Evaluate the model '''\n",
    "sess = tf.Session()\n",
    "sess.run(tf.global_variables_initializer())\n",
    "if is_optimization:\n",
    "    sess.run(tf.assign(muscat.TF_obj, init_guess)); # assign abs of measurement as initial guess of \n",
    "my_fwd = sess.run(tf_fwd)#, feed_dict={muscat.TF_obj:obj})\n",
    "mysize = my_fwd.shape\n",
    "\n"
   ]
  },
  {
   "cell_type": "markdown",
   "metadata": {},
   "source": [
    "# Estimate the Phase difference between Measurement and Simulation"
   ]
  },
  {
   "cell_type": "code",
   "execution_count": null,
   "metadata": {
    "collapsed": false
   },
   "outputs": [
    {
     "data": {
      "image/png": "[encoded data removed]",
      "text/plain": [
       "<Figure size 720x432 with 6 Axes>"
      ]
     },
     "metadata": {},
     "output_type": "display_data"
    },
    {
     "data": {
      "image/png": "[encoded data removed]",
      "text/plain": [
       "<Figure size 720x432 with 6 Axes>"
      ]
     },
     "metadata": {},
     "output_type": "display_data"
    }
   ],
   "source": [
    "# We assume, that there is a global phase mismatch between measurment and first estimate of the fwd model, this can be estimated by the difference of mean phase of the two\n",
    "# subtracting the mean phase from either measurement or the fwd model could help to speed up the optimization\n",
    "# this is the initial guess of the reconstruction\n",
    "myinitphase = np.mean(np.angle(np_meas))-np.mean(np.angle(my_fwd))\n",
    "np_meas_=np_meas*np.exp(1j*myinitphase) # subtract globaphase - anyway we want to optimize for that, but now the global phase can be assumed to be 0 initally\n",
    "if(is_display): plt.subplot(231), plt.title('Angle YZ - Measurement'),plt.imshow(np.angle(np_meas_)[:,mysize[1]//2,:]), plt.colorbar()#, plt.show()\n",
    "if(is_display): plt.subplot(232), plt.title('Angle XZ - Measurement'),plt.imshow(np.angle(np_meas_)[:,:,mysize[2]//2]), plt.colorbar()#, plt.show()\n",
    "if(is_display): plt.subplot(233), plt.title('Angle XY - Measurement'),plt.imshow(np.angle(np_meas_)[mysize[0]//2,:,:]), plt.colorbar(), plt.show()\n",
    "\n",
    "if(is_display): plt.subplot(234), plt.title('Angle YZ - Simulation'),plt.imshow(np.angle(my_fwd)[:,mysize[1]//2,:]), plt.colorbar()#, plt.show()\n",
    "if(is_display): plt.subplot(235), plt.title('Angle XZ - Simulation'),plt.imshow(np.angle(my_fwd)[:,:,mysize[2]//2]), plt.colorbar()#, plt.show()\n",
    "if(is_display): plt.subplot(236), plt.title('Angle XY - Simulation'),plt.imshow(np.angle(my_fwd)[mysize[0]//2,:,:]), plt.colorbar(), plt.show()\n"
   ]
  },
  {
   "cell_type": "code",
   "execution_count": null,
   "metadata": {
    "collapsed": false
   },
   "outputs": [
    {
     "name": "stdout",
     "output_type": "stream",
     "text": [
      "Start optimizing\n",
      "Loss@0: 2921.0576 - Fid: 2909.788, Neg: 0.0, Pos: 0.0, TV: 11.269417 G-Phase:0.01 G-ABS: 0.99\n",
      "Loss@10: 378.81854 - Fid: 312.37387, Neg: 0.0, Pos: 55.171913, TV: 11.272762 G-Phase:0.011870209 G-ABS: 1.0323331\n",
      "Loss@20: 69.51084 - Fid: 25.25475, Neg: 0.0, Pos: 32.98287, TV: 11.273227 G-Phase:0.015665771 G-ABS: 1.0373355\n",
      "Loss@30: 42.599705 - Fid: 16.265543, Neg: 0.0, Pos: 15.060661, TV: 11.2734995 G-Phase:0.018461883 G-ABS: 1.0373812\n",
      "Loss@40: 41.617706 - Fid: 23.51735, Neg: 0.0, Pos: 6.826939, TV: 11.27342 G-Phase:0.019668655 G-ABS: 1.042599\n",
      "Loss@50: 24.959408 - Fid: 9.024293, Neg: 0.0, Pos: 4.6619053, TV: 11.273209 G-Phase:0.021833502 G-ABS: 1.0391514\n",
      "Loss@60: 20.74518 - Fid: 6.4850664, Neg: 0.0, Pos: 2.9872081, TV: 11.272905 G-Phase:0.023260357 G-ABS: 1.0376103\n",
      "Loss@70: 17.450659 - Fid: 4.2896895, Neg: 0.0, Pos: 1.8883616, TV: 11.272608 G-Phase:0.02417163 G-ABS: 1.0371017\n",
      "Loss@80: 16.159052 - Fid: 3.601481, Neg: 0.0, Pos: 1.2851992, TV: 11.272371 G-Phase:0.024941014 G-ABS: 1.0362008\n",
      "Loss@90: 15.134966 - Fid: 2.932862, Neg: 0.0, Pos: 0.9299096, TV: 11.272194 G-Phase:0.025696764 G-ABS: 1.0351157\n",
      "Loss@100: 14.412205 - Fid: 2.4379916, Neg: 0.0, Pos: 0.7021762, TV: 11.272037 G-Phase:0.026355978 G-ABS: 1.0340303\n",
      "Loss@110: 13.924599 - Fid: 2.1171448, Neg: 0.0, Pos: 0.53555554, TV: 11.271898 G-Phase:0.026889576 G-ABS: 1.0329643\n",
      "Loss@120: 13.567604 - Fid: 1.8781822, Neg: 0.0, Pos: 0.41764522, TV: 11.271776 G-Phase:0.027400587 G-ABS: 1.0319341\n",
      "Loss@130: 13.291119 - Fid: 1.6858059, Neg: 0.0, Pos: 0.33364654, TV: 11.271667 G-Phase:0.027863968 G-ABS: 1.0309126\n",
      "Loss@140: 13.071512 - Fid: 1.5307384, Neg: 0.0, Pos: 0.2692011, TV: 11.271573 G-Phase:0.028299889 G-ABS: 1.0299001\n",
      "Loss@150: 12.893863 - Fid: 1.4013758, Neg: 0.0, Pos: 0.22100009, TV: 11.271487 G-Phase:0.028712746 G-ABS: 1.0288985\n",
      "Loss@160: 12.746416 - Fid: 1.2926071, Neg: 0.0, Pos: 0.18240131, TV: 11.271408 G-Phase:0.029105349 G-ABS: 1.0279077\n",
      "Loss@170: 12.622229 - Fid: 1.1989355, Neg: 0.0, Pos: 0.1519593, TV: 11.271334 G-Phase:0.02947917 G-ABS: 1.0269221\n",
      "Loss@180: 12.516294 - Fid: 1.1177, Neg: 0.0, Pos: 0.12732494, TV: 11.271269 G-Phase:0.029839158 G-ABS: 1.0259373\n",
      "Loss@190: 12.424771 - Fid: 1.0463052, Neg: 0.0, Pos: 0.107259005, TV: 11.271207 G-Phase:0.030184085 G-ABS: 1.0249542\n",
      "Loss@200: 12.3451 - Fid: 0.9831101, Neg: 0.0, Pos: 0.090832174, TV: 11.271158 G-Phase:0.030515444 G-ABS: 1.0239779\n",
      "Loss@210: 12.275078 - Fid: 0.92687035, Neg: 0.0, Pos: 0.077099755, TV: 11.271108 G-Phase:0.030833934 G-ABS: 1.0230079\n",
      "Loss@220: 12.213144 - Fid: 0.87640905, Neg: 0.0, Pos: 0.06566973, TV: 11.271066 G-Phase:0.031140024 G-ABS: 1.0220432\n",
      "Loss@230: 12.158019 - Fid: 0.83097774, Neg: 0.0, Pos: 0.056017008, TV: 11.271025 G-Phase:0.03143418 G-ABS: 1.0210857\n",
      "Loss@240: 12.108687 - Fid: 0.78982794, Neg: 0.0, Pos: 0.04787252, TV: 11.270987 G-Phase:0.03171699 G-ABS: 1.0201354\n",
      "Loss@250: 12.064304 - Fid: 0.75235057, Neg: 0.0, Pos: 0.041001767, TV: 11.270952 G-Phase:0.03198893 G-ABS: 1.0191917\n",
      "Loss@260: 12.0242 - Fid: 0.718076, Neg: 0.0, Pos: 0.035207592, TV: 11.270917 G-Phase:0.03225048 G-ABS: 1.0182551\n",
      "Loss@270: 11.987846 - Fid: 0.6866714, Neg: 0.0, Pos: 0.03028458, TV: 11.27089 G-Phase:0.032502223 G-ABS: 1.0173256\n",
      "Loss@280: 11.954714 - Fid: 0.6577665, Neg: 0.0, Pos: 0.02608601, TV: 11.270862 G-Phase:0.032744717 G-ABS: 1.0164037\n",
      "Loss@290: 11.924411 - Fid: 0.63106465, Neg: 0.0, Pos: 0.022513943, TV: 11.270832 G-Phase:0.032978162 G-ABS: 1.015489\n",
      "Loss@300: 11.896563 - Fid: 0.60632735, Neg: 0.0, Pos: 0.01943101, TV: 11.270804 G-Phase:0.033202976 G-ABS: 1.0145813\n",
      "Loss@310: 11.870838 - Fid: 0.58325505, Neg: 0.0, Pos: 0.01680212, TV: 11.270781 G-Phase:0.033419672 G-ABS: 1.0136806\n",
      "Loss@320: 11.847023 - Fid: 0.56170744, Neg: 0.0, Pos: 0.014560673, TV: 11.270755 G-Phase:0.033628482 G-ABS: 1.0127869\n",
      "Loss@330: 11.824856 - Fid: 0.54154605, Neg: 0.0, Pos: 0.01257638, TV: 11.270733 G-Phase:0.03382959 G-ABS: 1.0118998\n",
      "Loss@340: 11.804127 - Fid: 0.522535, Neg: 0.0, Pos: 0.010879728, TV: 11.270712 G-Phase:0.034023322 G-ABS: 1.0110202\n",
      "Loss@350: 11.784702 - Fid: 0.5045681, Neg: 0.0, Pos: 0.009440179, TV: 11.270694 G-Phase:0.034210008 G-ABS: 1.0101476\n",
      "Loss@360: 11.766423 - Fid: 0.48757222, Neg: 0.0, Pos: 0.008179324, TV: 11.270672 G-Phase:0.034389947 G-ABS: 1.0092824\n",
      "Loss@370: 11.749192 - Fid: 0.47143286, Neg: 0.0, Pos: 0.0071043544, TV: 11.270655 G-Phase:0.0345634 G-ABS: 1.0084236\n",
      "Loss@380: 11.732918 - Fid: 0.45610088, Neg: 0.0, Pos: 0.0061789704, TV: 11.2706375 G-Phase:0.034730475 G-ABS: 1.0075715\n",
      "Loss@390: 11.717468 - Fid: 0.44147933, Neg: 0.0, Pos: 0.005368672, TV: 11.27062 G-Phase:0.034891497 G-ABS: 1.0067261\n",
      "Loss@400: 11.702783 - Fid: 0.42750835, Neg: 0.0, Pos: 0.0046717217, TV: 11.270602 G-Phase:0.03504677 G-ABS: 1.0058876\n",
      "Loss@410: 11.68878 - Fid: 0.4141217, Neg: 0.0, Pos: 0.004072761, TV: 11.270585 G-Phase:0.03519645 G-ABS: 1.005056\n",
      "Loss@420: 11.675402 - Fid: 0.40128595, Neg: 0.0, Pos: 0.0035492366, TV: 11.270567 G-Phase:0.03534077 G-ABS: 1.0042313\n",
      "Loss@430: 11.6626 - Fid: 0.38894555, Neg: 0.0, Pos: 0.0031020273, TV: 11.270552 G-Phase:0.035479903 G-ABS: 1.0034138\n",
      "Loss@440: 11.650324 - Fid: 0.3770768, Neg: 0.0, Pos: 0.002711976, TV: 11.270535 G-Phase:0.035614055 G-ABS: 1.0026033\n",
      "Loss@450: 11.63852 - Fid: 0.3656296, Neg: 0.0, Pos: 0.0023698104, TV: 11.270521 G-Phase:0.03574331 G-ABS: 1.0018\n",
      "Loss@460: 11.627169 - Fid: 0.35457182, Neg: 0.0, Pos: 0.0020879293, TV: 11.270509 G-Phase:0.035867985 G-ABS: 1.001004\n",
      "Loss@470: 11.616209 - Fid: 0.34388956, Neg: 0.0, Pos: 0.0018259668, TV: 11.2704935 G-Phase:0.03598822 G-ABS: 1.0002154\n",
      "Loss@480: 11.605626 - Fid: 0.33353263, Neg: 0.0, Pos: 0.001612863, TV: 11.27048 G-Phase:0.03610433 G-ABS: 0.9994345\n",
      "Loss@490: 11.595392 - Fid: 0.32349575, Neg: 0.0, Pos: 0.0014271907, TV: 11.27047 G-Phase:0.036216386 G-ABS: 0.9986612\n",
      "Loss@500: 11.585474 - Fid: 0.3137564, Neg: 0.0, Pos: 0.0012609686, TV: 11.270456 G-Phase:0.036324535 G-ABS: 0.99789566\n",
      "Loss@510: 11.575863 - Fid: 0.30429888, Neg: 0.0, Pos: 0.0011196599, TV: 11.270444 G-Phase:0.036428984 G-ABS: 0.9971376\n",
      "Loss@520: 11.566533 - Fid: 0.29510364, Neg: 0.0, Pos: 0.0009987969, TV: 11.270431 G-Phase:0.036529873 G-ABS: 0.99638754\n",
      "Loss@530: 11.557465 - Fid: 0.28615385, Neg: 0.0, Pos: 0.00089115545, TV: 11.27042 G-Phase:0.03662741 G-ABS: 0.9956453\n",
      "Loss@540: 11.548639 - Fid: 0.27743405, Neg: 0.0, Pos: 0.0007964496, TV: 11.270409 G-Phase:0.03672181 G-ABS: 0.99491096\n",
      "Loss@550: 11.540054 - Fid: 0.26893127, Neg: 0.0, Pos: 0.0007229879, TV: 11.2704 G-Phase:0.036813166 G-ABS: 0.99418473\n",
      "Loss@560: 11.531699 - Fid: 0.2606541, Neg: 0.0, Pos: 0.00065685296, TV: 11.270389 G-Phase:0.036901616 G-ABS: 0.99346673\n",
      "Loss@570: 11.523557 - Fid: 0.25258863, Neg: 0.0, Pos: 0.00059051637, TV: 11.270377 G-Phase:0.03698723 G-ABS: 0.9927571\n",
      "Loss@580: 11.515617 - Fid: 0.24471435, Neg: 0.0, Pos: 0.000538739, TV: 11.270364 G-Phase:0.037070163 G-ABS: 0.9920559\n",
      "Loss@590: 11.507871 - Fid: 0.23702547, Neg: 0.0, Pos: 0.0004918647, TV: 11.270353 G-Phase:0.037150614 G-ABS: 0.9913633\n",
      "Loss@600: 11.500313 - Fid: 0.22951956, Neg: 0.0, Pos: 0.0004513892, TV: 11.270342 G-Phase:0.037228536 G-ABS: 0.99067956\n",
      "Loss@610: 11.492934 - Fid: 0.22218814, Neg: 0.0, Pos: 0.00041495284, TV: 11.270331 G-Phase:0.037304256 G-ABS: 0.9900048\n",
      "Loss@620: 11.485734 - Fid: 0.21502772, Neg: 0.0, Pos: 0.00038420022, TV: 11.270322 G-Phase:0.037377622 G-ABS: 0.98933905\n",
      "Loss@630: 11.478699 - Fid: 0.20803644, Neg: 0.0, Pos: 0.00035212375, TV: 11.27031 G-Phase:0.03744884 G-ABS: 0.98868275\n",
      "Loss@640: 11.471836 - Fid: 0.20120524, Neg: 0.0, Pos: 0.0003300239, TV: 11.270301 G-Phase:0.037517946 G-ABS: 0.9880354\n",
      "Loss@650: 11.465134 - Fid: 0.1945386, Neg: 0.0, Pos: 0.00030509627, TV: 11.27029 G-Phase:0.037585087 G-ABS: 0.98739773\n",
      "Loss@660: 11.458594 - Fid: 0.18802871, Neg: 0.0, Pos: 0.00028482798, TV: 11.270281 G-Phase:0.037650313 G-ABS: 0.9867696\n",
      "Loss@670: 11.452215 - Fid: 0.18167418, Neg: 0.0, Pos: 0.00026844232, TV: 11.270272 G-Phase:0.037713632 G-ABS: 0.9861513\n",
      "Loss@680: 11.445996 - Fid: 0.17548007, Neg: 0.0, Pos: 0.00025121844, TV: 11.270265 G-Phase:0.037775192 G-ABS: 0.98554295\n",
      "Loss@690: 11.439929 - Fid: 0.16944066, Neg: 0.0, Pos: 0.00023359997, TV: 11.270255 G-Phase:0.037834987 G-ABS: 0.9849447\n",
      "Loss@700: 11.434015 - Fid: 0.16355053, Neg: 0.0, Pos: 0.00022036344, TV: 11.270245 G-Phase:0.0378931 G-ABS: 0.98435634\n",
      "Loss@710: 11.428252 - Fid: 0.15780985, Neg: 0.0, Pos: 0.00020658379, TV: 11.270236 G-Phase:0.03794954 G-ABS: 0.9837783\n",
      "Loss@720: 11.422634 - Fid: 0.15221277, Neg: 0.0, Pos: 0.00019473975, TV: 11.2702265 G-Phase:0.038004413 G-ABS: 0.9832104\n",
      "Loss@730: 11.41717 - Fid: 0.14676656, Neg: 0.0, Pos: 0.00018421703, TV: 11.270219 G-Phase:0.038057666 G-ABS: 0.9826527\n",
      "Loss@740: 11.411852 - Fid: 0.14146581, Neg: 0.0, Pos: 0.00017522663, TV: 11.270211 G-Phase:0.038109444 G-ABS: 0.9821056\n",
      "Loss@750: 11.40668 - Fid: 0.13631102, Neg: 0.0, Pos: 0.00016623134, TV: 11.270203 G-Phase:0.038159855 G-ABS: 0.9815692\n",
      "Loss@760: 11.401649 - Fid: 0.13129804, Neg: 0.0, Pos: 0.00015595245, TV: 11.270195 G-Phase:0.038208876 G-ABS: 0.98104304\n",
      "Loss@770: 11.396762 - Fid: 0.12642896, Neg: 0.0, Pos: 0.0001476062, TV: 11.270185 G-Phase:0.038256552 G-ABS: 0.9805275\n",
      "Loss@780: 11.392017 - Fid: 0.12170033, Neg: 0.0, Pos: 0.00013977695, TV: 11.270177 G-Phase:0.038302913 G-ABS: 0.98002267\n",
      "Loss@790: 11.387413 - Fid: 0.11711206, Neg: 0.0, Pos: 0.00013256086, TV: 11.270168 G-Phase:0.038347878 G-ABS: 0.9795283\n",
      "Loss@800: 11.382946 - Fid: 0.11266243, Neg: 0.0, Pos: 0.00012434926, TV: 11.270159 G-Phase:0.038391605 G-ABS: 0.97904444\n",
      "Loss@810: 11.378614 - Fid: 0.10834579, Neg: 0.0, Pos: 0.00011761516, TV: 11.270151 G-Phase:0.038433995 G-ABS: 0.9785715\n",
      "Loss@820: 11.374418 - Fid: 0.10416292, Neg: 0.0, Pos: 0.00011168435, TV: 11.2701435 G-Phase:0.03847533 G-ABS: 0.97810876\n",
      "Loss@830: 11.370354 - Fid: 0.10011239, Neg: 0.0, Pos: 0.00010579719, TV: 11.270136 G-Phase:0.038515355 G-ABS: 0.9776569\n",
      "Loss@840: 11.366422 - Fid: 0.09619264, Neg: 0.0, Pos: 0.00010080486, TV: 11.270128 G-Phase:0.038554117 G-ABS: 0.9772154\n",
      "Loss@850: 11.362619 - Fid: 0.09240477, Neg: 0.0, Pos: 9.411193e-05, TV: 11.270121 G-Phase:0.038591757 G-ABS: 0.9767843\n",
      "Loss@860: 11.358946 - Fid: 0.088741355, Neg: 0.0, Pos: 8.939793e-05, TV: 11.270115 G-Phase:0.03862824 G-ABS: 0.97636384\n",
      "Loss@870: 11.355396 - Fid: 0.085203856, Neg: 0.0, Pos: 8.4965315e-05, TV: 11.270107 G-Phase:0.038663685 G-ABS: 0.9759536\n",
      "Loss@880: 11.351971 - Fid: 0.08179012, Neg: 0.0, Pos: 8.046294e-05, TV: 11.2701 G-Phase:0.03869812 G-ABS: 0.97555393\n",
      "Loss@890: 11.348667 - Fid: 0.0784968, Neg: 0.0, Pos: 7.6666845e-05, TV: 11.270094 G-Phase:0.038731523 G-ABS: 0.9751645\n",
      "Loss@900: 11.345479 - Fid: 0.07532212, Neg: 0.0, Pos: 7.164543e-05, TV: 11.270085 G-Phase:0.038763884 G-ABS: 0.97478527\n",
      "Loss@910: 11.34241 - Fid: 0.07226264, Neg: 0.0, Pos: 6.898449e-05, TV: 11.270079 G-Phase:0.038795322 G-ABS: 0.9744162\n",
      "Loss@920: 11.339458 - Fid: 0.069319665, Neg: 0.0, Pos: 6.589892e-05, TV: 11.270073 G-Phase:0.038825665 G-ABS: 0.9740571\n",
      "Loss@930: 11.336618 - Fid: 0.06648831, Neg: 0.0, Pos: 6.243073e-05, TV: 11.270067 G-Phase:0.03885524 G-ABS: 0.973708\n",
      "Loss@940: 11.333886 - Fid: 0.06376651, Neg: 0.0, Pos: 5.8653415e-05, TV: 11.270061 G-Phase:0.03888362 G-ABS: 0.9733687\n",
      "Loss@950: 11.331259 - Fid: 0.061149836, Neg: 0.0, Pos: 5.597194e-05, TV: 11.270053 G-Phase:0.03891134 G-ABS: 0.97303915\n",
      "Loss@960: 11.328733 - Fid: 0.058635116, Neg: 0.0, Pos: 5.283024e-05, TV: 11.270045 G-Phase:0.038938217 G-ABS: 0.97271925\n",
      "Loss@970: 11.326309 - Fid: 0.056219954, Neg: 0.0, Pos: 4.987442e-05, TV: 11.27004 G-Phase:0.03896414 G-ABS: 0.9724087\n",
      "Loss@980: 11.323981 - Fid: 0.053901672, Neg: 0.0, Pos: 4.7100395e-05, TV: 11.270033 G-Phase:0.03898926 G-ABS: 0.97210735\n",
      "Loss@990: 11.321748 - Fid: 0.051677242, Neg: 0.0, Pos: 4.4750177e-05, TV: 11.270026 G-Phase:0.03901357 G-ABS: 0.9718151\n",
      "Loss@1000: 11.319607 - Fid: 0.04954412, Neg: 0.0, Pos: 4.211668e-05, TV: 11.2700205 G-Phase:0.039037198 G-ABS: 0.9715318\n",
      "Loss@1010: 11.317554 - Fid: 0.04750009, Neg: 0.0, Pos: 4.007769e-05, TV: 11.270015 G-Phase:0.03905997 G-ABS: 0.97125745\n",
      "Loss@1020: 11.315589 - Fid: 0.04554209, Neg: 0.0, Pos: 3.850238e-05, TV: 11.270008 G-Phase:0.039081924 G-ABS: 0.9709917\n",
      "Loss@1030: 11.313709 - Fid: 0.04366979, Neg: 0.0, Pos: 3.67011e-05, TV: 11.270002 G-Phase:0.03910316 G-ABS: 0.97073466\n",
      "Loss@1040: 11.311909 - Fid: 0.041877847, Neg: 0.0, Pos: 3.4288554e-05, TV: 11.269997 G-Phase:0.039123747 G-ABS: 0.97048616\n",
      "Loss@1050: 11.310186 - Fid: 0.040162697, Neg: 0.0, Pos: 3.222919e-05, TV: 11.269992 G-Phase:0.03914358 G-ABS: 0.97024596\n",
      "Loss@1060: 11.30854 - Fid: 0.038522698, Neg: 0.0, Pos: 3.03831e-05, TV: 11.269987 G-Phase:0.039162878 G-ABS: 0.9700138\n",
      "Loss@1070: 11.306963 - Fid: 0.036952794, Neg: 0.0, Pos: 2.889907e-05, TV: 11.269981 G-Phase:0.03918134 G-ABS: 0.9697895\n",
      "Loss@1080: 11.305456 - Fid: 0.03545326, Neg: 0.0, Pos: 2.7316677e-05, TV: 11.269976 G-Phase:0.039199267 G-ABS: 0.9695731\n",
      "Loss@1090: 11.304015 - Fid: 0.034019668, Neg: 0.0, Pos: 2.5765557e-05, TV: 11.26997 G-Phase:0.03921662 G-ABS: 0.9693643\n",
      "Loss@1100: 11.302639 - Fid: 0.03264968, Neg: 0.0, Pos: 2.4839832e-05, TV: 11.269964 G-Phase:0.0392333 G-ABS: 0.96916294\n",
      "Loss@1110: 11.301327 - Fid: 0.031342853, Neg: 0.0, Pos: 2.3369264e-05, TV: 11.26996 G-Phase:0.039249368 G-ABS: 0.9689689\n",
      "Loss@1120: 11.300071 - Fid: 0.030094374, Neg: 0.0, Pos: 2.2101853e-05, TV: 11.269955 G-Phase:0.039265104 G-ABS: 0.968782\n",
      "Loss@1130: 11.298875 - Fid: 0.028903723, Neg: 0.0, Pos: 2.087733e-05, TV: 11.26995 G-Phase:0.03928012 G-ABS: 0.96860206\n",
      "Loss@1140: 11.297736 - Fid: 0.027768347, Neg: 0.0, Pos: 2.0871794e-05, TV: 11.269947 G-Phase:0.039294615 G-ABS: 0.968429\n",
      "Loss@1150: 11.296647 - Fid: 0.026685756, Neg: 0.0, Pos: 1.892982e-05, TV: 11.269942 G-Phase:0.03930901 G-ABS: 0.9682628\n",
      "Loss@1160: 11.2956085 - Fid: 0.025653716, Neg: 0.0, Pos: 1.7446664e-05, TV: 11.2699375 G-Phase:0.03932262 G-ABS: 0.968103\n",
      "Loss@1170: 11.294617 - Fid: 0.024666809, Neg: 0.0, Pos: 1.7379229e-05, TV: 11.269933 G-Phase:0.039335392 G-ABS: 0.96794933\n",
      "Loss@1180: 11.293748 - Fid: 0.023803473, Neg: 0.0, Pos: 1.8533363e-05, TV: 11.269926 G-Phase:0.039346613 G-ABS: 0.96780175\n",
      "Loss@1190: 11.306234 - Fid: 0.03623058, Neg: 0.0, Pos: 8.139707e-05, TV: 11.269922 G-Phase:0.039337475 G-ABS: 0.967657\n",
      "Loss@1200: 16.000563 - Fid: 4.71767, Neg: 0.0, Pos: 0.012977724, TV: 11.269916 G-Phase:0.03893495 G-ABS: 0.96755266\n",
      "Loss@1210: 26.392876 - Fid: 15.082647, Neg: 0.0, Pos: 0.040317066, TV: 11.269912 G-Phase:0.04025719 G-ABS: 0.9721255\n",
      "Loss@1220: 12.678023 - Fid: 1.390759, Neg: 0.0, Pos: 0.017317425, TV: 11.269947 G-Phase:0.039859325 G-ABS: 0.9764478\n",
      "Loss@1230: 13.252146 - Fid: 1.9701836, Neg: 0.0, Pos: 0.012014845, TV: 11.269947 G-Phase:0.040154155 G-ABS: 0.97829515\n",
      "Loss@1240: 11.420168 - Fid: 0.14761823, Neg: 0.0, Pos: 0.0026189813, TV: 11.269931 G-Phase:0.040691562 G-ABS: 0.9787998\n",
      "Loss@1250: 11.57551 - Fid: 0.3048123, Neg: 0.0, Pos: 0.0007807614, TV: 11.269917 G-Phase:0.04086653 G-ABS: 0.9786582\n",
      "Loss@1260: 11.438788 - Fid: 0.16854131, Neg: 0.0, Pos: 0.00034199006, TV: 11.269905 G-Phase:0.040930096 G-ABS: 0.978267\n",
      "Loss@1270: 11.361283 - Fid: 0.09121244, Neg: 0.0, Pos: 0.00017302824, TV: 11.269897 G-Phase:0.040990844 G-ABS: 0.97780657\n",
      "Loss@1280: 11.339858 - Fid: 0.06986654, Neg: 0.0, Pos: 0.000101543556, TV: 11.26989 G-Phase:0.04104815 G-ABS: 0.97734535\n",
      "Loss@1290: 11.329835 - Fid: 0.059877034, Neg: 0.0, Pos: 7.333986e-05, TV: 11.269884 G-Phase:0.04109574 G-ABS: 0.9769067\n",
      "Loss@1300: 11.321109 - Fid: 0.0511785, Neg: 0.0, Pos: 5.0842904e-05, TV: 11.269879 G-Phase:0.04113037 G-ABS: 0.97649604\n"
     ]
    }
   ],
   "source": [
    "#%%\n",
    "''' Optimize the model '''\n",
    "print('Start optimizing')\n",
    "mylosslist = []\n",
    "myfidelitylist = []\n",
    "myposlosslist = []\n",
    "myneglosslist = []\n",
    "mytvlosslist = []\n",
    "resultlist = []\n",
    "globalphaselist = []\n",
    "globalabslist = []\n",
    "np_meas = matlab_val # use the previously simulated data\n",
    "\n",
    "for iterx in range(0,Niter):\n",
    "    # try to optimize\n",
    "    \n",
    "    if(iterx==0 or not np.mod(iterx, Ndisplay)):\n",
    "        my_opt, my_res, my_loss, my_fidelity, my_negloss, my_posloss, my_tvloss, myglobalphase, myglobalabs =  \\\n",
    "            sess.run([tf_lossop, muscat.TF_obj, tf_loss, tf_fidelity, tf_negloss, tf_posloss, tf_tvloss, tf_globalphase, tf_globalabs], feed_dict={tf_meas:np_meas})\n",
    "\n",
    "        print('Loss@'+str(iterx)+': ' + str(my_loss) + ' - Fid: '+str(my_fidelity)+', Neg: '+str(my_negloss)+', Pos: '+str(my_posloss)+', TV: '+str(my_tvloss)+' G-Phase:'+str(myglobalphase)+' G-ABS: '+str(myglobalabs))        \n",
    "        mylosslist.append(my_loss)\n",
    "        myfidelitylist.append(my_fidelity)\n",
    "        myposlosslist.append(my_negloss)\n",
    "        myneglosslist.append(my_posloss)\n",
    "        mytvlosslist.append(my_tvloss)\n",
    "        resultlist.append(my_res)\n",
    "        globalphaselist.append(myglobalphase)\n",
    "        globalabslist.append(myglobalabs)  \n",
    "    else:\n",
    "        sess.run([tf_lossop], feed_dict={tf_meas:np_meas})\n",
    "        #plt.imshow(np.abs(my_res[:,50,:]))\n",
    "        \n",
    "\n",
    "#save stack to disk\n",
    "#sktiff.imsave(savepath+'Obj_Reconstruction.tif', np.array(resultlist), compress=6, metadata={'axes': 'TZXY'})"
   ]
  },
  {
   "cell_type": "markdown",
   "metadata": {},
   "source": [
    "# Display result - FFT"
   ]
  },
  {
   "cell_type": "code",
   "execution_count": null,
   "metadata": {
    "collapsed": false
   },
   "outputs": [],
   "source": [
    "#%% Display the results\n",
    "is_display=True\n",
    "myfwd, mymeas, my_res = sess.run([tf_fwd, tf_meas, muscat.TF_obj], feed_dict={tf_meas:np_meas})\n",
    "        \n",
    "if(is_display): plt.subplot(231),plt.title('FFT, Meas, YZ'), plt.imshow(np.abs(np.fft.fftshift(np.fft.fftn(mymeas))**.2)[:,muscat.mysize[1]//2,:]), plt.colorbar()#, plt.show()    \n",
    "if(is_display): plt.subplot(232),plt.title('FFT, Meas, XZ'), plt.imshow(np.abs(np.fft.fftshift(np.fft.fftn(mymeas))**.2)[muscat.mysize[0]//2,:,:]), plt.colorbar()#, plt.show()   \n",
    "if(is_display): plt.subplot(233),plt.title('FFT, Meas, XY'), plt.imshow(np.abs(np.fft.fftshift(np.fft.fftn(mymeas))**.2)[:,:,muscat.mysize[2]//2]), plt.colorbar()#, plt.show()     \n",
    "if(is_display): plt.subplot(234),plt.title('FFT, Meas, YZ'), plt.imshow(np.abs(np.fft.fftshift(np.fft.fftn(myfwd))**.2)[:,muscat.mysize[1]//2,:]), plt.colorbar()#, plt.show()\n",
    "if(is_display): plt.subplot(235),plt.title('FFT, Meas, XZ'), plt.imshow(np.abs(np.fft.fftshift(np.fft.fftn(myfwd))**.2)[muscat.mysize[0]//2,:,:]), plt.colorbar()#, plt.show()    \n",
    "if(is_display): plt.subplot(236),plt.title('FFT, Meas, XY'), plt.imshow(np.abs(np.fft.fftshift(np.fft.fftn(myfwd))**.2)[:,:,muscat.mysize[2]//2]), plt.colorbar(), plt.show()    \n",
    "if(is_display): plt.subplot(236),plt.title('FFT, Meas, XY'), plt.imshow(np.abs(np.fft.fftshift(np.fft.fftn(myfwd))**.2)[:,:,muscat.mysize[2]//2]), plt.colorbar(), plt.show()    \n",
    "\n",
    "\n",
    "#%% save the results\n",
    "#np.save(savepath+'/rec.npy', my_res)\n",
    "import src.data as data\n",
    "data.export_realdatastack_h5('temp.h5', 'temp', np.array(resultlist))\n"
   ]
  },
  {
   "cell_type": "markdown",
   "metadata": {},
   "source": [
    "# Display results ABS/Angle - FWD model"
   ]
  },
  {
   "cell_type": "code",
   "execution_count": null,
   "metadata": {
    "collapsed": false
   },
   "outputs": [],
   "source": [
    "\n",
    "if(is_display): plt.subplot(231), plt.title('ABS XZ'),plt.imshow(np.abs(myfwd)[:,muscat.mysize[1]//2,:]), plt.colorbar()#, plt.show()\n",
    "if(is_display): plt.subplot(232), plt.title('ABS XZ'),plt.imshow(np.abs(myfwd)[:,:,muscat.mysize[2]//2]), plt.colorbar()#, plt.show()\n",
    "if(is_display): plt.subplot(233), plt.title('ABS XY'),plt.imshow(np.abs(myfwd)[muscat.mysize[0]//2,:,:]), plt.colorbar()#, plt.show()\n",
    "\n",
    "if(is_display): plt.subplot(234), plt.title('Angle XZ'),plt.imshow(np.angle(myfwd)[:,muscat.mysize[1]//2,:]), plt.colorbar()#, plt.show()\n",
    "if(is_display): plt.subplot(235), plt.title('Angle XZ'),plt.imshow(np.angle(myfwd)[:,:,muscat.mysize[2]//2]), plt.colorbar()#, plt.show()\n",
    "if(is_display): plt.subplot(236), plt.title('Angle XY'),plt.imshow(np.angle(myfwd)[muscat.mysize[0]//2,:,:]), plt.colorbar(), plt.show()\n",
    "\n",
    "# diplay the error over time\n",
    "plt.subplot(241), plt.title('Error/Cost-function'), plt.plot(np.array(mylosslist))#, plt.show()\n",
    "plt.subplot(242), plt.title('Fidelity-function'), plt.plot(np.array(myfidelitylist))#, plt.show()\n",
    "plt.subplot(243), plt.title('Neg-loss-function'), plt.plot(np.array(myposlosslist))#, plt.show()\n",
    "plt.subplot(244), plt.title('Pos-loss-function'), plt.plot(np.array(myneglosslist))#, plt.show()\n",
    "plt.subplot(245), plt.title('TV-loss-function'), plt.plot(np.array(mytvlosslist))#, plt.show()\n",
    "plt.subplot(246), plt.title('Global Phase'), plt.plot(np.array(globalphaselist))#, plt.show()\n",
    "plt.subplot(247), plt.title('Global ABS'), plt.plot(np.array(globalabslist)), plt.show()\n",
    "\n"
   ]
  },
  {
   "cell_type": "markdown",
   "metadata": {},
   "source": [
    "# Display Result Refractive index"
   ]
  },
  {
   "cell_type": "code",
   "execution_count": null,
   "metadata": {
    "collapsed": false
   },
   "outputs": [],
   "source": [
    "if(False):\n",
    "    my_residual = tf_helper.abssqr(myfwd-mymeas)\n",
    "    if(is_display): plt.title('Residual: XZ'),plt.imshow(my_residual [:,muscat.mysize[1]//2,:]), plt.colorbar(), plt.show()\n",
    "    if(is_display): plt.title('Residual: XZ'),plt.imshow(my_residual [:,:,muscat.mysize[2]//2]), plt.colorbar(), plt.show()\n",
    "    if(is_display): plt.title('Residual: XY'),plt.imshow(my_residual [muscat.mysize[0]//2,:,:]), plt.colorbar(), plt.show()\n",
    "\n",
    "\n",
    "if(is_display): plt.subplot(131), plt.title('Result: XZ'),plt.imshow(my_res[:,muscat.mysize[1]//2,:]), plt.colorbar()#, plt.show()\n",
    "if(is_display): plt.subplot(132), plt.title('Result: XZ'),plt.imshow(my_res[:,:,muscat.mysize[2]//2]), plt.colorbar()#, plt.show()\n",
    "if(is_display): plt.subplot(133), plt.title('Result: XY'),plt.imshow(my_res[muscat.mysize[0]//2,:,:]), plt.colorbar(), plt.show()\n"
   ]
  },
  {
   "cell_type": "markdown",
   "metadata": {
    "collapsed": true
   },
   "source": [
    "# Display recovered pupil"
   ]
  },
  {
   "cell_type": "code",
   "execution_count": null,
   "metadata": {
    "collapsed": false
   },
   "outputs": [],
   "source": [
    "#plt.subplot(121), plt.imshow(np.angle(sess.run(muscat.TF_Po.eval)))\n",
    "print(np.real(sess.run(muscat.TF_zernikefactors)))\n",
    "plt.subplot(121), plt.title('Po Phase'), plt.imshow(np.fft.fftshift(np.angle(sess.run(muscat.TF_Po_aberr)))), plt.colorbar()\n",
    "plt.subplot(122), plt.title('Po abs'), plt.imshow(np.fft.fftshift(np.abs(sess.run(muscat.TF_Po_aberr)))), plt.colorbar(), plt.show()\n",
    "\n",
    "np.save('tmp.npy',np.array(resultlist))\n",
    "data.export_realdatastack_h5('temp.h5', 'temp', np.array(resultlist))"
   ]
  },
  {
   "cell_type": "markdown",
   "metadata": {},
   "source": [
    "# Save results"
   ]
  },
  {
   "cell_type": "markdown",
   "metadata": {},
   "source": [
    "# %% save the results\n",
    "np.save(savepath+'/rec.npy', my_res)\n",
    "data.saveHDF5(my_res, savepath+'/Obj_Reconstruction.h5')\n",
    "data.saveHDF5(np.abs(np_meas), savepath+'/Amplitude_abs.h5')\n",
    "data.saveHDF5(np.angle(np_meas), savepath+'/Amplitude_angle.h5')"
   ]
  },
  {
   "cell_type": "code",
   "execution_count": null,
   "metadata": {
    "collapsed": true
   },
   "outputs": [],
   "source": []
  },
  {
   "cell_type": "code",
   "execution_count": null,
   "metadata": {
    "collapsed": true
   },
   "outputs": [],
   "source": []
  },
  {
   "cell_type": "code",
   "execution_count": null,
   "metadata": {
    "collapsed": true
   },
   "outputs": [],
   "source": []
  }
 ],
 "metadata": {
  "kernelspec": {
   "display_name": "Python 3",
   "language": "python",
   "name": "python3"
  },
  "language_info": {
   "codemirror_mode": {
    "name": "ipython",
    "version": 3
   },
   "file_extension": ".py",
   "mimetype": "text/x-python",
   "name": "python",
   "nbconvert_exporter": "python",
   "pygments_lexer": "ipython3",
   "version": "3.6.1"
  }
 },
 "nbformat": 4,
 "nbformat_minor": 2
}
