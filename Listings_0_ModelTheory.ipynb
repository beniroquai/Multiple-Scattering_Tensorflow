{
 "cells": [
  {
   "cell_type": "markdown",
   "metadata": {},
   "source": [
    "# Model Theory "
   ]
  },
  {
   "cell_type": "markdown",
   "metadata": {},
   "source": [
    "Here we try to explain how the muscat model actually works. An in-detail analysis of each step is perfomed to explain why we do that. "
   ]
  },
  {
   "cell_type": "code",
   "execution_count": 10,
   "metadata": {},
   "outputs": [],
   "source": [
    "#!/usr/bin/env python2\n",
    "# -*- coding: utf-8 -*-\n",
    "\"\"\"\n",
    "Created on Sat Jun 10 19:53:32 2017\n",
    "\n",
    "@author: Bene\n",
    "\n",
    "This file creates a fwd-model for the TESCAN Q-PHASE under \n",
    "multiple-scattering. It is majorly derived from  \"LEarning approach for optical tomography\"\n",
    "U. S. Kamilov, BIG, EPFL, 2014.\n",
    "    \"\"\"\n",
    "# %load_ext autoreload\n",
    "import tensorflow as tf\n",
    "import numpy as np\n",
    "import matplotlib as mpl\n",
    "import matplotlib.pyplot as plt\n",
    "import os\n",
    "from datetime import datetime\n",
    "\n",
    "# change the following to %matplotlib notebook for interactive plotting\n",
    "# %matplotlib inline\n",
    "\n",
    "# Optionally, tweak styles.\n",
    "mpl.rc('figure',  figsize=(10, 6))\n",
    "mpl.rc('image', cmap='gray')\n",
    "\n",
    "# load own functions\n",
    "import src.model as mus\n",
    "import src.tf_generate_object as tf_go\n",
    "import src.data as data\n",
    "import src.zernike as zern\n",
    "import src.tf_helper as tf_helper\n",
    "\n"
   ]
  },
  {
   "cell_type": "markdown",
   "metadata": {},
   "source": [
    "## Setup the system "
   ]
  },
  {
   "cell_type": "code",
   "execution_count": 16,
   "metadata": {},
   "outputs": [],
   "source": [
    "# control switches\n",
    "is_zernike = True\n",
    "\n",
    "# ASsign variables from Experiment\n",
    "lambda0 = .65 # free space wavelength (µm)\n",
    "NAo= .95 # Numerical aperture objective\n",
    "NAc= .52 # Numerical aperture condenser\n",
    "NAci = 0 # Numerical aperture condenser (inner, darkfield)\n",
    "\n",
    "# eventually decenter the illumination source - only integer!\n",
    "shiftIcX = 0\n",
    "shiftIcY = 0\n",
    "\n",
    "nEmbb = 1.32\n",
    "dn=.1; # nImm - nEmbb\n",
    "\n",
    "# calculate pixelsize\n",
    "dx = 0.1568\n",
    "dy = 0.1568\n",
    "dz = 0.1625\n",
    "\n",
    "Nx = Ny = 31\n",
    "Nz = 70\n",
    "    \n",
    "# Sampling coordinates\n",
    "Rsim= 0.5*Nx*dx; # Radius over which simulation is performed.\n",
    "\n",
    "Nx=np.int(np.floor((2*Rsim)/dx)+1);\n",
    "Ny=np.int(np.floor((2*Rsim)/dy)+1)\n",
    "mysize=np.array((Nz, Nx, Ny))\n",
    "\n",
    "# create the first guess of the initial obj \n",
    "obj = np.ones((Nz, Nx, Ny))\n",
    "\n",
    "# add a vector of zernike factors\n",
    "nzernikes = 9\n",
    "zernikefactors = np.zeros((1,nzernikes))\n",
    "# kamilov uses 420 z-planes with an overall size of 30µm; dx=72nm\n",
    "\n",
    "# refractive index immersion and embedding\n",
    "lambdaM = lambda0/nEmbb; # wavelength in the medium"
   ]
  },
  {
   "cell_type": "code",
   "execution_count": 17,
   "metadata": {},
   "outputs": [
    {
     "name": "stdout",
     "output_type": "stream",
     "text": [
      "----------> Be aware: We are taking aberrations into account!\n",
      "We are weighing the Intensity int the illu-pupil!\n",
      "Number of Illumination Angles / Plane waves: 49\n"
     ]
    }
   ],
   "source": [
    "\"\"\" This computes the FWD-graph of the Q-PHASE microscope;\n",
    "1.) Compute the physical dimensions\n",
    "2.) Compute the sampling for the waves\n",
    "3.) Create the illumination waves depending on System's properties\n",
    "\n",
    "##### IMPORTANT! ##### \n",
    "The ordering of the channels is as follows:\n",
    "    Nillu, Nz, Nx, Ny\n",
    "\"\"\"\n",
    "\n",
    "TF_obj_phase_do = tf.constant(obj, dtype=tf.float32, name='Object_const')\n",
    "\n",
    "\n",
    "## Establish normalized coordinates.\n",
    "#-----------------------------------------\n",
    "vxx= tf_helper.xx((mysize[1], mysize[2]),'freq') * lambdaM * nEmbb / (dx * NAo);    # normalized optical coordinates in X\n",
    "vyy= tf_helper.yy((mysize[1], mysize[2]),'freq') * lambdaM * nEmbb / (dy * NAo);    # normalized optical coordinates in Y\n",
    "\n",
    "# AbbeLimit=lambda0/NAo;  # Rainer's Method\n",
    "# RelFreq = rr(mysize,'freq')*AbbeLimit/dx;  # Is not generally right (dx and dy)\n",
    "RelFreq = np.sqrt(tf_helper.abssqr(vxx) + tf_helper.abssqr(vyy));    # spanns the frequency grid of normalized pupil coordinates\n",
    "Po=RelFreq < 1.0;   # Create the pupil of the objective lens        \n",
    "\n",
    "# Precomputing the first 9 zernike coefficients \n",
    "myzernikes = np.zeros((Po.shape[0],Po.shape[1],nzernikes))+ 1j*np.zeros((Po.shape[0],Po.shape[1],nzernikes))\n",
    "r, theta = zern.cart2pol(vxx, vyy)        \n",
    "for i in range(0,nzernikes):\n",
    "    myzernikes[:,:,i] = np.fft.fftshift(zern.zernike(r, theta, i+1, norm=False)) # or 8 in X-direction\n",
    "    \n",
    "# eventually introduce a phase factor to approximate the experimental data better\n",
    "Po = np.fft.fftshift(Po)# Need to shift it before using as a low-pass filter    Po=np.ones((np.shape(Po)))\n",
    "if is_zernike:\n",
    "    print('----------> Be aware: We are taking aberrations into account!')\n",
    "    # Assuming: System has coma along X-direction\n",
    "    myaberration = np.sum(zernikefactors * myzernikes, axis=2)\n",
    "    Po = 1.*Po\n",
    "\n",
    "# Prepare the normalized spatial-frequency grid.\n",
    "S = NAc/NAo;   # Coherence factor\n",
    "Ic = RelFreq <= S\n",
    "myIntensityFactor = 70\n",
    "Ic_map = np.cos((myIntensityFactor *tf_helper.xx((Nx, Ny), mode='freq')**2+myIntensityFactor *tf_helper.yy((Nx, Ny), mode='freq')**2))**2 \n",
    "Ic = Ic * Ic_map # weight the intensity in the condenser aperture, unlikely to be uniform\n",
    "print('We are weighing the Intensity int the illu-pupil!')\n",
    "\n",
    "if(False):\n",
    "    if hasattr(self, 'NAci'):\n",
    "        if NAci != None and NAci > 0:\n",
    "            #print('I detected a darkfield illumination aperture!')\n",
    "            S_o = NAc/NAo;   # Coherence factor\n",
    "            S_i = NAci/NAo;   # Coherence factor\n",
    "            Ic = (1.*(RelFreq < S_o) * 1.*(RelFreq > S_i))>0 # Create the pupil of the condenser plane\n",
    "\n",
    "    # Shift the pupil in X-direction (optical missalignment)\n",
    "    if hasattr(self, 'shiftIcX'):\n",
    "        if shiftIcX != None:\n",
    "            print('Shifting the illumination in X by: ' + str(shiftIcX) + ' Pixel')\n",
    "            Ic = np.roll(Ic, shiftIcX, axis=1)\n",
    "\n",
    "    # Shift the pupil in Y-direction (optical missalignment)\n",
    "    if hasattr(self, 'shiftIcY'):\n",
    "        if shiftIcY != None:\n",
    "            print('Shifting the illumination in Y by: ' + str(shiftIcY) + ' Pixel')\n",
    "            Ic = np.roll(Ic, shiftIcY, axis=0)\n",
    "\n",
    "## Forward propagator  (Ewald sphere based) DO NOT USE NORMALIZED COORDINATES HERE\n",
    "kxysqr= (tf_helper.abssqr(tf_helper.xx((mysize[1], mysize[2]), 'freq') / dx) + tf_helper.abssqr(\n",
    "    tf_helper.yy((mysize[1], mysize[2]), 'freq') / dy)) + 0j;\n",
    "k0=1/lambdaM;\n",
    "kzsqr= tf_helper.abssqr(k0) - kxysqr;\n",
    "kz=np.sqrt(kzsqr);\n",
    "kz[kzsqr < 0]=0;\n",
    "dphi = 2*np.pi*kz*dz;  # exp(1i*kz*dz) would be the propagator for one slice\n",
    "\n",
    "## Get a list of vector coordinates corresponding to the pixels in the mask\n",
    "xfreq= tf_helper.xx((mysize[1], mysize[2]),'freq');\n",
    "yfreq= tf_helper.yy((mysize[1], mysize[2]),'freq');\n",
    "Nc=np.sum(Ic>0); \n",
    "print('Number of Illumination Angles / Plane waves: '+str(Nc))\n",
    "\n",
    "# Calculate the computatonal grid/sampling\n",
    "kxcoord = np.reshape(xfreq[Ic>0],[1, 1, 1, Nc]);    # NA-positions in condenser aperture plane in x-direction\n",
    "kycoord = np.reshape(yfreq[Ic>0],[1, 1, 1, Nc]);    # NA-positions in condenser aperture plane in y-direction\n",
    "RefrCos = np.reshape(k0/kz[Ic>0],[1, 1, 1, Nc]);   # 1/cosine used for the application of the refractive index steps to acount for longer OPD in medium under an oblique illumination angle\n",
    "\n",
    "## Generate the illumination amplitudes\n",
    "intensityweights = Ic[Ic>0]\n",
    "A_input = intensityweights *np.exp((2*np.pi*1j) * \n",
    "    (kxcoord * tf_helper.repmat4d(tf_helper.xx((mysize[1], mysize[2])), Nc) \n",
    "   + kycoord * tf_helper.repmat4d(tf_helper.yy((mysize[1], mysize[2])), Nc))) # Corresponds to a plane wave under many oblique illumination angles - bfxfun\n",
    "\n",
    "## propagate field to z-stack and sum over all illumination angles\n",
    "Alldphi = -np.reshape(np.arange(0, mysize[0], 1), [1, 1, mysize[0]])*np.repeat(np.fft.fftshift(dphi)[:, :, np.newaxis], mysize[0], axis=2)\n",
    " \n",
    "# Ordinary backpropagation. This is NOT what we are interested in:\n",
    "myAllSlicePropagator=np.transpose(np.exp(1j*Alldphi) * (np.repeat(np.fft.fftshift(dphi)[:, :, np.newaxis], mysize[0], axis=2) >0), [2, 0, 1]);  # Propagates a single end result backwards to all slices\n",
    "\n",
    "\n"
   ]
  },
  {
   "cell_type": "markdown",
   "metadata": {},
   "source": [
    "# Display Pupils "
   ]
  },
  {
   "cell_type": "code",
   "execution_count": 19,
   "metadata": {},
   "outputs": [
    {
     "data": {
      "image/png": "[encoded data removed]",
      "text/plain": [
       "<Figure size 720x432 with 6 Axes>"
      ]
     },
     "metadata": {
      "needs_background": "light"
     },
     "output_type": "display_data"
    },
    {
     "name": "stdout",
     "output_type": "stream",
     "text": [
      "(32, 32)\n"
     ]
    }
   ],
   "source": [
    "plt.subplot(131), plt.title('Ic - Condenser Pupil'), plt.imshow(Ic), plt.colorbar()\n",
    "plt.subplot(132), plt.title('Po - Objetive Pupil (ABS)'),plt.imshow(np.fft.fftshift(np.abs(Po))), plt.colorbar()\n",
    "plt.subplot(133), plt.title('Po - Objetive Pupil (Angle)'),plt.imshow(np.fft.fftshift(np.angle(Po))), plt.colorbar(), plt.show()\n"
   ]
  },
  {
   "cell_type": "code",
   "execution_count": null,
   "metadata": {},
   "outputs": [],
   "source": []
  }
 ],
 "metadata": {
  "kernelspec": {
   "display_name": "Python 3",
   "language": "python",
   "name": "python3"
  },
  "language_info": {
   "codemirror_mode": {
    "name": "ipython",
    "version": 3
   },
   "file_extension": ".py",
   "mimetype": "text/x-python",
   "name": "python",
   "nbconvert_exporter": "python",
   "pygments_lexer": "ipython3",
   "version": "3.6.6"
  }
 },
 "nbformat": 4,
 "nbformat_minor": 2
}
