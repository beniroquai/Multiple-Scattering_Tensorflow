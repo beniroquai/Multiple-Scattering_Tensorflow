{
 "cells": [
  {
   "cell_type": "markdown",
   "metadata": {},
   "source": [
    "# This is the minimum Working Example to compute a multiple scattering experiment in the Q-Phase "
   ]
  },
  {
   "cell_type": "code",
   "execution_count": 2,
   "metadata": {},
   "outputs": [
    {
     "name": "stderr",
     "output_type": "stream",
     "text": [
      "C:\\ProgramData\\Anaconda3\\lib\\site-packages\\h5py\\__init__.py:72: UserWarning: h5py is running against HDF5 1.10.2 when it was built against 1.10.3, this may cause problems\n",
      "  '{0}.{1}.{2}'.format(*version.hdf5_built_version_tuple)\n"
     ]
    }
   ],
   "source": [
    "#!/usr/bin/env python2\n",
    "# -*- coding: utf-8 -*-\n",
    "\"\"\"\n",
    "Created on Sat Jun 10 19:53:32 2017\n",
    "\n",
    "@author: Bene\n",
    "\n",
    "This file creates a fwd-model for the TESCAN Q-PHASE under \n",
    "multiple-scattering. It is majorly derived from  \"LEarning approach for optical tomography\"\n",
    "U. S. Kamilov, BIG, EPFL, 2014.\n",
    "\"\"\"\n",
    "# %load_ext autoreload\n",
    "import tensorflow as tf\n",
    "import numpy as np\n",
    "import matplotlib as mpl\n",
    "import matplotlib.pyplot as plt\n",
    "import os\n",
    "from datetime import datetime\n",
    "\n",
    "# load own functions\n",
    "import src.model as mus\n",
    "import src.tf_helper as tf_helper\n",
    "import src.tf_generate_object as tf_go\n",
    "import src.data as data\n",
    "import src.optimization.tf_regularizers as reg\n",
    "\n",
    "\n",
    "# change the following to %matplotlib notebook for interactive plotting\n",
    "# %matplotlib inline\n",
    "\n",
    "# Optionally, tweak styles.\n",
    "mpl.rc('figure',  figsize=(8, 5))\n",
    "mpl.rc('image', cmap='gray')\n"
   ]
  },
  {
   "cell_type": "markdown",
   "metadata": {},
   "source": [
    "# Define some optimization parameters "
   ]
  },
  {
   "cell_type": "code",
   "execution_count": 3,
   "metadata": {},
   "outputs": [],
   "source": [
    "'''Define some stuff related to infrastructure'''\n",
    "mytimestamp = datetime.now().strftime('%Y-%m-%d_%H-%M-%S')\n",
    "savepath = os.path.join('./Data/DROPLETS/RESULTS/', mytimestamp)\n",
    "\n",
    "# Create directory\n",
    "try: \n",
    "    os.mkdir(savepath)\n",
    "except(FileExistsError): \n",
    "    print('Folder exists already')\n",
    "\n",
    "# Define parameters \n",
    "is_padding = False\n",
    "is_display = True\n",
    "is_optimization = True \n",
    "is_optimization_psf = True#True\n",
    "is_flip = False\n",
    "\n",
    "# data files for parameters and measuremets \n",
    "matlab_val_file = './Data/DROPLETS/allAmp_red.mat'      #'./Data/DROPLETS/allAmp_simu.npy' #\n",
    "matlab_par_file = './Data/DROPLETS/myParameterNew.mat'   \n",
    "\n",
    "# microscope parameters\n",
    "zernikefactors = np.array((0,0,0,0,0,0,0,0,0)) # representing the 9 first zernike coefficients in noll-writings \n",
    "dn = .1 # refractive index of the object (difference)\n",
    "\n",
    "'''Define Optimization Parameters'''\n",
    "my_learningrate = 1e-3  # learning rate\n",
    "lambda_tv = 1e-3 # lambda for Total variation\n",
    "lambda_gr = 0 # lambda for Goods Roughness \n",
    "lambda_pos = 10\n",
    "lambda_neg = 10\n",
    "\n",
    "Niter = 10000\n",
    "Ndisplay = 10\n",
    "\n",
    "\n",
    "'''START CODE'''\n",
    "tf.reset_default_graph() # just in case there was an open session"
   ]
  },
  {
   "cell_type": "markdown",
   "metadata": {},
   "source": [
    "# Generate Test-Object"
   ]
  },
  {
   "cell_type": "code",
   "execution_count": 4,
   "metadata": {},
   "outputs": [
    {
     "name": "stdout",
     "output_type": "stream",
     "text": [
      "do we need to flip the data?! -> Observe FFT!!\n",
      "Assigned some value for dn which is not good!\n",
      "Attention: Changed Z-sampling!!\n"
     ]
    }
   ],
   "source": [
    "''' File which stores the experimental parameters from the Q-PHASE setup \n",
    "    1.) Read in the parameters of the dataset ''' \n",
    "matlab_pars = data.import_parameters_mat(filename = matlab_par_file, matname='myParameterNew')\n",
    "\n",
    "''' 2.) Read in the parameters of the dataset ''' \n",
    "if(matlab_val_file.find('mat')==-1):\n",
    "    matlab_val = np.load(matlab_val_file)\n",
    "else:\n",
    "    matlab_val = data.import_realdata_h5(filename = matlab_val_file, matname='allAmp_red', is_complex=True)\n",
    "\n",
    "if(is_flip):\n",
    "    np_meas = np.flip(matlab_val,0)\n",
    "    print('Attention: We are flipping the data!')\n",
    "else:\n",
    "    np_meas = matlab_val\n",
    "print('do we need to flip the data?! -> Observe FFT!!')\n",
    "\n",
    "\n",
    "''' Create the Model'''\n",
    "muscat = mus.MuScatModel(matlab_pars, is_optimization=is_optimization, is_optimization_psf = is_optimization_psf)\n",
    "muscat.Nx,muscat.Ny = int(np.squeeze(matlab_pars['Nx'].value)), int(np.squeeze(matlab_pars['Ny'].value))\n",
    "muscat.shiftIcY=0\n",
    "muscat.shiftIcX=0\n",
    "muscat.dn = dn\n",
    "#muscat.NAc =.4\n",
    "muscat.dz = muscat.lambda0/4\n",
    "print('Attention: Changed Z-sampling!!')\n",
    "\n",
    "''' Adjust some parameters to fit it in the memory '''\n",
    "muscat.mysize = (muscat.Nz,muscat.Nx,muscat.Ny) # ordering is (Nillu, Nz, Nx, Ny)\n",
    "\n",
    "''' Create a 3D Refractive Index Distributaton as a artificial sample'''\n",
    "obj = tf_go.generateObject(mysize=muscat.mysize, obj_dim=(muscat.dz,muscat.dx,muscat.dy), obj_type ='sphere', diameter = 1, dn = muscat.dn)\n",
    "\n",
    "# introduce zernike factors here\n",
    "muscat.zernikefactors = zernikefactors"
   ]
  },
  {
   "cell_type": "markdown",
   "metadata": {},
   "source": [
    "# Compute the System's properties (e.g. Pupil function/Illumination Source, K-vectors, etc.)"
   ]
  },
  {
   "cell_type": "code",
   "execution_count": 7,
   "metadata": {},
   "outputs": [
    {
     "name": "stdout",
     "output_type": "stream",
     "text": [
      "----------> Be aware: We are taking aberrations into account!\n",
      "Shifting the illumination in X by: 0 Pixel\n",
      "Shifting the illumination in Y by: 0 Pixel\n",
      "Number of Illumination Angles / Plane waves: 49\n",
      "(32, 32)\n",
      "<src.model.MuScatModel object at 0x0000019B9005D5F8>\n"
     ]
    }
   ],
   "source": [
    "''' Compute the systems model'''\n",
    "muscat.computesys(obj, is_zernike=True)\n",
    "print(muscat.Ic.shape)"
   ]
  },
  {
   "cell_type": "markdown",
   "metadata": {},
   "source": [
    "# Generate Computational Graph (fwd model)"
   ]
  },
  {
   "cell_type": "code",
   "execution_count": 5,
   "metadata": {},
   "outputs": [
    {
     "name": "stdout",
     "output_type": "stream",
     "text": [
      "Buildup Q-PHASE Model \n",
      "WARNING:tensorflow:Variable += will be deprecated. Use variable.assign_add if you want assignment to the variable value or 'x = x + y' if you want a new python Tensor object.\n"
     ]
    },
    {
     "name": "stderr",
     "output_type": "stream",
     "text": [
      "C:\\ProgramData\\Anaconda3\\lib\\site-packages\\tensorflow\\python\\framework\\tensor_util.py:416: ComplexWarning: Casting complex values to real discards the imaginary part\n",
      "  nparray = values.astype(dtype.as_numpy_dtype)\n"
     ]
    },
    {
     "name": "stdout",
     "output_type": "stream",
     "text": [
      "Tensor(\"Fwd_Propagate/Refract/Cast:0\", shape=(31, 31), dtype=complex64)\n",
      "Tensor(\"Variable_assignment/Reshape:0\", shape=(45, 1, 1), dtype=complex64)\n",
      "Tensor(\"Fwd_Propagate/Refract/Cast_1:0\", shape=(31, 31), dtype=complex64)\n",
      "1j\n",
      "Tensor(\"Fwd_Propagate/Refract_1/Cast:0\", shape=(31, 31), dtype=complex64)\n",
      "Tensor(\"Variable_assignment/Reshape:0\", shape=(45, 1, 1), dtype=complex64)\n",
      "Tensor(\"Fwd_Propagate/Refract_1/Cast_1:0\", shape=(31, 31), dtype=complex64)\n",
      "1j\n",
      "Tensor(\"Fwd_Propagate/Refract_2/Cast:0\", shape=(31, 31), dtype=complex64)\n",
      "Tensor(\"Variable_assignment/Reshape:0\", shape=(45, 1, 1), dtype=complex64)\n",
      "Tensor(\"Fwd_Propagate/Refract_2/Cast_1:0\", shape=(31, 31), dtype=complex64)\n",
      "1j\n",
      "Tensor(\"Fwd_Propagate/Refract_3/Cast:0\", shape=(31, 31), dtype=complex64)\n",
      "Tensor(\"Variable_assignment/Reshape:0\", shape=(45, 1, 1), dtype=complex64)\n",
      "Tensor(\"Fwd_Propagate/Refract_3/Cast_1:0\", shape=(31, 31), dtype=complex64)\n",
      "1j\n",
      "Tensor(\"Fwd_Propagate/Refract_4/Cast:0\", shape=(31, 31), dtype=complex64)\n",
      "Tensor(\"Variable_assignment/Reshape:0\", shape=(45, 1, 1), dtype=complex64)\n",
      "Tensor(\"Fwd_Propagate/Refract_4/Cast_1:0\", shape=(31, 31), dtype=complex64)\n",
      "1j\n",
      "Tensor(\"Fwd_Propagate/Refract_5/Cast:0\", shape=(31, 31), dtype=complex64)\n",
      "Tensor(\"Variable_assignment/Reshape:0\", shape=(45, 1, 1), dtype=complex64)\n",
      "Tensor(\"Fwd_Propagate/Refract_5/Cast_1:0\", shape=(31, 31), dtype=complex64)\n",
      "1j\n",
      "Tensor(\"Fwd_Propagate/Refract_6/Cast:0\", shape=(31, 31), dtype=complex64)\n",
      "Tensor(\"Variable_assignment/Reshape:0\", shape=(45, 1, 1), dtype=complex64)\n",
      "Tensor(\"Fwd_Propagate/Refract_6/Cast_1:0\", shape=(31, 31), dtype=complex64)\n",
      "1j\n",
      "Tensor(\"Fwd_Propagate/Refract_7/Cast:0\", shape=(31, 31), dtype=complex64)\n",
      "Tensor(\"Variable_assignment/Reshape:0\", shape=(45, 1, 1), dtype=complex64)\n",
      "Tensor(\"Fwd_Propagate/Refract_7/Cast_1:0\", shape=(31, 31), dtype=complex64)\n",
      "1j\n",
      "Tensor(\"Fwd_Propagate/Refract_8/Cast:0\", shape=(31, 31), dtype=complex64)\n",
      "Tensor(\"Variable_assignment/Reshape:0\", shape=(45, 1, 1), dtype=complex64)\n",
      "Tensor(\"Fwd_Propagate/Refract_8/Cast_1:0\", shape=(31, 31), dtype=complex64)\n",
      "1j\n",
      "Tensor(\"Fwd_Propagate/Refract_9/Cast:0\", shape=(31, 31), dtype=complex64)\n",
      "Tensor(\"Variable_assignment/Reshape:0\", shape=(45, 1, 1), dtype=complex64)\n",
      "Tensor(\"Fwd_Propagate/Refract_9/Cast_1:0\", shape=(31, 31), dtype=complex64)\n",
      "1j\n",
      "Tensor(\"Fwd_Propagate/Refract_10/Cast:0\", shape=(31, 31), dtype=complex64)\n",
      "Tensor(\"Variable_assignment/Reshape:0\", shape=(45, 1, 1), dtype=complex64)\n",
      "Tensor(\"Fwd_Propagate/Refract_10/Cast_1:0\", shape=(31, 31), dtype=complex64)\n",
      "1j\n",
      "Tensor(\"Fwd_Propagate/Refract_11/Cast:0\", shape=(31, 31), dtype=complex64)\n",
      "Tensor(\"Variable_assignment/Reshape:0\", shape=(45, 1, 1), dtype=complex64)\n",
      "Tensor(\"Fwd_Propagate/Refract_11/Cast_1:0\", shape=(31, 31), dtype=complex64)\n",
      "1j\n",
      "Tensor(\"Fwd_Propagate/Refract_12/Cast:0\", shape=(31, 31), dtype=complex64)\n",
      "Tensor(\"Variable_assignment/Reshape:0\", shape=(45, 1, 1), dtype=complex64)\n",
      "Tensor(\"Fwd_Propagate/Refract_12/Cast_1:0\", shape=(31, 31), dtype=complex64)\n",
      "1j\n",
      "Tensor(\"Fwd_Propagate/Refract_13/Cast:0\", shape=(31, 31), dtype=complex64)\n",
      "Tensor(\"Variable_assignment/Reshape:0\", shape=(45, 1, 1), dtype=complex64)\n",
      "Tensor(\"Fwd_Propagate/Refract_13/Cast_1:0\", shape=(31, 31), dtype=complex64)\n",
      "1j\n",
      "Tensor(\"Fwd_Propagate/Refract_14/Cast:0\", shape=(31, 31), dtype=complex64)\n",
      "Tensor(\"Variable_assignment/Reshape:0\", shape=(45, 1, 1), dtype=complex64)\n",
      "Tensor(\"Fwd_Propagate/Refract_14/Cast_1:0\", shape=(31, 31), dtype=complex64)\n",
      "1j\n",
      "Tensor(\"Fwd_Propagate/Refract_15/Cast:0\", shape=(31, 31), dtype=complex64)\n",
      "Tensor(\"Variable_assignment/Reshape:0\", shape=(45, 1, 1), dtype=complex64)\n",
      "Tensor(\"Fwd_Propagate/Refract_15/Cast_1:0\", shape=(31, 31), dtype=complex64)\n",
      "1j\n",
      "Tensor(\"Fwd_Propagate/Refract_16/Cast:0\", shape=(31, 31), dtype=complex64)\n",
      "Tensor(\"Variable_assignment/Reshape:0\", shape=(45, 1, 1), dtype=complex64)\n",
      "Tensor(\"Fwd_Propagate/Refract_16/Cast_1:0\", shape=(31, 31), dtype=complex64)\n",
      "1j\n",
      "Tensor(\"Fwd_Propagate/Refract_17/Cast:0\", shape=(31, 31), dtype=complex64)\n",
      "Tensor(\"Variable_assignment/Reshape:0\", shape=(45, 1, 1), dtype=complex64)\n",
      "Tensor(\"Fwd_Propagate/Refract_17/Cast_1:0\", shape=(31, 31), dtype=complex64)\n",
      "1j\n",
      "Tensor(\"Fwd_Propagate/Refract_18/Cast:0\", shape=(31, 31), dtype=complex64)\n",
      "Tensor(\"Variable_assignment/Reshape:0\", shape=(45, 1, 1), dtype=complex64)\n",
      "Tensor(\"Fwd_Propagate/Refract_18/Cast_1:0\", shape=(31, 31), dtype=complex64)\n",
      "1j\n",
      "Tensor(\"Fwd_Propagate/Refract_19/Cast:0\", shape=(31, 31), dtype=complex64)\n",
      "Tensor(\"Variable_assignment/Reshape:0\", shape=(45, 1, 1), dtype=complex64)\n",
      "Tensor(\"Fwd_Propagate/Refract_19/Cast_1:0\", shape=(31, 31), dtype=complex64)\n",
      "1j\n",
      "Tensor(\"Fwd_Propagate/Refract_20/Cast:0\", shape=(31, 31), dtype=complex64)\n",
      "Tensor(\"Variable_assignment/Reshape:0\", shape=(45, 1, 1), dtype=complex64)\n",
      "Tensor(\"Fwd_Propagate/Refract_20/Cast_1:0\", shape=(31, 31), dtype=complex64)\n",
      "1j\n",
      "Tensor(\"Fwd_Propagate/Refract_21/Cast:0\", shape=(31, 31), dtype=complex64)\n",
      "Tensor(\"Variable_assignment/Reshape:0\", shape=(45, 1, 1), dtype=complex64)\n",
      "Tensor(\"Fwd_Propagate/Refract_21/Cast_1:0\", shape=(31, 31), dtype=complex64)\n",
      "1j\n",
      "Tensor(\"Fwd_Propagate/Refract_22/Cast:0\", shape=(31, 31), dtype=complex64)\n",
      "Tensor(\"Variable_assignment/Reshape:0\", shape=(45, 1, 1), dtype=complex64)\n",
      "Tensor(\"Fwd_Propagate/Refract_22/Cast_1:0\", shape=(31, 31), dtype=complex64)\n",
      "1j\n",
      "Tensor(\"Fwd_Propagate/Refract_23/Cast:0\", shape=(31, 31), dtype=complex64)\n",
      "Tensor(\"Variable_assignment/Reshape:0\", shape=(45, 1, 1), dtype=complex64)\n",
      "Tensor(\"Fwd_Propagate/Refract_23/Cast_1:0\", shape=(31, 31), dtype=complex64)\n",
      "1j\n",
      "Tensor(\"Fwd_Propagate/Refract_24/Cast:0\", shape=(31, 31), dtype=complex64)\n",
      "Tensor(\"Variable_assignment/Reshape:0\", shape=(45, 1, 1), dtype=complex64)\n",
      "Tensor(\"Fwd_Propagate/Refract_24/Cast_1:0\", shape=(31, 31), dtype=complex64)\n",
      "1j\n",
      "Tensor(\"Fwd_Propagate/Refract_25/Cast:0\", shape=(31, 31), dtype=complex64)\n",
      "Tensor(\"Variable_assignment/Reshape:0\", shape=(45, 1, 1), dtype=complex64)\n",
      "Tensor(\"Fwd_Propagate/Refract_25/Cast_1:0\", shape=(31, 31), dtype=complex64)\n",
      "1j\n",
      "Tensor(\"Fwd_Propagate/Refract_26/Cast:0\", shape=(31, 31), dtype=complex64)\n",
      "Tensor(\"Variable_assignment/Reshape:0\", shape=(45, 1, 1), dtype=complex64)\n",
      "Tensor(\"Fwd_Propagate/Refract_26/Cast_1:0\", shape=(31, 31), dtype=complex64)\n",
      "1j\n",
      "Tensor(\"Fwd_Propagate/Refract_27/Cast:0\", shape=(31, 31), dtype=complex64)\n",
      "Tensor(\"Variable_assignment/Reshape:0\", shape=(45, 1, 1), dtype=complex64)\n",
      "Tensor(\"Fwd_Propagate/Refract_27/Cast_1:0\", shape=(31, 31), dtype=complex64)\n",
      "1j\n",
      "Tensor(\"Fwd_Propagate/Refract_28/Cast:0\", shape=(31, 31), dtype=complex64)\n",
      "Tensor(\"Variable_assignment/Reshape:0\", shape=(45, 1, 1), dtype=complex64)\n",
      "Tensor(\"Fwd_Propagate/Refract_28/Cast_1:0\", shape=(31, 31), dtype=complex64)\n",
      "1j\n",
      "Tensor(\"Fwd_Propagate/Refract_29/Cast:0\", shape=(31, 31), dtype=complex64)\n",
      "Tensor(\"Variable_assignment/Reshape:0\", shape=(45, 1, 1), dtype=complex64)\n",
      "Tensor(\"Fwd_Propagate/Refract_29/Cast_1:0\", shape=(31, 31), dtype=complex64)\n",
      "1j\n",
      "Tensor(\"Fwd_Propagate/Refract_30/Cast:0\", shape=(31, 31), dtype=complex64)\n",
      "Tensor(\"Variable_assignment/Reshape:0\", shape=(45, 1, 1), dtype=complex64)\n",
      "Tensor(\"Fwd_Propagate/Refract_30/Cast_1:0\", shape=(31, 31), dtype=complex64)\n",
      "1j\n",
      "Tensor(\"Fwd_Propagate/Refract_31/Cast:0\", shape=(31, 31), dtype=complex64)\n",
      "Tensor(\"Variable_assignment/Reshape:0\", shape=(45, 1, 1), dtype=complex64)\n",
      "Tensor(\"Fwd_Propagate/Refract_31/Cast_1:0\", shape=(31, 31), dtype=complex64)\n",
      "1j\n",
      "Tensor(\"Fwd_Propagate/Refract_32/Cast:0\", shape=(31, 31), dtype=complex64)\n",
      "Tensor(\"Variable_assignment/Reshape:0\", shape=(45, 1, 1), dtype=complex64)\n",
      "Tensor(\"Fwd_Propagate/Refract_32/Cast_1:0\", shape=(31, 31), dtype=complex64)\n",
      "1j\n",
      "Tensor(\"Fwd_Propagate/Refract_33/Cast:0\", shape=(31, 31), dtype=complex64)\n",
      "Tensor(\"Variable_assignment/Reshape:0\", shape=(45, 1, 1), dtype=complex64)\n",
      "Tensor(\"Fwd_Propagate/Refract_33/Cast_1:0\", shape=(31, 31), dtype=complex64)\n",
      "1j\n",
      "Tensor(\"Fwd_Propagate/Refract_34/Cast:0\", shape=(31, 31), dtype=complex64)\n",
      "Tensor(\"Variable_assignment/Reshape:0\", shape=(45, 1, 1), dtype=complex64)\n",
      "Tensor(\"Fwd_Propagate/Refract_34/Cast_1:0\", shape=(31, 31), dtype=complex64)\n",
      "1j\n",
      "Tensor(\"Fwd_Propagate/Refract_35/Cast:0\", shape=(31, 31), dtype=complex64)\n",
      "Tensor(\"Variable_assignment/Reshape:0\", shape=(45, 1, 1), dtype=complex64)\n",
      "Tensor(\"Fwd_Propagate/Refract_35/Cast_1:0\", shape=(31, 31), dtype=complex64)\n",
      "1j\n",
      "Tensor(\"Fwd_Propagate/Refract_36/Cast:0\", shape=(31, 31), dtype=complex64)\n",
      "Tensor(\"Variable_assignment/Reshape:0\", shape=(45, 1, 1), dtype=complex64)\n",
      "Tensor(\"Fwd_Propagate/Refract_36/Cast_1:0\", shape=(31, 31), dtype=complex64)\n",
      "1j\n",
      "Tensor(\"Fwd_Propagate/Refract_37/Cast:0\", shape=(31, 31), dtype=complex64)\n",
      "Tensor(\"Variable_assignment/Reshape:0\", shape=(45, 1, 1), dtype=complex64)\n",
      "Tensor(\"Fwd_Propagate/Refract_37/Cast_1:0\", shape=(31, 31), dtype=complex64)\n",
      "1j\n",
      "Tensor(\"Fwd_Propagate/Refract_38/Cast:0\", shape=(31, 31), dtype=complex64)\n",
      "Tensor(\"Variable_assignment/Reshape:0\", shape=(45, 1, 1), dtype=complex64)\n",
      "Tensor(\"Fwd_Propagate/Refract_38/Cast_1:0\", shape=(31, 31), dtype=complex64)\n",
      "1j\n",
      "Tensor(\"Fwd_Propagate/Refract_39/Cast:0\", shape=(31, 31), dtype=complex64)\n",
      "Tensor(\"Variable_assignment/Reshape:0\", shape=(45, 1, 1), dtype=complex64)\n",
      "Tensor(\"Fwd_Propagate/Refract_39/Cast_1:0\", shape=(31, 31), dtype=complex64)\n",
      "1j\n",
      "Tensor(\"Fwd_Propagate/Refract_40/Cast:0\", shape=(31, 31), dtype=complex64)\n",
      "Tensor(\"Variable_assignment/Reshape:0\", shape=(45, 1, 1), dtype=complex64)\n",
      "Tensor(\"Fwd_Propagate/Refract_40/Cast_1:0\", shape=(31, 31), dtype=complex64)\n",
      "1j\n",
      "Tensor(\"Fwd_Propagate/Refract_41/Cast:0\", shape=(31, 31), dtype=complex64)\n",
      "Tensor(\"Variable_assignment/Reshape:0\", shape=(45, 1, 1), dtype=complex64)\n",
      "Tensor(\"Fwd_Propagate/Refract_41/Cast_1:0\", shape=(31, 31), dtype=complex64)\n",
      "1j\n",
      "Tensor(\"Fwd_Propagate/Refract_42/Cast:0\", shape=(31, 31), dtype=complex64)\n",
      "Tensor(\"Variable_assignment/Reshape:0\", shape=(45, 1, 1), dtype=complex64)\n",
      "Tensor(\"Fwd_Propagate/Refract_42/Cast_1:0\", shape=(31, 31), dtype=complex64)\n",
      "1j\n",
      "Tensor(\"Fwd_Propagate/Refract_43/Cast:0\", shape=(31, 31), dtype=complex64)\n",
      "Tensor(\"Variable_assignment/Reshape:0\", shape=(45, 1, 1), dtype=complex64)\n",
      "Tensor(\"Fwd_Propagate/Refract_43/Cast_1:0\", shape=(31, 31), dtype=complex64)\n",
      "1j\n",
      "Tensor(\"Fwd_Propagate/Refract_44/Cast:0\", shape=(31, 31), dtype=complex64)\n",
      "Tensor(\"Variable_assignment/Reshape:0\", shape=(45, 1, 1), dtype=complex64)\n",
      "Tensor(\"Fwd_Propagate/Refract_44/Cast_1:0\", shape=(31, 31), dtype=complex64)\n",
      "1j\n",
      "Tensor(\"Fwd_Propagate/Refract_45/Cast:0\", shape=(31, 31), dtype=complex64)\n",
      "Tensor(\"Variable_assignment/Reshape:0\", shape=(45, 1, 1), dtype=complex64)\n",
      "Tensor(\"Fwd_Propagate/Refract_45/Cast_1:0\", shape=(31, 31), dtype=complex64)\n",
      "1j\n",
      "Tensor(\"Fwd_Propagate/Refract_46/Cast:0\", shape=(31, 31), dtype=complex64)\n",
      "Tensor(\"Variable_assignment/Reshape:0\", shape=(45, 1, 1), dtype=complex64)\n",
      "Tensor(\"Fwd_Propagate/Refract_46/Cast_1:0\", shape=(31, 31), dtype=complex64)\n",
      "1j\n",
      "Tensor(\"Fwd_Propagate/Refract_47/Cast:0\", shape=(31, 31), dtype=complex64)\n",
      "Tensor(\"Variable_assignment/Reshape:0\", shape=(45, 1, 1), dtype=complex64)\n",
      "Tensor(\"Fwd_Propagate/Refract_47/Cast_1:0\", shape=(31, 31), dtype=complex64)\n",
      "1j\n",
      "Tensor(\"Fwd_Propagate/Refract_48/Cast:0\", shape=(31, 31), dtype=complex64)\n",
      "Tensor(\"Variable_assignment/Reshape:0\", shape=(45, 1, 1), dtype=complex64)\n",
      "Tensor(\"Fwd_Propagate/Refract_48/Cast_1:0\", shape=(31, 31), dtype=complex64)\n",
      "1j\n",
      "Tensor(\"Fwd_Propagate/Refract_49/Cast:0\", shape=(31, 31), dtype=complex64)\n",
      "Tensor(\"Variable_assignment/Reshape:0\", shape=(45, 1, 1), dtype=complex64)\n",
      "Tensor(\"Fwd_Propagate/Refract_49/Cast_1:0\", shape=(31, 31), dtype=complex64)\n",
      "1j\n",
      "Tensor(\"Fwd_Propagate/Refract_50/Cast:0\", shape=(31, 31), dtype=complex64)\n",
      "Tensor(\"Variable_assignment/Reshape:0\", shape=(45, 1, 1), dtype=complex64)\n",
      "Tensor(\"Fwd_Propagate/Refract_50/Cast_1:0\", shape=(31, 31), dtype=complex64)\n",
      "1j\n",
      "Tensor(\"Fwd_Propagate/Refract_51/Cast:0\", shape=(31, 31), dtype=complex64)\n",
      "Tensor(\"Variable_assignment/Reshape:0\", shape=(45, 1, 1), dtype=complex64)\n",
      "Tensor(\"Fwd_Propagate/Refract_51/Cast_1:0\", shape=(31, 31), dtype=complex64)\n",
      "1j\n",
      "Tensor(\"Fwd_Propagate/Refract_52/Cast:0\", shape=(31, 31), dtype=complex64)\n",
      "Tensor(\"Variable_assignment/Reshape:0\", shape=(45, 1, 1), dtype=complex64)\n",
      "Tensor(\"Fwd_Propagate/Refract_52/Cast_1:0\", shape=(31, 31), dtype=complex64)\n",
      "1j\n",
      "Tensor(\"Fwd_Propagate/Refract_53/Cast:0\", shape=(31, 31), dtype=complex64)\n",
      "Tensor(\"Variable_assignment/Reshape:0\", shape=(45, 1, 1), dtype=complex64)\n",
      "Tensor(\"Fwd_Propagate/Refract_53/Cast_1:0\", shape=(31, 31), dtype=complex64)\n",
      "1j\n",
      "Tensor(\"Fwd_Propagate/Refract_54/Cast:0\", shape=(31, 31), dtype=complex64)\n",
      "Tensor(\"Variable_assignment/Reshape:0\", shape=(45, 1, 1), dtype=complex64)\n",
      "Tensor(\"Fwd_Propagate/Refract_54/Cast_1:0\", shape=(31, 31), dtype=complex64)\n",
      "1j\n",
      "Tensor(\"Fwd_Propagate/Refract_55/Cast:0\", shape=(31, 31), dtype=complex64)\n",
      "Tensor(\"Variable_assignment/Reshape:0\", shape=(45, 1, 1), dtype=complex64)\n",
      "Tensor(\"Fwd_Propagate/Refract_55/Cast_1:0\", shape=(31, 31), dtype=complex64)\n",
      "1j\n",
      "Tensor(\"Fwd_Propagate/Refract_56/Cast:0\", shape=(31, 31), dtype=complex64)\n",
      "Tensor(\"Variable_assignment/Reshape:0\", shape=(45, 1, 1), dtype=complex64)\n",
      "Tensor(\"Fwd_Propagate/Refract_56/Cast_1:0\", shape=(31, 31), dtype=complex64)\n",
      "1j\n",
      "Tensor(\"Fwd_Propagate/Refract_57/Cast:0\", shape=(31, 31), dtype=complex64)\n",
      "Tensor(\"Variable_assignment/Reshape:0\", shape=(45, 1, 1), dtype=complex64)\n",
      "Tensor(\"Fwd_Propagate/Refract_57/Cast_1:0\", shape=(31, 31), dtype=complex64)\n",
      "1j\n",
      "Tensor(\"Fwd_Propagate/Refract_58/Cast:0\", shape=(31, 31), dtype=complex64)\n",
      "Tensor(\"Variable_assignment/Reshape:0\", shape=(45, 1, 1), dtype=complex64)\n",
      "Tensor(\"Fwd_Propagate/Refract_58/Cast_1:0\", shape=(31, 31), dtype=complex64)\n",
      "1j\n",
      "Tensor(\"Fwd_Propagate/Refract_59/Cast:0\", shape=(31, 31), dtype=complex64)\n",
      "Tensor(\"Variable_assignment/Reshape:0\", shape=(45, 1, 1), dtype=complex64)\n",
      "Tensor(\"Fwd_Propagate/Refract_59/Cast_1:0\", shape=(31, 31), dtype=complex64)\n",
      "1j\n",
      "Tensor(\"Fwd_Propagate/Refract_60/Cast:0\", shape=(31, 31), dtype=complex64)\n",
      "Tensor(\"Variable_assignment/Reshape:0\", shape=(45, 1, 1), dtype=complex64)\n",
      "Tensor(\"Fwd_Propagate/Refract_60/Cast_1:0\", shape=(31, 31), dtype=complex64)\n",
      "1j\n",
      "Tensor(\"Fwd_Propagate/Refract_61/Cast:0\", shape=(31, 31), dtype=complex64)\n",
      "Tensor(\"Variable_assignment/Reshape:0\", shape=(45, 1, 1), dtype=complex64)\n",
      "Tensor(\"Fwd_Propagate/Refract_61/Cast_1:0\", shape=(31, 31), dtype=complex64)\n",
      "1j\n",
      "Tensor(\"Fwd_Propagate/Refract_62/Cast:0\", shape=(31, 31), dtype=complex64)\n",
      "Tensor(\"Variable_assignment/Reshape:0\", shape=(45, 1, 1), dtype=complex64)\n",
      "Tensor(\"Fwd_Propagate/Refract_62/Cast_1:0\", shape=(31, 31), dtype=complex64)\n",
      "1j\n",
      "Tensor(\"Fwd_Propagate/Refract_63/Cast:0\", shape=(31, 31), dtype=complex64)\n",
      "Tensor(\"Variable_assignment/Reshape:0\", shape=(45, 1, 1), dtype=complex64)\n",
      "Tensor(\"Fwd_Propagate/Refract_63/Cast_1:0\", shape=(31, 31), dtype=complex64)\n",
      "1j\n",
      "Tensor(\"Fwd_Propagate/Refract_64/Cast:0\", shape=(31, 31), dtype=complex64)\n",
      "Tensor(\"Variable_assignment/Reshape:0\", shape=(45, 1, 1), dtype=complex64)\n",
      "Tensor(\"Fwd_Propagate/Refract_64/Cast_1:0\", shape=(31, 31), dtype=complex64)\n",
      "1j\n",
      "Tensor(\"Fwd_Propagate/Refract_65/Cast:0\", shape=(31, 31), dtype=complex64)\n",
      "Tensor(\"Variable_assignment/Reshape:0\", shape=(45, 1, 1), dtype=complex64)\n",
      "Tensor(\"Fwd_Propagate/Refract_65/Cast_1:0\", shape=(31, 31), dtype=complex64)\n",
      "1j\n",
      "Tensor(\"Fwd_Propagate/Refract_66/Cast:0\", shape=(31, 31), dtype=complex64)\n",
      "Tensor(\"Variable_assignment/Reshape:0\", shape=(45, 1, 1), dtype=complex64)\n",
      "Tensor(\"Fwd_Propagate/Refract_66/Cast_1:0\", shape=(31, 31), dtype=complex64)\n",
      "1j\n",
      "Tensor(\"Fwd_Propagate/Refract_67/Cast:0\", shape=(31, 31), dtype=complex64)\n",
      "Tensor(\"Variable_assignment/Reshape:0\", shape=(45, 1, 1), dtype=complex64)\n",
      "Tensor(\"Fwd_Propagate/Refract_67/Cast_1:0\", shape=(31, 31), dtype=complex64)\n",
      "1j\n",
      "Tensor(\"Fwd_Propagate/Refract_68/Cast:0\", shape=(31, 31), dtype=complex64)\n",
      "Tensor(\"Variable_assignment/Reshape:0\", shape=(45, 1, 1), dtype=complex64)\n",
      "Tensor(\"Fwd_Propagate/Refract_68/Cast_1:0\", shape=(31, 31), dtype=complex64)\n",
      "1j\n",
      "Tensor(\"Fwd_Propagate/Refract_69/Cast:0\", shape=(31, 31), dtype=complex64)\n",
      "Tensor(\"Variable_assignment/Reshape:0\", shape=(45, 1, 1), dtype=complex64)\n",
      "Tensor(\"Fwd_Propagate/Refract_69/Cast_1:0\", shape=(31, 31), dtype=complex64)\n",
      "1j\n"
     ]
    },
    {
     "data": {
      "image/png": "[encoded data removed]",
      "text/plain": [
       "<Figure size 576x360 with 5 Axes>"
      ]
     },
     "metadata": {},
     "output_type": "display_data"
    }
   ],
   "source": [
    "tf_fwd = muscat.computemodel()\n",
    "\n",
    "if(is_display): \n",
    "    plt.subplot(131), plt.title('Ic'), plt.imshow(muscat.Ic)\n",
    "    plt.subplot(132), plt.title('Po'),plt.imshow(np.fft.fftshift(np.abs(muscat.Po))), plt.colorbar()\n",
    "    plt.subplot(133), plt.title('Po'),plt.imshow(np.fft.fftshift(np.angle(muscat.Po))), plt.colorbar(), plt.show()"
   ]
  },
  {
   "cell_type": "markdown",
   "metadata": {},
   "source": [
    "# Define Optimizer and Cost-function"
   ]
  },
  {
   "cell_type": "markdown",
   "metadata": {},
   "source": [
    "Now load data which has been saved previously (Optional!)"
   ]
  },
  {
   "cell_type": "code",
   "execution_count": 20,
   "metadata": {},
   "outputs": [
    {
     "name": "stdout",
     "output_type": "stream",
     "text": [
      "Evtl unwrap it!\n"
     ]
    },
    {
     "data": {
      "image/png": "[encoded data removed]",
      "text/plain": [
       "<Figure size 576x360 with 6 Axes>"
      ]
     },
     "metadata": {},
     "output_type": "display_data"
    },
    {
     "data": {
      "image/png": "[encoded data removed]",
      "text/plain": [
       "<Figure size 576x360 with 6 Axes>"
      ]
     },
     "metadata": {},
     "output_type": "display_data"
    }
   ],
   "source": [
    "print('Evtl unwrap it!')\n",
    "\n",
    "# this is the initial guess of the reconstruction\n",
    "np_meas=np_meas#*np.exp(1j*np.pi)\n",
    "if(False):\n",
    "    init_guess = np.angle(np_meas)\n",
    "    init_guess = init_guess - np.min(init_guess)\n",
    "    init_guess = init_guess**4\n",
    "    init_guess = init_guess/np.max(init_guess)*muscat.dn\n",
    "    init_guess_abs = np.ones(np_meas.shape)\n",
    "else:\n",
    "    init_guess = np.ones(np_meas.shape)*muscat.dn/2\n",
    "    init_guess_abs = np.ones(np_meas.shape)*np.max(np.abs(np_meas))\n",
    "    \n",
    "if(is_display): plt.subplot(231), plt.title('Angle XZ'),plt.imshow(init_guess[:,muscat.mysize[1]//2,:]), plt.colorbar()\n",
    "if(is_display): plt.subplot(232), plt.title('Angle XZ'),plt.imshow(init_guess[:,:,muscat.mysize[1]//2]), plt.colorbar()\n",
    "if(is_display): plt.subplot(233), plt.title('Angle XZ'),plt.imshow(init_guess[muscat.mysize[0]//2,:,:]), plt.colorbar(),plt.show()\n",
    "if(is_display): plt.subplot(231), plt.title('Angle XZ'),plt.imshow(init_guess_abs[:,muscat.mysize[1]//2,:]), plt.colorbar()\n",
    "if(is_display): plt.subplot(232), plt.title('Angle XZ'),plt.imshow(init_guess_abs[:,:,muscat.mysize[1]//2]), plt.colorbar()\n",
    "if(is_display): plt.subplot(233), plt.title('Angle XZ'),plt.imshow(init_guess_abs[muscat.mysize[0]//2,:,:]), plt.colorbar(),plt.show()\n"
   ]
  },
  {
   "cell_type": "markdown",
   "metadata": {},
   "source": [
    "# Optimize"
   ]
  },
  {
   "cell_type": "code",
   "execution_count": 21,
   "metadata": {},
   "outputs": [
    {
     "name": "stdout",
     "output_type": "stream",
     "text": [
      "Regularizer: Penalize Values less then 0\n",
      "Regularizer: Penalize Values higher then 0.2\n"
     ]
    }
   ],
   "source": [
    "#%%\n",
    "'''Regression + Regularization'''\n",
    "tf_meas = tf.placeholder(dtype=tf.complex64, shape=muscat.mysize)\n",
    "             \n",
    "'''Define Cost-function'''\n",
    "tf_tvloss = lambda_tv*reg.tf_total_variation_regularization(muscat.TF_obj_phase)  #Alernatively total_variation\n",
    "tf_posloss = lambda_neg*reg.posiminity(muscat.TF_obj_phase, minval=0)\n",
    "tf_negloss = lambda_pos*reg.posimaxity(muscat.TF_obj_phase, maxval=.2) \n",
    "tf_globalphase = tf.Variable(0., tf.float32, name='var_phase')\n",
    "tf_globalabs = tf.Variable(1., tf.float32, name='var_abs')# \n",
    "tf_fidelity = tf.reduce_sum(tf_helper.tf_abssqr(tf_fwd  - (tf_meas/tf.cast(tf.abs(tf_globalabs), tf.complex64)*tf.exp(1j*tf.cast(tf_globalphase, tf.complex64))))) # allow a global phase parameter to avoid unwrapping effects\n",
    "tf_loss = tf_fidelity +  tf_negloss + tf_posloss + tf_tvloss\n",
    "\n",
    " # data fidelity\n",
    "# TV regularization\n",
    "# Positivity Penalty          \n",
    "# eventually Goods Roughness reg\n",
    "          \n",
    "if(True):          \n",
    "    '''Define Optimizer'''\n",
    "    tf_optimizer = tf.train.AdamOptimizer(my_learningrate)\n",
    "    tf_lossop = tf_optimizer.minimize(tf_loss)\n",
    "else:\n",
    "    tf_optimizer = tf.contrib.opt.ScipyOptimizerInterface(loss, options={'maxiter': 40},method='L-BFGS-B') # 'L-BFGS-B'\n",
    "    tf_optimizer.minimize(sess)\n",
    "    myloss=loss.eval()\n",
    "    \n",
    "''' Evaluate the model '''\n",
    "sess = tf.Session()\n",
    "sess.run(tf.global_variables_initializer())\n",
    "if is_optimization:\n",
    "    sess.run(tf.assign(muscat.TF_obj_phase, init_guess)); # assign abs of measurement as initial guess of \n",
    "    sess.run(tf.assign(muscat.TF_obj_abs, init_guess_abs)); # assign abs of measurement as initial guess of \n",
    "\n",
    "my_fwd = sess.run(tf_fwd)#, feed_dict={muscat.TF_obj:obj})\n",
    "mysize = my_fwd.shape\n",
    "\n"
   ]
  },
  {
   "cell_type": "markdown",
   "metadata": {},
   "source": [
    "# Estimate the Phase difference between Measurement and Simulation"
   ]
  },
  {
   "cell_type": "code",
   "execution_count": 22,
   "metadata": {},
   "outputs": [
    {
     "name": "stdout",
     "output_type": "stream",
     "text": [
      "My Init Phase is :nan\n"
     ]
    },
    {
     "data": {
      "image/png": "[encoded data removed]",
      "text/plain": [
       "<Figure size 576x360 with 6 Axes>"
      ]
     },
     "metadata": {},
     "output_type": "display_data"
    },
    {
     "data": {
      "image/png": "[encoded data removed]",
      "text/plain": [
       "<Figure size 576x360 with 6 Axes>"
      ]
     },
     "metadata": {},
     "output_type": "display_data"
    }
   ],
   "source": [
    "# We assume, that there is a global phase mismatch between measurment and first estimate of the fwd model, this can be estimated by the difference of mean phase of the two\n",
    "# subtracting the mean phase from either measurement or the fwd model could help to speed up the optimization\n",
    "# this is the initial guess of the reconstruction\n",
    "np_meas = matlab_val\n",
    "myinitphase = np.mean(np.angle(np_meas))-np.mean(np.angle(my_fwd))\n",
    "print('My Init Phase is :'+str(myinitphase))\n",
    "np_meas=np_meas*np.exp(-1j*(myinitphase+2)) # subtract globaphase - anyway we want to optimize for that, but now the global phase can be assumed to be 0 initally\n",
    "if(is_display): plt.subplot(231), plt.title('Angle YZ - Measurement'),plt.imshow(np.angle(np_meas)[:,mysize[1]//2,:]), plt.colorbar()#, plt.show()\n",
    "if(is_display): plt.subplot(232), plt.title('Angle XZ - Measurement'),plt.imshow(np.angle(np_meas)[:,:,mysize[2]//2]), plt.colorbar()#, plt.show()\n",
    "if(is_display): plt.subplot(233), plt.title('Angle XY - Measurement'),plt.imshow(np.angle(np_meas)[mysize[0]//2,:,:]), plt.colorbar(), plt.show()\n",
    "\n",
    "if(is_display): plt.subplot(234), plt.title('Angle YZ - Simulation'),plt.imshow(np.angle(my_fwd)[:,mysize[1]//2,:]), plt.colorbar()#, plt.show()\n",
    "if(is_display): plt.subplot(235), plt.title('Angle XZ - Simulation'),plt.imshow(np.angle(my_fwd)[:,:,mysize[2]//2]), plt.colorbar()#, plt.show()\n",
    "if(is_display): plt.subplot(236), plt.title('Angle XY - Simulation'),plt.imshow(np.angle(my_fwd)[mysize[0]//2,:,:]), plt.colorbar(), plt.show()\n"
   ]
  },
  {
   "cell_type": "code",
   "execution_count": 9,
   "metadata": {},
   "outputs": [
    {
     "name": "stdout",
     "output_type": "stream",
     "text": [
      "Start optimizing\n",
      "Loss@0: 4631281.0 - Fid: 4631176.0, Neg: 0.0, Pos: 0.0, TV: 105.05681 G-Phase:0.001 G-ABS: 1.001\n",
      "Loss@10: 3972499.0 - Fid: 3972367.0, Neg: 0.0, Pos: 27.040071, TV: 105.05976 G-Phase:0.01095659 G-ABS: 1.0109572\n",
      "Loss@20: 3145038.0 - Fid: 3144805.2, Neg: 0.0, Pos: 127.685715, TV: 105.06647 G-Phase:0.021724278 G-ABS: 1.0207031\n"
     ]
    },
    {
     "ename": "KeyboardInterrupt",
     "evalue": "",
     "output_type": "error",
     "traceback": [
      "\u001b[0;31m---------------------------------------------------------------------------\u001b[0m",
      "\u001b[0;31mKeyboardInterrupt\u001b[0m                         Traceback (most recent call last)",
      "\u001b[0;32m<ipython-input-9-7238cb06f043>\u001b[0m in \u001b[0;36m<module>\u001b[0;34m()\u001b[0m\n\u001b[1;32m     30\u001b[0m         \u001b[0mglobalabslist\u001b[0m\u001b[1;33m.\u001b[0m\u001b[0mappend\u001b[0m\u001b[1;33m(\u001b[0m\u001b[0mmyglobalabs\u001b[0m\u001b[1;33m)\u001b[0m\u001b[1;33m\u001b[0m\u001b[0m\n\u001b[1;32m     31\u001b[0m     \u001b[1;32melse\u001b[0m\u001b[1;33m:\u001b[0m\u001b[1;33m\u001b[0m\u001b[0m\n\u001b[0;32m---> 32\u001b[0;31m         \u001b[0msess\u001b[0m\u001b[1;33m.\u001b[0m\u001b[0mrun\u001b[0m\u001b[1;33m(\u001b[0m\u001b[1;33m[\u001b[0m\u001b[0mtf_lossop\u001b[0m\u001b[1;33m]\u001b[0m\u001b[1;33m,\u001b[0m \u001b[0mfeed_dict\u001b[0m\u001b[1;33m=\u001b[0m\u001b[1;33m{\u001b[0m\u001b[0mtf_meas\u001b[0m\u001b[1;33m:\u001b[0m\u001b[0mnp_meas\u001b[0m\u001b[1;33m}\u001b[0m\u001b[1;33m)\u001b[0m\u001b[1;33m\u001b[0m\u001b[0m\n\u001b[0m\u001b[1;32m     33\u001b[0m         \u001b[1;31m#plt.imshow(np.abs(my_res[:,50,:]))\u001b[0m\u001b[1;33m\u001b[0m\u001b[1;33m\u001b[0m\u001b[0m\n\u001b[1;32m     34\u001b[0m \u001b[1;33m\u001b[0m\u001b[0m\n",
      "\u001b[0;32mC:\\ProgramData\\Anaconda3\\lib\\site-packages\\tensorflow\\python\\client\\session.py\u001b[0m in \u001b[0;36mrun\u001b[0;34m(self, fetches, feed_dict, options, run_metadata)\u001b[0m\n\u001b[1;32m    927\u001b[0m     \u001b[1;32mtry\u001b[0m\u001b[1;33m:\u001b[0m\u001b[1;33m\u001b[0m\u001b[0m\n\u001b[1;32m    928\u001b[0m       result = self._run(None, fetches, feed_dict, options_ptr,\n\u001b[0;32m--> 929\u001b[0;31m                          run_metadata_ptr)\n\u001b[0m\u001b[1;32m    930\u001b[0m       \u001b[1;32mif\u001b[0m \u001b[0mrun_metadata\u001b[0m\u001b[1;33m:\u001b[0m\u001b[1;33m\u001b[0m\u001b[0m\n\u001b[1;32m    931\u001b[0m         \u001b[0mproto_data\u001b[0m \u001b[1;33m=\u001b[0m \u001b[0mtf_session\u001b[0m\u001b[1;33m.\u001b[0m\u001b[0mTF_GetBuffer\u001b[0m\u001b[1;33m(\u001b[0m\u001b[0mrun_metadata_ptr\u001b[0m\u001b[1;33m)\u001b[0m\u001b[1;33m\u001b[0m\u001b[0m\n",
      "\u001b[0;32mC:\\ProgramData\\Anaconda3\\lib\\site-packages\\tensorflow\\python\\client\\session.py\u001b[0m in \u001b[0;36m_run\u001b[0;34m(self, handle, fetches, feed_dict, options, run_metadata)\u001b[0m\n\u001b[1;32m   1150\u001b[0m     \u001b[1;32mif\u001b[0m \u001b[0mfinal_fetches\u001b[0m \u001b[1;32mor\u001b[0m \u001b[0mfinal_targets\u001b[0m \u001b[1;32mor\u001b[0m \u001b[1;33m(\u001b[0m\u001b[0mhandle\u001b[0m \u001b[1;32mand\u001b[0m \u001b[0mfeed_dict_tensor\u001b[0m\u001b[1;33m)\u001b[0m\u001b[1;33m:\u001b[0m\u001b[1;33m\u001b[0m\u001b[0m\n\u001b[1;32m   1151\u001b[0m       results = self._do_run(handle, final_targets, final_fetches,\n\u001b[0;32m-> 1152\u001b[0;31m                              feed_dict_tensor, options, run_metadata)\n\u001b[0m\u001b[1;32m   1153\u001b[0m     \u001b[1;32melse\u001b[0m\u001b[1;33m:\u001b[0m\u001b[1;33m\u001b[0m\u001b[0m\n\u001b[1;32m   1154\u001b[0m       \u001b[0mresults\u001b[0m \u001b[1;33m=\u001b[0m \u001b[1;33m[\u001b[0m\u001b[1;33m]\u001b[0m\u001b[1;33m\u001b[0m\u001b[0m\n",
      "\u001b[0;32mC:\\ProgramData\\Anaconda3\\lib\\site-packages\\tensorflow\\python\\client\\session.py\u001b[0m in \u001b[0;36m_do_run\u001b[0;34m(self, handle, target_list, fetch_list, feed_dict, options, run_metadata)\u001b[0m\n\u001b[1;32m   1326\u001b[0m     \u001b[1;32mif\u001b[0m \u001b[0mhandle\u001b[0m \u001b[1;32mis\u001b[0m \u001b[1;32mNone\u001b[0m\u001b[1;33m:\u001b[0m\u001b[1;33m\u001b[0m\u001b[0m\n\u001b[1;32m   1327\u001b[0m       return self._do_call(_run_fn, feeds, fetches, targets, options,\n\u001b[0;32m-> 1328\u001b[0;31m                            run_metadata)\n\u001b[0m\u001b[1;32m   1329\u001b[0m     \u001b[1;32melse\u001b[0m\u001b[1;33m:\u001b[0m\u001b[1;33m\u001b[0m\u001b[0m\n\u001b[1;32m   1330\u001b[0m       \u001b[1;32mreturn\u001b[0m \u001b[0mself\u001b[0m\u001b[1;33m.\u001b[0m\u001b[0m_do_call\u001b[0m\u001b[1;33m(\u001b[0m\u001b[0m_prun_fn\u001b[0m\u001b[1;33m,\u001b[0m \u001b[0mhandle\u001b[0m\u001b[1;33m,\u001b[0m \u001b[0mfeeds\u001b[0m\u001b[1;33m,\u001b[0m \u001b[0mfetches\u001b[0m\u001b[1;33m)\u001b[0m\u001b[1;33m\u001b[0m\u001b[0m\n",
      "\u001b[0;32mC:\\ProgramData\\Anaconda3\\lib\\site-packages\\tensorflow\\python\\client\\session.py\u001b[0m in \u001b[0;36m_do_call\u001b[0;34m(self, fn, *args)\u001b[0m\n\u001b[1;32m   1332\u001b[0m   \u001b[1;32mdef\u001b[0m \u001b[0m_do_call\u001b[0m\u001b[1;33m(\u001b[0m\u001b[0mself\u001b[0m\u001b[1;33m,\u001b[0m \u001b[0mfn\u001b[0m\u001b[1;33m,\u001b[0m \u001b[1;33m*\u001b[0m\u001b[0margs\u001b[0m\u001b[1;33m)\u001b[0m\u001b[1;33m:\u001b[0m\u001b[1;33m\u001b[0m\u001b[0m\n\u001b[1;32m   1333\u001b[0m     \u001b[1;32mtry\u001b[0m\u001b[1;33m:\u001b[0m\u001b[1;33m\u001b[0m\u001b[0m\n\u001b[0;32m-> 1334\u001b[0;31m       \u001b[1;32mreturn\u001b[0m \u001b[0mfn\u001b[0m\u001b[1;33m(\u001b[0m\u001b[1;33m*\u001b[0m\u001b[0margs\u001b[0m\u001b[1;33m)\u001b[0m\u001b[1;33m\u001b[0m\u001b[0m\n\u001b[0m\u001b[1;32m   1335\u001b[0m     \u001b[1;32mexcept\u001b[0m \u001b[0merrors\u001b[0m\u001b[1;33m.\u001b[0m\u001b[0mOpError\u001b[0m \u001b[1;32mas\u001b[0m \u001b[0me\u001b[0m\u001b[1;33m:\u001b[0m\u001b[1;33m\u001b[0m\u001b[0m\n\u001b[1;32m   1336\u001b[0m       \u001b[0mmessage\u001b[0m \u001b[1;33m=\u001b[0m \u001b[0mcompat\u001b[0m\u001b[1;33m.\u001b[0m\u001b[0mas_text\u001b[0m\u001b[1;33m(\u001b[0m\u001b[0me\u001b[0m\u001b[1;33m.\u001b[0m\u001b[0mmessage\u001b[0m\u001b[1;33m)\u001b[0m\u001b[1;33m\u001b[0m\u001b[0m\n",
      "\u001b[0;32mC:\\ProgramData\\Anaconda3\\lib\\site-packages\\tensorflow\\python\\client\\session.py\u001b[0m in \u001b[0;36m_run_fn\u001b[0;34m(feed_dict, fetch_list, target_list, options, run_metadata)\u001b[0m\n\u001b[1;32m   1317\u001b[0m       \u001b[0mself\u001b[0m\u001b[1;33m.\u001b[0m\u001b[0m_extend_graph\u001b[0m\u001b[1;33m(\u001b[0m\u001b[1;33m)\u001b[0m\u001b[1;33m\u001b[0m\u001b[0m\n\u001b[1;32m   1318\u001b[0m       return self._call_tf_sessionrun(\n\u001b[0;32m-> 1319\u001b[0;31m           options, feed_dict, fetch_list, target_list, run_metadata)\n\u001b[0m\u001b[1;32m   1320\u001b[0m \u001b[1;33m\u001b[0m\u001b[0m\n\u001b[1;32m   1321\u001b[0m     \u001b[1;32mdef\u001b[0m \u001b[0m_prun_fn\u001b[0m\u001b[1;33m(\u001b[0m\u001b[0mhandle\u001b[0m\u001b[1;33m,\u001b[0m \u001b[0mfeed_dict\u001b[0m\u001b[1;33m,\u001b[0m \u001b[0mfetch_list\u001b[0m\u001b[1;33m)\u001b[0m\u001b[1;33m:\u001b[0m\u001b[1;33m\u001b[0m\u001b[0m\n",
      "\u001b[0;32mC:\\ProgramData\\Anaconda3\\lib\\site-packages\\tensorflow\\python\\client\\session.py\u001b[0m in \u001b[0;36m_call_tf_sessionrun\u001b[0;34m(self, options, feed_dict, fetch_list, target_list, run_metadata)\u001b[0m\n\u001b[1;32m   1405\u001b[0m     return tf_session.TF_SessionRun_wrapper(\n\u001b[1;32m   1406\u001b[0m         \u001b[0mself\u001b[0m\u001b[1;33m.\u001b[0m\u001b[0m_session\u001b[0m\u001b[1;33m,\u001b[0m \u001b[0moptions\u001b[0m\u001b[1;33m,\u001b[0m \u001b[0mfeed_dict\u001b[0m\u001b[1;33m,\u001b[0m \u001b[0mfetch_list\u001b[0m\u001b[1;33m,\u001b[0m \u001b[0mtarget_list\u001b[0m\u001b[1;33m,\u001b[0m\u001b[1;33m\u001b[0m\u001b[0m\n\u001b[0;32m-> 1407\u001b[0;31m         run_metadata)\n\u001b[0m\u001b[1;32m   1408\u001b[0m \u001b[1;33m\u001b[0m\u001b[0m\n\u001b[1;32m   1409\u001b[0m   \u001b[1;32mdef\u001b[0m \u001b[0m_call_tf_sessionprun\u001b[0m\u001b[1;33m(\u001b[0m\u001b[0mself\u001b[0m\u001b[1;33m,\u001b[0m \u001b[0mhandle\u001b[0m\u001b[1;33m,\u001b[0m \u001b[0mfeed_dict\u001b[0m\u001b[1;33m,\u001b[0m \u001b[0mfetch_list\u001b[0m\u001b[1;33m)\u001b[0m\u001b[1;33m:\u001b[0m\u001b[1;33m\u001b[0m\u001b[0m\n",
      "\u001b[0;31mKeyboardInterrupt\u001b[0m: "
     ]
    }
   ],
   "source": [
    "#%%\n",
    "''' Optimize the model '''\n",
    "print('Start optimizing')\n",
    "mylosslist = []\n",
    "myfidelitylist = []\n",
    "myposlosslist = []\n",
    "myneglosslist = []\n",
    "mytvlosslist = []\n",
    "result_imaglist = []\n",
    "result_reallist = []\n",
    "globalphaselist = []\n",
    "globalabslist = []\n",
    "np_meas = matlab_val # use the previously simulated data\n",
    "\n",
    "for iterx in range(0,Niter):\n",
    "    # try to optimize\n",
    "    \n",
    "    if(iterx==0 or not np.mod(iterx, Ndisplay)):\n",
    "        my_opt, my_res_real, my_res_imag, my_loss, my_fidelity, my_negloss, my_posloss, my_tvloss, myglobalphase, myglobalabs =  \\\n",
    "            sess.run([tf_lossop, muscat.TF_obj_abs, muscat.TF_obj_phase, tf_loss, tf_fidelity, tf_negloss, tf_posloss, tf_tvloss, tf_globalphase, tf_globalabs], feed_dict={tf_meas:np_meas})\n",
    "\n",
    "        print('Loss@'+str(iterx)+': ' + str(my_loss) + ' - Fid: '+str(my_fidelity)+', Neg: '+str(my_negloss)+', Pos: '+str(my_posloss)+', TV: '+str(my_tvloss)+' G-Phase:'+str(myglobalphase)+' G-ABS: '+str(myglobalabs))        \n",
    "        mylosslist.append(my_loss)\n",
    "        myfidelitylist.append(my_fidelity)\n",
    "        myposlosslist.append(my_negloss)\n",
    "        myneglosslist.append(my_posloss)\n",
    "        mytvlosslist.append(my_tvloss)\n",
    "        result_imaglist.append(my_res_imag)\n",
    "        result_reallist.append(my_res_real)\n",
    "        globalphaselist.append(myglobalphase)\n",
    "        globalabslist.append(myglobalabs)  \n",
    "    else:\n",
    "        sess.run([tf_lossop], feed_dict={tf_meas:np_meas})\n",
    "        #plt.imshow(np.abs(my_res[:,50,:]))\n",
    "        \n",
    "\n",
    "#save stack to disk\n",
    "#sktiff.imsave(savepath+'Obj_Reconstruction.tif', np.array(resultlist), compress=6, metadata={'axes': 'TZXY'})"
   ]
  },
  {
   "cell_type": "markdown",
   "metadata": {},
   "source": [
    "# Display result - FFT"
   ]
  },
  {
   "cell_type": "code",
   "execution_count": null,
   "metadata": {},
   "outputs": [],
   "source": [
    "#%% Display the results\n",
    "is_display=True\n",
    "myfwd, mymeas, my_res, my_res_imag = sess.run([tf_fwd, tf_meas, muscat.TF_obj_abs,  muscat.TF_obj_phase], feed_dict={tf_meas:np_meas})\n",
    "        \n",
    "if(is_display): plt.subplot(231),plt.title('FFT, Meas, YZ'), plt.imshow(np.abs(np.fft.fftshift(np.fft.fftn(mymeas))**.2)[:,muscat.mysize[1]//2,:]), plt.colorbar()#, plt.show()    \n",
    "if(is_display): plt.subplot(232),plt.title('FFT, Meas, XZ'), plt.imshow(np.abs(np.fft.fftshift(np.fft.fftn(mymeas))**.2)[muscat.mysize[0]//2,:,:]), plt.colorbar()#, plt.show()   \n",
    "if(is_display): plt.subplot(233),plt.title('FFT, Meas, XY'), plt.imshow(np.abs(np.fft.fftshift(np.fft.fftn(mymeas))**.2)[:,:,muscat.mysize[2]//2]), plt.colorbar()#, plt.show()     \n",
    "if(is_display): plt.subplot(234),plt.title('FFT, Meas, YZ'), plt.imshow(np.abs(np.fft.fftshift(np.fft.fftn(myfwd))**.2)[:,muscat.mysize[1]//2,:]), plt.colorbar()#, plt.show()\n",
    "if(is_display): plt.subplot(235),plt.title('FFT, Meas, XZ'), plt.imshow(np.abs(np.fft.fftshift(np.fft.fftn(myfwd))**.2)[muscat.mysize[0]//2,:,:]), plt.colorbar()#, plt.show()    \n",
    "if(is_display): plt.subplot(236),plt.title('FFT, Meas, XY'), plt.imshow(np.abs(np.fft.fftshift(np.fft.fftn(myfwd))**.2)[:,:,muscat.mysize[2]//2]), plt.colorbar(), plt.show()    \n",
    "if(is_display): plt.subplot(236),plt.title('FFT, Meas, XY'), plt.imshow(np.abs(np.fft.fftshift(np.fft.fftn(myfwd))**.2)[:,:,muscat.mysize[2]//2]), plt.colorbar(), plt.show()    \n",
    "\n",
    "\n",
    "#%% save the results\n",
    "#np.save(savepath+'/rec.npy', my_res)\n",
    "import src.data as data\n",
    "data.export_realdatastack_h5('temp.h5', 'temp', np.array(result_reallist)+1j*np.array(result_imaglist))\n"
   ]
  },
  {
   "cell_type": "markdown",
   "metadata": {},
   "source": [
    "# Display results ABS/Angle - FWD model"
   ]
  },
  {
   "cell_type": "code",
   "execution_count": null,
   "metadata": {},
   "outputs": [],
   "source": [
    "# This is the reconstruction\n",
    "if(is_display): plt.subplot(231), plt.title('ABS XZ'),plt.imshow(np.abs(myfwd)[:,muscat.mysize[1]//2,:]), plt.colorbar()#, plt.show()\n",
    "if(is_display): plt.subplot(232), plt.title('ABS XZ'),plt.imshow(np.abs(myfwd)[:,:,muscat.mysize[2]//2]), plt.colorbar()#, plt.show()\n",
    "if(is_display): plt.subplot(233), plt.title('ABS XY'),plt.imshow(np.abs(myfwd)[muscat.mysize[0]//2,:,:]), plt.colorbar()#, plt.show()\n",
    "\n",
    "if(is_display): plt.subplot(234), plt.title('Angle XZ'),plt.imshow(np.angle(myfwd)[:,muscat.mysize[1]//2,:]), plt.colorbar()#, plt.show()\n",
    "if(is_display): plt.subplot(235), plt.title('Angle XZ'),plt.imshow(np.angle(myfwd)[:,:,muscat.mysize[2]//2]), plt.colorbar()#, plt.show()\n",
    "if(is_display): plt.subplot(236), plt.title('Angle XY'),plt.imshow(np.angle(myfwd)[muscat.mysize[0]//2,:,:]), plt.colorbar(), plt.show()\n",
    "\n",
    "# This is the measurment\n",
    "if(is_display): plt.subplot(231), plt.title('ABS XZ'),plt.imshow(np.abs(np_meas)[:,muscat.mysize[1]//2,:]), plt.colorbar()#, plt.show()\n",
    "if(is_display): plt.subplot(232), plt.title('ABS XZ'),plt.imshow(np.abs(np_meas)[:,:,muscat.mysize[2]//2]), plt.colorbar()#, plt.show()\n",
    "if(is_display): plt.subplot(233), plt.title('ABS XY'),plt.imshow(np.abs(np_meas)[muscat.mysize[0]//2,:,:]), plt.colorbar()#, plt.show()\n",
    "\n",
    "if(is_display): plt.subplot(234), plt.title('Angle XZ'),plt.imshow(np.angle(np_meas)[:,muscat.mysize[1]//2,:]), plt.colorbar()#, plt.show()\n",
    "if(is_display): plt.subplot(235), plt.title('Angle XZ'),plt.imshow(np.angle(np_meas)[:,:,muscat.mysize[2]//2]), plt.colorbar()#, plt.show()\n",
    "if(is_display): plt.subplot(236), plt.title('Angle XY'),plt.imshow(np.angle(np_meas)[muscat.mysize[0]//2,:,:]), plt.colorbar(), plt.show()\n",
    "\n",
    "# diplay the error over time\n",
    "plt.subplot(241), plt.title('Error/Cost-function'), plt.plot(np.array(mylosslist))#, plt.show()\n",
    "plt.subplot(242), plt.title('Fidelity-function'), plt.plot(np.array(myfidelitylist))#, plt.show()\n",
    "plt.subplot(243), plt.title('Neg-loss-function'), plt.plot(np.array(myposlosslist))#, plt.show()\n",
    "plt.subplot(244), plt.title('Pos-loss-function'), plt.plot(np.array(myneglosslist))#, plt.show()\n",
    "plt.subplot(245), plt.title('TV-loss-function'), plt.plot(np.array(mytvlosslist))#, plt.show()\n",
    "plt.subplot(246), plt.title('Global Phase'), plt.plot(np.array(globalphaselist))#, plt.show()\n",
    "plt.subplot(247), plt.title('Global ABS'), plt.plot(np.array(globalabslist)), plt.show()\n",
    "\n"
   ]
  },
  {
   "cell_type": "markdown",
   "metadata": {},
   "source": [
    "# Display Result Refractive index"
   ]
  },
  {
   "cell_type": "code",
   "execution_count": null,
   "metadata": {},
   "outputs": [],
   "source": [
    "if(is_display): plt.subplot(131), plt.title('Result: XZ'),plt.imshow(my_res_real[:,muscat.mysize[1]//2,:]), plt.colorbar()#, plt.show()\n",
    "if(is_display): plt.subplot(132), plt.title('Result: XZ'),plt.imshow(my_res_real[:,:,muscat.mysize[2]//2]), plt.colorbar()#, plt.show()\n",
    "if(is_display): plt.subplot(133), plt.title('Result: XY'),plt.imshow(my_res_real[muscat.mysize[0]//2,:,:]), plt.colorbar(), plt.show()\n",
    "\n",
    "    \n",
    "if(is_display): plt.subplot(131), plt.title('Result: XZ'),plt.imshow(my_res_imag[:,muscat.mysize[1]//2,:]), plt.colorbar()#, plt.show()\n",
    "if(is_display): plt.subplot(132), plt.title('Result: XZ'),plt.imshow(my_res_imag[:,:,muscat.mysize[2]//2]), plt.colorbar()#, plt.show()\n",
    "if(is_display): plt.subplot(133), plt.title('Result: XY'),plt.imshow(my_res_imag[muscat.mysize[0]//2,:,:]), plt.colorbar(), plt.show()\n"
   ]
  },
  {
   "cell_type": "markdown",
   "metadata": {
    "collapsed": true
   },
   "source": [
    "# Display recovered pupil"
   ]
  },
  {
   "cell_type": "code",
   "execution_count": null,
   "metadata": {
    "scrolled": true
   },
   "outputs": [],
   "source": [
    "#plt.subplot(121), plt.imshow(np.angle(sess.run(muscat.TF_Po.eval)))\n",
    "print(np.real(sess.run(muscat.TF_zernikefactors)))\n",
    "plt.subplot(121), plt.title('Po Phase'), plt.imshow(np.fft.fftshift(np.angle(sess.run(muscat.TF_Po_aberr)))), plt.colorbar()\n",
    "plt.subplot(122), plt.title('Po abs'), plt.imshow(np.fft.fftshift(np.abs(sess.run(muscat.TF_Po_aberr)))), plt.colorbar(), plt.show()\n",
    "\n",
    "#np.save(savepath+'/myrefractiveindex.npy',np.array(resultlist))\n",
    "data.export_realdatastack_h5(savepath+'/myrefractiveindex_real.h5', 'temp', np.array(result_reallist))\n",
    "data.export_realdatastack_h5(savepath+'/myrefractiveindex_imag.h5', 'temp', np.array(result_imaglist))"
   ]
  },
  {
   "cell_type": "markdown",
   "metadata": {},
   "source": [
    "# Save results"
   ]
  },
  {
   "cell_type": "markdown",
   "metadata": {},
   "source": [
    "# %% save the results\n",
    "np.save(savepath+'/rec.npy', my_res)\n",
    "data.saveHDF5(my_res, savepath+'/Obj_Reconstruction.h5')\n",
    "data.saveHDF5(np.abs(np_meas), savepath+'/Amplitude_abs.h5')\n",
    "data.saveHDF5(np.angle(np_meas), savepath+'/Amplitude_angle.h5')"
   ]
  },
  {
   "cell_type": "code",
   "execution_count": null,
   "metadata": {
    "collapsed": true
   },
   "outputs": [],
   "source": []
  },
  {
   "cell_type": "code",
   "execution_count": null,
   "metadata": {
    "collapsed": true
   },
   "outputs": [],
   "source": []
  }
 ],
 "metadata": {
  "kernelspec": {
   "display_name": "Python 3",
   "language": "python",
   "name": "python3"
  },
  "language_info": {
   "codemirror_mode": {
    "name": "ipython",
    "version": 3
   },
   "file_extension": ".py",
   "mimetype": "text/x-python",
   "name": "python",
   "nbconvert_exporter": "python",
   "pygments_lexer": "ipython3",
   "version": "3.6.6"
  }
 },
 "nbformat": 4,
 "nbformat_minor": 2
}
