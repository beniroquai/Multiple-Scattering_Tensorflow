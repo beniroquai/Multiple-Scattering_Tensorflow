{
 "cells": [
  {
   "cell_type": "markdown",
   "metadata": {},
   "source": [
    "# This is the minimum Working Example to compute a multiple scattering experiment in the Q-Phase "
   ]
  },
  {
   "cell_type": "code",
   "execution_count": 10,
   "metadata": {
    "collapsed": false
   },
   "outputs": [],
   "source": [
    "#!/usr/bin/env python2\n",
    "# -*- coding: utf-8 -*-\n",
    "\"\"\"\n",
    "Created on Sat Jun 10 19:53:32 2017\n",
    "\n",
    "@author: Bene\n",
    "\n",
    "This file creates a fwd-model for the TESCAN Q-PHASE under \n",
    "multiple-scattering. It is majorly derived from  \"LEarning approach for optical tomography\"\n",
    "U. S. Kamilov, BIG, EPFL, 2014.\n",
    "\"\"\"\n",
    "# %load_ext autoreload\n",
    "import tensorflow as tf\n",
    "import numpy as np\n",
    "import matplotlib as mpl\n",
    "import matplotlib.pyplot as plt\n",
    "import scipy.io\n",
    "import scipy as scipy\n",
    "\n",
    "# load own functions\n",
    "import src.model as mus\n",
    "import src.tf_helper as tf_helper\n",
    "import src.tf_generate_object as tf_go\n",
    "import src.data as data\n",
    "\n",
    "import src.optimization.tf_regularizers as reg\n",
    "import os\n",
    "from datetime import datetime\n",
    "\n",
    "# change the following to %matplotlib notebook for interactive plotting\n",
    "%matplotlib inline\n",
    "\n",
    "# Optionally, tweak styles.\n",
    "mpl.rc('figure',  figsize=(10, 6))\n",
    "mpl.rc('image', cmap='gray')\n"
   ]
  },
  {
   "cell_type": "markdown",
   "metadata": {},
   "source": [
    "# Define some optimization parameters "
   ]
  },
  {
   "cell_type": "code",
   "execution_count": 11,
   "metadata": {
    "collapsed": true
   },
   "outputs": [],
   "source": [
    "'''Define some stuff related to infrastructure'''\n",
    "mytimestamp = datetime.now().strftime('%Y-%m-%d_%H-%M-%S')\n",
    "savepath = os.path.join('./Data/DROPLETS/RESULTS/', mytimestamp)\n",
    "\n",
    "# Create directory\n",
    "try: \n",
    "    os.mkdir(savepath)\n",
    "except(FileExistsError): \n",
    "    print('Folder exists already')\n",
    "\n",
    "is_display = True\n",
    "is_optimization = True \n",
    "\n",
    "'''Define Optimization Parameters'''\n",
    "my_learningrate = 1e-2  # learning rate\n",
    "lambda_tv = 1e-3 # lambda for Total variation\n",
    "lambda_gr = 0 # lambda for Goods Roughness \n",
    "lambda_pos = 100\n",
    "lambda_neg = 10\n",
    "\n",
    "Niter = 1000\n",
    "Ndisplay = 10"
   ]
  },
  {
   "cell_type": "code",
   "execution_count": 12,
   "metadata": {
    "collapsed": false
   },
   "outputs": [
    {
     "name": "stdout",
     "output_type": "stream",
     "text": [
      "Assigned some value for dn which is not good!\n"
     ]
    }
   ],
   "source": [
    "tf.reset_default_graph()\n",
    "is_display = False\n",
    "''' File which stores the experimental parameters from the Q-PHASE setup \n",
    "    1.) Read in the parameters of the dataset ''' \n",
    "matlab_par_file = './Data/DROPLETS/myParameterNew.mat'   \n",
    "matlab_pars = data.import_parameters_mat(filename = matlab_par_file, matname='myParameterNew')\n",
    "\n",
    "''' 2.) Read in the parameters of the dataset ''' \n",
    "matlab_val_file = './Data/DROPLETS/allAmp_red.mat'   \n",
    "matlab_val = data.import_realdata_h5(filename = matlab_val_file, matname='allAmp_red', is_complex=True)\n",
    "np_meas = np.flip(matlab_val,0)\n",
    "\n",
    "''' Create the Model'''\n",
    "muscat = mus.MuScatModel(matlab_pars, is_optimization=is_optimization)\n",
    "muscat.Nx,muscat.Ny = int(np.squeeze(matlab_pars['Nx'].value)), int(np.squeeze(matlab_pars['Ny'].value))\n",
    "muscat.NAc = .3\n",
    "#muscat.NAo = .4"
   ]
  },
  {
   "cell_type": "markdown",
   "metadata": {},
   "source": [
    "# Handle the COMA/decentered Lightsource?!"
   ]
  },
  {
   "cell_type": "code",
   "execution_count": 13,
   "metadata": {
    "collapsed": true
   },
   "outputs": [],
   "source": [
    "# INVERTING THE MISAGLINMENT OF THE SYSTEM! Its consered to be coma and/or shifted optical axis of the illumination in Y-direction!\n",
    "muscat.shiftIcX = -1 # shifts pupil along X; >0 -> shifts down (influences YZ-Plot)\n",
    "muscat.shiftIcY = 0 # shifts pupil along Y; >0 -> shifts right (influences XZ-Plot)\n",
    "muscat.comaX =  -.66# introduces Coma in X direction \n",
    "muscat.comaY = 2 # introduces Coma in X direction \n",
    "muscat.dn = .05\n",
    "muscat.mysize = (muscat.Nz,muscat.Nx,muscat.Ny) # ordering is (Nillu, Nz, Nx, Ny)"
   ]
  },
  {
   "cell_type": "markdown",
   "metadata": {},
   "source": [
    "# Generate Test-Object"
   ]
  },
  {
   "cell_type": "code",
   "execution_count": 14,
   "metadata": {
    "collapsed": true
   },
   "outputs": [],
   "source": [
    "''' Create a 3D Refractive Index Distributaton as a artificial sample'''\n",
    "obj = tf_go.generateObject(mysize=muscat.mysize, obj_dim=muscat.dx, obj_type ='sphere', diameter = 1, dn = muscat.dn)"
   ]
  },
  {
   "cell_type": "markdown",
   "metadata": {},
   "source": [
    "# Compute the System's properties (e.g. Pupil function/Illumination Source, K-vectors, etc.)"
   ]
  },
  {
   "cell_type": "code",
   "execution_count": 15,
   "metadata": {
    "collapsed": false
   },
   "outputs": [
    {
     "name": "stdout",
     "output_type": "stream",
     "text": [
      "----------> Be aware: We are taking aberrations into account!\n",
      "Shifting the illumination in X by: -1 Pixel\n",
      "Shifting the illumination in Y by: 0 Pixel\n",
      "Number of Illumination Angles / Plane waves: 21\n"
     ]
    }
   ],
   "source": [
    "''' Compute the systems model'''\n",
    "muscat.computesys(obj, is_zernike=True)"
   ]
  },
  {
   "cell_type": "markdown",
   "metadata": {},
   "source": [
    "# Generate Computational Graph (fwd model)"
   ]
  },
  {
   "cell_type": "code",
   "execution_count": 16,
   "metadata": {
    "collapsed": false
   },
   "outputs": [
    {
     "name": "stdout",
     "output_type": "stream",
     "text": [
      "Buildup Q-PHASE Model \n"
     ]
    }
   ],
   "source": [
    "tf_fwd = muscat.computemodel()# Generate Test-Object\n",
    "\n",
    "if(is_display): plt.subplot(121), plt.title('Ic'), plt.imshow(muscat.Ic), plt.subplot(122), plt.title('Po'),plt.imshow(np.fft.fftshift(np.angle(muscat.Po))), plt.colorbar(), plt.show()"
   ]
  },
  {
   "cell_type": "code",
   "execution_count": null,
   "metadata": {
    "collapsed": true
   },
   "outputs": [],
   "source": []
  },
  {
   "cell_type": "markdown",
   "metadata": {},
   "source": [
    "# Compute the fwd model with a guess-object and compare to real measurement"
   ]
  },
  {
   "cell_type": "code",
   "execution_count": 17,
   "metadata": {
    "collapsed": false
   },
   "outputs": [],
   "source": [
    "''' Evaluate the model '''\n",
    "sess = tf.Session()\n",
    "sess.run(tf.initialize_all_variables())\n",
    "myres = sess.run(tf_fwd, feed_dict={muscat.TF_obj:obj})"
   ]
  },
  {
   "cell_type": "markdown",
   "metadata": {},
   "source": [
    "## Compare Phase of measured and simulated data"
   ]
  },
  {
   "cell_type": "code",
   "execution_count": 18,
   "metadata": {
    "collapsed": false
   },
   "outputs": [
    {
     "data": {
      "text/plain": [
       "(Text(0.5,1,'Experiment: XY'),\n",
       " <matplotlib.image.AxesImage at 0x1757fc3cc88>,\n",
       " <matplotlib.colorbar.Colorbar at 0x1757fc6d710>)"
      ]
     },
     "execution_count": 18,
     "metadata": {},
     "output_type": "execute_result"
    },
    {
     "data": {
      "image/png": "[encoded data removed]",
      "text/plain": [
       "<Figure size 720x432 with 12 Axes>"
      ]
     },
     "metadata": {},
     "output_type": "display_data"
    }
   ],
   "source": [
    "# add noise\n",
    "myres_noise = myres + 0.001*np.random.randn(muscat.Nz,muscat.Nx,muscat.Ny)\n",
    "\n",
    "plt.subplot(231)\n",
    "plt.title('YZ'),plt.imshow(np.angle(myres_noise)[:,muscat.mysize[1]//2,:]), plt.colorbar()\n",
    "plt.subplot(232)\n",
    "plt.title('XZ'),plt.imshow(np.angle(myres_noise)[:,:,muscat.mysize[2]//2]), plt.colorbar()\n",
    "plt.subplot(233)\n",
    "plt.title('XY'),plt.imshow(np.angle(myres_noise)[muscat.mysize[0]//2,:,:]), plt.colorbar()\n",
    "\n",
    "plt.subplot(234)\n",
    "plt.title('Experiment: YZ'),plt.imshow(np.angle(matlab_val)[:,muscat.mysize[1]//2,:]), plt.colorbar()\n",
    "plt.subplot(235)\n",
    "plt.title('Experiment: XZ'),plt.imshow(np.angle(matlab_val)[:,:,muscat.mysize[2]//2]), plt.colorbar()\n",
    "plt.subplot(236)\n",
    "plt.title('Experiment: XY'),plt.imshow(np.angle(matlab_val)[muscat.mysize[0]//2,:,:]), plt.colorbar()\n",
    "#data.save_timeseries(np.angle(matlab_val), 'droplet_meas_angle')\n",
    "#data.save_timeseries(np.angle(myres), 'droplet_simu_angle')    "
   ]
  },
  {
   "cell_type": "code",
   "execution_count": null,
   "metadata": {
    "collapsed": true
   },
   "outputs": [],
   "source": []
  },
  {
   "cell_type": "markdown",
   "metadata": {},
   "source": [
    "# Define Optimizer and Cost-function"
   ]
  },
  {
   "cell_type": "markdown",
   "metadata": {},
   "source": [
    "Now load data which has been saved previously (Optional!)"
   ]
  },
  {
   "cell_type": "code",
   "execution_count": null,
   "metadata": {
    "collapsed": false
   },
   "outputs": [
    {
     "name": "stdout",
     "output_type": "stream",
     "text": [
      "Regularizer: Penalize Values less then 0\n",
      "Regularizer: Penalize Values higher then 0.2\n"
     ]
    },
    {
     "data": {
      "text/plain": [
       "array([[[0.00505855, 0.00585442, 0.0053537 , ..., 0.00577383,\n",
       "         0.00524947, 0.00575598],\n",
       "        [0.00537951, 0.00541178, 0.0047304 , ..., 0.00549233,\n",
       "         0.0054247 , 0.00626564],\n",
       "        [0.00557854, 0.00540142, 0.00642429, ..., 0.00543032,\n",
       "         0.00524949, 0.0057105 ],\n",
       "        ...,\n",
       "        [0.0056429 , 0.00697382, 0.00706871, ..., 0.00868675,\n",
       "         0.00955298, 0.01035521],\n",
       "        [0.00581071, 0.00710834, 0.00706191, ..., 0.00856903,\n",
       "         0.00910828, 0.01035197],\n",
       "        [0.0068533 , 0.00751915, 0.00795216, ..., 0.00700549,\n",
       "         0.00732621, 0.00964682]],\n",
       "\n",
       "       [[0.00413923, 0.00502043, 0.00538776, ..., 0.00568447,\n",
       "         0.00549494, 0.00576532],\n",
       "        [0.00577594, 0.00461982, 0.00429445, ..., 0.00572584,\n",
       "         0.00522285, 0.00614755],\n",
       "        [0.00560898, 0.00539659, 0.00631114, ..., 0.00545719,\n",
       "         0.00542263, 0.00582783],\n",
       "        ...,\n",
       "        [0.00615065, 0.00654047, 0.00663823, ..., 0.00876264,\n",
       "         0.00958357, 0.01028623],\n",
       "        [0.00654246, 0.00714435, 0.00739706, ..., 0.00750772,\n",
       "         0.00894198, 0.01021308],\n",
       "        [0.00653954, 0.00814332, 0.00875097, ..., 0.00645029,\n",
       "         0.00795397, 0.00939521]],\n",
       "\n",
       "       [[0.0048385 , 0.00615787, 0.00539279, ..., 0.00576107,\n",
       "         0.00569604, 0.00603577],\n",
       "        [0.00484865, 0.00511281, 0.00451396, ..., 0.00547234,\n",
       "         0.00540565, 0.00603673],\n",
       "        [0.00534166, 0.00590481, 0.00598992, ..., 0.00604035,\n",
       "         0.00568144, 0.00544786],\n",
       "        ...,\n",
       "        [0.00554533, 0.00644338, 0.00706726, ..., 0.00821927,\n",
       "         0.00885323, 0.01018194],\n",
       "        [0.00613809, 0.00685288, 0.00708292, ..., 0.00747644,\n",
       "         0.00835194, 0.00968074],\n",
       "        [0.00704078, 0.00781976, 0.00819229, ..., 0.00631684,\n",
       "         0.00730648, 0.00875253]],\n",
       "\n",
       "       ...,\n",
       "\n",
       "       [[0.00473277, 0.00556389, 0.00508552, ..., 0.00471265,\n",
       "         0.00494696, 0.00505478],\n",
       "        [0.00515789, 0.00537723, 0.00564081, ..., 0.00452008,\n",
       "         0.00503291, 0.00487826],\n",
       "        [0.00549643, 0.00549885, 0.00668115, ..., 0.0050633 ,\n",
       "         0.00504831, 0.00449776],\n",
       "        ...,\n",
       "        [0.00692169, 0.00652389, 0.00589105, ..., 0.00713391,\n",
       "         0.00852876, 0.00949985],\n",
       "        [0.00705796, 0.00666065, 0.00663585, ..., 0.00512045,\n",
       "         0.00659983, 0.00730979],\n",
       "        [0.00714797, 0.00717842, 0.00743707, ..., 0.00322636,\n",
       "         0.00487368, 0.00518222]],\n",
       "\n",
       "       [[0.00429629, 0.00535575, 0.00542491, ..., 0.00487792,\n",
       "         0.00458733, 0.00498756],\n",
       "        [0.00557863, 0.00565213, 0.00534694, ..., 0.00458861,\n",
       "         0.00461066, 0.00448448],\n",
       "        [0.00610658, 0.00648902, 0.00655755, ..., 0.00479437,\n",
       "         0.00507077, 0.00495366],\n",
       "        ...,\n",
       "        [0.00717959, 0.00679449, 0.00587846, ..., 0.00697679,\n",
       "         0.00820565, 0.00925451],\n",
       "        [0.00724965, 0.0070972 , 0.00715749, ..., 0.00494917,\n",
       "         0.00687333, 0.00812994],\n",
       "        [0.00751577, 0.00780253, 0.0077486 , ..., 0.00349446,\n",
       "         0.00573432, 0.00627707]],\n",
       "\n",
       "       [[0.0051457 , 0.00572914, 0.00490186, ..., 0.00435848,\n",
       "         0.00445818, 0.00443326],\n",
       "        [0.0054059 , 0.00575877, 0.00614903, ..., 0.00518976,\n",
       "         0.00510826, 0.00448907],\n",
       "        [0.00615602, 0.00710419, 0.00747108, ..., 0.00549964,\n",
       "         0.00486536, 0.00488752],\n",
       "        ...,\n",
       "        [0.00677505, 0.00674243, 0.0060779 , ..., 0.00780123,\n",
       "         0.00881982, 0.01043982],\n",
       "        [0.00684384, 0.00673517, 0.0068504 , ..., 0.00582482,\n",
       "         0.00685613, 0.0078813 ],\n",
       "        [0.00758065, 0.00705692, 0.00651992, ..., 0.00385398,\n",
       "         0.00591708, 0.00622203]]], dtype=float32)"
      ]
     },
     "execution_count": 19,
     "metadata": {},
     "output_type": "execute_result"
    }
   ],
   "source": [
    "#%%\n",
    "'''Regression + Regularization'''\n",
    "tf_meas = tf.placeholder(dtype=tf.complex64, shape=muscat.mysize)\n",
    "             \n",
    "'''Define Cost-function'''\n",
    "tf_tvloss = lambda_tv*reg.tf_total_variation_regularization(muscat.TF_obj)  #Alernatively total_variation\n",
    "tf_posloss = lambda_neg*reg.posiminity(muscat.TF_obj, minval=0)\n",
    "tf_negloss = lambda_pos*reg.posimaxity(muscat.TF_obj, maxval=.2)  \n",
    "tf_fidelity = tf.reduce_sum(tf_helper.tf_abssqr(tf_meas - tf_fwd))\n",
    "\n",
    "tf_loss = tf_fidelity +  tf_negloss + tf_posloss + tf_tvloss\n",
    "\n",
    " # data fidelity\n",
    "# TV regularization\n",
    "# Positivity Penalty          \n",
    "# eventually Goods Roughness reg\n",
    "          \n",
    "          \n",
    "'''Define Optimizer'''\n",
    "tf_optimizer = tf.train.AdamOptimizer(my_learningrate)\n",
    "tf_lossop = tf_optimizer.minimize(tf_loss)\n",
    "\n",
    "\n",
    "# this is the initial guess of the reconstruction\n",
    "init_guess = np.angle(np_meas) - np.min(np.angle(np_meas))\n",
    "init_guess = init_guess/np.max(init_guess)*muscat.dn\n",
    "\n",
    "''' Evaluate the model '''\n",
    "sess = tf.Session()\n",
    "sess.run(tf.global_variables_initializer())\n",
    "sess.run(tf.assign(muscat.TF_obj, init_guess)) # assign abs of measurement as initial guess of \n"
   ]
  },
  {
   "cell_type": "markdown",
   "metadata": {},
   "source": [
    "# Optimize"
   ]
  },
  {
   "cell_type": "code",
   "execution_count": null,
   "metadata": {
    "collapsed": false
   },
   "outputs": [
    {
     "name": "stdout",
     "output_type": "stream",
     "text": [
      "Start optimizing\n",
      "MY loss: @10: 43037.664 - Fidelity: 26394.648, Neg: 2647.897, Pos: 13983.438, TV: 11.681409\n",
      "MY loss: @20: 17326.914 - Fidelity: 11562.805, Neg: 813.15796, Pos: 4939.496, TV: 11.455249\n",
      "MY loss: @30: 8759.409 - Fidelity: 6905.8926, Neg: 327.0937, Pos: 1515.0392, TV: 11.383664\n",
      "MY loss: @40: 6062.1562 - Fidelity: 5170.927, Neg: 232.45583, Pos: 647.413, TV: 11.360402\n",
      "MY loss: @50: 4371.507 - Fidelity: 3965.3984, Neg: 110.68577, Pos: 284.08817, TV: 11.334681\n",
      "MY loss: @60: 5007.8804 - Fidelity: 4672.209, Neg: 105.30633, Pos: 219.03595, TV: 11.328926\n",
      "MY loss: @70: 4304.5337 - Fidelity: 4035.918, Neg: 58.420288, Pos: 198.87051, TV: 11.324949\n",
      "MY loss: @80: 4347.895 - Fidelity: 4229.0786, Neg: 36.264847, Pos: 71.2405, TV: 11.311161\n",
      "MY loss: @90: 4553.027 - Fidelity: 4420.439, Neg: 46.838528, Pos: 74.43538, TV: 11.313971\n",
      "MY loss: @100: 3847.917 - Fidelity: 3749.6782, Neg: 30.968876, Pos: 55.960674, TV: 11.309055\n",
      "MY loss: @110: 6184.244 - Fidelity: 5999.8105, Neg: 48.92248, Pos: 124.19495, TV: 11.316272\n",
      "MY loss: @120: 4671.2983 - Fidelity: 4500.3604, Neg: 38.656498, Pos: 120.96256, TV: 11.318849\n",
      "MY loss: @130: 4410.868 - Fidelity: 4334.048, Neg: 28.740498, Pos: 36.771683, TV: 11.308045\n",
      "MY loss: @140: 7678.3394 - Fidelity: 7134.5938, Neg: 118.50531, Pos: 413.9, TV: 11.340203\n",
      "MY loss: @150: 4570.6255 - Fidelity: 4402.956, Neg: 34.467175, Pos: 121.87874, TV: 11.323086\n",
      "MY loss: @160: 3654.8186 - Fidelity: 3567.8433, Neg: 33.930565, Pos: 41.733017, TV: 11.311889\n",
      "MY loss: @170: 3621.9963 - Fidelity: 3527.1187, Neg: 38.569973, Pos: 44.995293, TV: 11.312281\n",
      "MY loss: @180: 3963.4192 - Fidelity: 3896.7783, Neg: 28.198929, Pos: 27.13266, TV: 11.309321\n",
      "MY loss: @190: 3757.0056 - Fidelity: 3667.1968, Neg: 33.716698, Pos: 44.77991, TV: 11.312081\n",
      "MY loss: @200: 3618.463 - Fidelity: 3553.4512, Neg: 27.503796, Pos: 26.19854, TV: 11.309438\n",
      "MY loss: @210: 7455.933 - Fidelity: 7101.9346, Neg: 138.90213, Pos: 203.76126, TV: 11.335044\n",
      "MY loss: @220: 5067.2935 - Fidelity: 4929.116, Neg: 43.054543, Pos: 83.79688, TV: 11.325788\n",
      "MY loss: @230: 5676.6934 - Fidelity: 5593.118, Neg: 39.065727, Pos: 33.192085, TV: 11.317241\n",
      "MY loss: @240: 3962.7256 - Fidelity: 3842.8306, Neg: 41.523445, Pos: 67.047745, TV: 11.323728\n",
      "MY loss: @250: 3512.7258 - Fidelity: 3443.824, Neg: 25.824327, Pos: 31.761847, TV: 11.315661\n",
      "MY loss: @260: 6232.9453 - Fidelity: 5812.9707, Neg: 105.843445, Pos: 302.7915, TV: 11.339887\n",
      "MY loss: @270: 4979.642 - Fidelity: 4784.424, Neg: 39.868412, Pos: 144.01767, TV: 11.332243\n",
      "MY loss: @280: 4094.975 - Fidelity: 4004.6226, Neg: 32.044224, Pos: 46.988983, TV: 11.319388\n",
      "MY loss: @290: 3638.6838 - Fidelity: 3558.4836, Neg: 34.590813, Pos: 34.291695, TV: 11.317615\n",
      "MY loss: @300: 11145.397 - Fidelity: 11061.033, Neg: 24.167454, Pos: 48.883076, TV: 11.314716\n",
      "MY loss: @310: 5462.027 - Fidelity: 5046.955, Neg: 88.50407, Pos: 315.2237, TV: 11.344081\n",
      "MY loss: @320: 3714.8247 - Fidelity: 3614.7007, Neg: 30.64573, Pos: 58.15297, TV: 11.325082\n",
      "MY loss: @330: 3794.0986 - Fidelity: 3715.9507, Neg: 34.61002, Pos: 32.218094, TV: 11.319817\n",
      "MY loss: @340: 4289.496 - Fidelity: 4224.4053, Neg: 30.682785, Pos: 23.09185, TV: 11.316205\n",
      "MY loss: @350: 4043.6204 - Fidelity: 3961.7427, Neg: 35.714344, Pos: 34.84372, TV: 11.31966\n",
      "MY loss: @360: 4531.985 - Fidelity: 4472.35, Neg: 27.605085, Pos: 20.713785, TV: 11.315883\n",
      "MY loss: @370: 4107.446 - Fidelity: 4004.6504, Neg: 41.206543, Pos: 50.265633, TV: 11.323091\n",
      "MY loss: @380: 3991.8665 - Fidelity: 3925.917, Neg: 24.039305, Pos: 30.592726, TV: 11.317353\n",
      "MY loss: @390: 5405.4233 - Fidelity: 5172.7495, Neg: 57.79576, Pos: 163.5449, TV: 11.3328705\n",
      "MY loss: @400: 3603.0244 - Fidelity: 3519.2446, Neg: 27.85997, Pos: 44.59612, TV: 11.323614\n",
      "MY loss: @410: 3460.4844 - Fidelity: 3394.7397, Neg: 29.106817, Pos: 25.31958, TV: 11.318057\n",
      "MY loss: @420: 28473.48 - Fidelity: 26540.402, Neg: 1017.7967, Pos: 903.8797, TV: 11.402736\n",
      "MY loss: @430: 9584.014 - Fidelity: 7848.9956, Neg: 425.3739, Pos: 1298.2429, TV: 11.401196\n",
      "MY loss: @440: 7445.5103 - Fidelity: 7149.8447, Neg: 100.6275, Pos: 183.68614, TV: 11.352189\n",
      "MY loss: @450: 4806.449 - Fidelity: 4527.6685, Neg: 75.39863, Pos: 192.0385, TV: 11.343824\n",
      "MY loss: @460: 4055.7036 - Fidelity: 3939.0112, Neg: 46.093636, Pos: 59.269905, TV: 11.328649\n",
      "MY loss: @470: 6373.21 - Fidelity: 6061.4023, Neg: 90.41568, Pos: 210.05664, TV: 11.335639\n",
      "MY loss: @480: 11589.665 - Fidelity: 10315.454, Neg: 461.69525, Pos: 801.1215, TV: 11.394083\n",
      "MY loss: @490: 5537.7095 - Fidelity: 5324.3193, Neg: 64.0005, Pos: 138.04695, TV: 11.342827\n",
      "MY loss: @500: 4787.4683 - Fidelity: 4643.4424, Neg: 45.97187, Pos: 86.72308, TV: 11.330977\n",
      "MY loss: @510: 4004.385 - Fidelity: 3905.1406, Neg: 41.52165, Pos: 46.397102, TV: 11.325524\n",
      "MY loss: @520: 3765.2432 - Fidelity: 3691.7983, Neg: 34.067135, Pos: 28.0584, TV: 11.319454\n",
      "MY loss: @530: 11604.351 - Fidelity: 11509.723, Neg: 28.143135, Pos: 55.16677, TV: 11.3178625\n",
      "MY loss: @540: 6041.328 - Fidelity: 5620.4004, Neg: 86.776726, Pos: 322.80463, TV: 11.346385\n",
      "MY loss: @550: 4228.705 - Fidelity: 4119.6196, Neg: 30.431305, Pos: 67.3264, TV: 11.328129\n",
      "MY loss: @560: 6782.9644 - Fidelity: 6691.252, Neg: 34.584866, Pos: 45.8052, TV: 11.322034\n",
      "MY loss: @570: 4263.5327 - Fidelity: 4124.394, Neg: 41.56662, Pos: 86.24007, TV: 11.331849\n",
      "MY loss: @580: 3675.9739 - Fidelity: 3605.5266, Neg: 29.234512, Pos: 29.889078, TV: 11.323471\n",
      "MY loss: @590: 4061.1294 - Fidelity: 3983.3027, Neg: 39.800648, Pos: 26.70446, TV: 11.32179\n",
      "MY loss: @600: 3605.6267 - Fidelity: 3539.1443, Neg: 28.54375, Pos: 26.619404, TV: 11.31941\n",
      "MY loss: @610: 3460.379 - Fidelity: 3403.3672, Neg: 28.014412, Pos: 17.682316, TV: 11.315049\n",
      "MY loss: @620: 24356.055 - Fidelity: 19828.13, Neg: 1236.4358, Pos: 3280.0256, TV: 11.463421\n",
      "MY loss: @630: 7912.2153 - Fidelity: 7132.9873, Neg: 233.12721, Pos: 534.7231, TV: 11.377642\n",
      "MY loss: @640: 7099.0615 - Fidelity: 6830.204, Neg: 84.50554, Pos: 173.00464, TV: 11.347637\n",
      "MY loss: @650: 4220.2188 - Fidelity: 3998.353, Neg: 78.847565, Pos: 131.67525, TV: 11.342841\n",
      "MY loss: @660: 4035.0676 - Fidelity: 3924.0957, Neg: 44.608276, Pos: 55.03312, TV: 11.330435\n",
      "MY loss: @670: 3671.377 - Fidelity: 3580.0454, Neg: 39.46764, Pos: 40.5414, TV: 11.322448\n",
      "MY loss: @680: 3516.6567 - Fidelity: 3440.4329, Neg: 35.820915, Pos: 29.085022, TV: 11.318231\n",
      "MY loss: @690: 4345.713 - Fidelity: 4228.5396, Neg: 41.80239, Pos: 64.049576, TV: 11.321303\n",
      "MY loss: @700: 3958.5579 - Fidelity: 3868.8914, Neg: 31.332256, Pos: 47.013073, TV: 11.321108\n",
      "MY loss: @710: 5756.8423 - Fidelity: 5687.614, Neg: 28.182125, Pos: 29.730692, TV: 11.316125\n",
      "MY loss: @720: 4531.356 - Fidelity: 4384.009, Neg: 59.74081, Pos: 76.278, TV: 11.328402\n",
      "MY loss: @730: 3688.938 - Fidelity: 3617.9316, Neg: 31.28597, Pos: 28.399355, TV: 11.3209505\n"
     ]
    }
   ],
   "source": [
    "#%%\n",
    "''' Optimize the model '''\n",
    "print('Start optimizing')\n",
    "mylosslist = []\n",
    "for iterx in range(1,Niter):\n",
    "    # try to optimize\n",
    "    \n",
    "    if(not np.mod(iterx, Ndisplay)):\n",
    "        my_opt, my_res, my_loss, my_fidelity, my_negloss, my_posloss, my_tvloss =  \\\n",
    "            sess.run([tf_lossop, muscat.TF_obj, tf_loss, tf_fidelity, tf_negloss, tf_posloss, tf_tvloss], feed_dict={tf_meas:np_meas})\n",
    "        \n",
    "        #data.save_as_tif(np.squeeze(np.abs(my_res[:,muscat.mysize[1]//2,:])), 'res_xz', savepath)\n",
    "        #data.save_as_tif(np.squeeze(np.abs(my_res[:,:,muscat.mysize[2]//2])), 'res_yz', savepath)\n",
    "        #data.save_as_tif(np.squeeze(np.abs(my_res[muscat.mysize[0]//2,:,:])), 'res_xy', savepath)\n",
    "\n",
    "        print('MY loss: @'+str(iterx)+': ' + str(my_loss) + ' - Fidelity: '+str(my_fidelity)+', Neg: '+str(my_negloss)+', Pos: '+str(my_posloss)+', TV: '+str(my_tvloss))        \n",
    "        mylosslist.append(my_loss)\n",
    "    else:\n",
    "        sess.run([tf_lossop], feed_dict={tf_meas:np_meas})\n",
    "        #plt.imshow(np.abs(my_res[:,50,:]))\n",
    "        \n",
    "# diplay the error over time\n",
    "plt.title('Error/Cost-function'), plt.plot(np.array(mylosslist)), plt.show()\n"
   ]
  },
  {
   "cell_type": "markdown",
   "metadata": {},
   "source": [
    "# Display result"
   ]
  },
  {
   "cell_type": "code",
   "execution_count": null,
   "metadata": {
    "collapsed": false
   },
   "outputs": [],
   "source": [
    "#%% Display the results\n",
    "is_display=True\n",
    "myfwd, mymeas, my_res = sess.run([tf_fwd, tf_meas, muscat.TF_obj], feed_dict={tf_meas:np_meas})\n",
    "        \n",
    "if(is_display): plt.imshow(np.abs(np.fft.fftshift(np.fft.fftn(mymeas))**.2)[:,muscat.mysize[1]//2,:]), plt.colorbar(), plt.show()    \n",
    "if(is_display): plt.imshow(np.abs(np.fft.fftshift(np.fft.fftn(mymeas))**.2)[muscat.mysize[0]//2,:,:]), plt.colorbar(), plt.show()   \n",
    "if(is_display): plt.imshow(np.abs(np.fft.fftshift(np.fft.fftn(mymeas))**.2)[:,:,muscat.mysize[2]//2]), plt.colorbar(), plt.show()     \n",
    "if(is_display): plt.imshow(np.abs(np.fft.fftshift(np.fft.fftn(myfwd))**.2)[:,muscat.mysize[1]//2,:]), plt.colorbar(), plt.show()\n",
    "if(is_display): plt.imshow(np.abs(np.fft.fftshift(np.fft.fftn(myfwd))**.2)[muscat.mysize[0]//2,:,:]), plt.colorbar(), plt.show()    \n",
    "if(is_display): plt.imshow(np.abs(np.fft.fftshift(np.fft.fftn(myfwd))**.2)[:,:,muscat.mysize[2]//2]), plt.colorbar(), plt.show()    \n",
    "tf_helper.saveHDF5(np.abs(np.fft.fftshift(np.fft.fftn(myfwd))), 'FFT3D_FWD')\n",
    "\n",
    "if(is_display): plt.title('XZ'),plt.imshow(np.abs(myfwd)[:,muscat.mysize[1]//2,:]), plt.colorbar(), plt.show()\n",
    "if(is_display): plt.title('XZ'),plt.imshow(np.abs(myfwd)[:,:,muscat.mysize[2]//2]), plt.colorbar(), plt.show()\n",
    "if(is_display): plt.title('XY'),plt.imshow(np.abs(myfwd)[muscat.mysize[0]//2,:,:]), plt.colorbar(), plt.show()\n",
    "\n",
    "if(is_display): plt.title('XZ'),plt.imshow(np.angle(myfwd)[:,muscat.mysize[1]//2,:]), plt.colorbar(), plt.show()\n",
    "if(is_display): plt.title('XZ'),plt.imshow(np.angle(myfwd)[:,:,muscat.mysize[2]//2]), plt.colorbar(), plt.show()\n",
    "if(is_display): plt.title('XY'),plt.imshow(np.angle(myfwd)[muscat.mysize[0]//2,:,:]), plt.colorbar(), plt.show()\n",
    "\n",
    "\n",
    "my_residual = tf_helper.abssqr(myfwd-mymeas)\n",
    "if(is_display): plt.title('Residual: XZ'),plt.imshow(my_residual [:,muscat.mysize[1]//2,:]), plt.colorbar(), plt.show()\n",
    "if(is_display): plt.title('Residual: XZ'),plt.imshow(my_residual [:,:,muscat.mysize[2]//2]), plt.colorbar(), plt.show()\n",
    "if(is_display): plt.title('Residual: XY'),plt.imshow(my_residual [muscat.mysize[0]//2,:,:]), plt.colorbar(), plt.show()\n",
    "\n",
    "\n",
    "if(is_display): plt.title('Result: XZ'),plt.imshow(my_res[:,muscat.mysize[1]//2,:]), plt.colorbar(), plt.show()\n",
    "if(is_display): plt.title('Result: XZ'),plt.imshow(my_res[:,:,muscat.mysize[2]//2]), plt.colorbar(), plt.show()\n",
    "if(is_display): plt.title('Result: XY'),plt.imshow(my_res[muscat.mysize[0]//2,:,:]), plt.colorbar(), plt.show()\n",
    "\n",
    "\n",
    "#%% save the results\n",
    "np.save(savepath+'/rec.npy', my_res)\n",
    " \n",
    "tf_helper.saveHDF5(my_res, savepath+'Obj_Reconstruction')\n",
    "tf_helper.saveHDF5(np_obj, savepath+'Obj_Orig')\n",
    "tf_helper.saveHDF5(np.abs(np_meas), savepath+'Amplitude_abs')\n",
    "tf_helper.saveHDF5(np.angle(np_meas), savepath+'Amplitude_angle')"
   ]
  },
  {
   "cell_type": "markdown",
   "metadata": {},
   "source": [
    "# Save results"
   ]
  },
  {
   "cell_type": "code",
   "execution_count": null,
   "metadata": {
    "collapsed": true
   },
   "outputs": [],
   "source": [
    "#%% save the results\n",
    "np.save(savepath+'/rec.npy', my_res)\n",
    " \n",
    "tf_helper.saveHDF5(my_res, savepath+'/Obj_Reconstruction.h5')\n",
    "tf_helper.saveHDF5(np.abs(np_meas), savepath+'/Amplitude_abs.h5')\n",
    "tf_helper.saveHDF5(np.angle(np_meas), savepath+'/Amplitude_angle.h5')"
   ]
  }
 ],
 "metadata": {
  "kernelspec": {
   "display_name": "Python 3",
   "language": "python",
   "name": "python3"
  },
  "language_info": {
   "codemirror_mode": {
    "name": "ipython",
    "version": 3
   },
   "file_extension": ".py",
   "mimetype": "text/x-python",
   "name": "python",
   "nbconvert_exporter": "python",
   "pygments_lexer": "ipython3",
   "version": "3.6.1"
  }
 },
 "nbformat": 4,
 "nbformat_minor": 2
}
