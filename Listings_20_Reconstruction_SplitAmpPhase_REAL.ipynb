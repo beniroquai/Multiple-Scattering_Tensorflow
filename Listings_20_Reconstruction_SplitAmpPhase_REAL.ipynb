{
 "cells": [
  {
   "cell_type": "markdown",
   "metadata": {},
   "source": [
    "# This is the minimum Working Example to compute a multiple scattering experiment in the Q-Phase "
   ]
  },
  {
   "cell_type": "code",
   "execution_count": 1,
   "metadata": {
    "collapsed": true
   },
   "outputs": [],
   "source": [
    "#!/usr/bin/env python2\n",
    "# -*- coding: utf-8 -*-\n",
    "\"\"\"\n",
    "Created on Sat Jun 10 19:53:32 2017\n",
    "\n",
    "@author: Bene\n",
    "\n",
    "This file creates a fwd-model for the TESCAN Q-PHASE under \n",
    "multiple-scattering. It is majorly derived from  \"LEarning approach for optical tomography\"\n",
    "U. S. Kamilov, BIG, EPFL, 2014.\n",
    "\"\"\"\n",
    "# %load_ext autoreload\n",
    "import tensorflow as tf\n",
    "import numpy as np\n",
    "import matplotlib as mpl\n",
    "import matplotlib.pyplot as plt\n",
    "import os\n",
    "from datetime import datetime\n",
    "\n",
    "# load own functions\n",
    "import src.model as mus\n",
    "import src.tf_helper as tf_helper\n",
    "import src.tf_generate_object as tf_go\n",
    "import src.data as data\n",
    "import src.optimization.tf_regularizers as reg\n",
    "\n",
    "os.environ[\"CUDA_DEVICE_ORDER\"] = \"PCI_BUS_ID\" \n",
    "os.environ[\"CUDA_VISIBLE_DEVICES\"] = \"0\"\n",
    "\n",
    "# Optionally, tweak styles.\n",
    "mpl.rc('figure',  figsize=(10, 7))\n",
    "mpl.rc('image', cmap='gray')\n"
   ]
  },
  {
   "cell_type": "markdown",
   "metadata": {},
   "source": [
    "# Define some optimization parameters "
   ]
  },
  {
   "cell_type": "code",
   "execution_count": 2,
   "metadata": {
    "collapsed": true
   },
   "outputs": [],
   "source": [
    "'''Define some stuff related to infrastructure'''\n",
    "mytimestamp = datetime.now().strftime('%Y-%m-%d_%H-%M-%S')\n",
    "savepath = os.path.join('./Data/DROPLETS/RESULTS/', mytimestamp)\n",
    "\n",
    "# Create directory\n",
    "try: \n",
    "    os.mkdir(savepath)\n",
    "except(FileExistsError): \n",
    "    print('Folder exists already')\n",
    "\n",
    "# Define parameters \n",
    "is_padding = False \n",
    "is_display = True\n",
    "is_optimization = True \n",
    "is_optimization_psf = True\n",
    "is_flip = False\n",
    "is_measurement = True\n",
    "\n",
    "# data files for parameters and measuremets \n",
    "if is_measurement:\n",
    "    if(False):\n",
    "        matlab_val_file = './Data/DROPLETS/allAmp_red.mat'      #'./Data/DROPLETS/allAmp_simu.npy' #\n",
    "        matlab_par_file = './Data/DROPLETS/myParameterNew.mat'   \n",
    "        matlab_val_name = 'allAmp_red'\n",
    "        matlab_par_name = 'myParameterNew'  \n",
    "    if(True):\n",
    "        matlab_val_file = './Data/DROPLETS/S19_multiple/S19_subroi2.mat'      #'./Data/DROPLETS/allAmp_simu.npy' #\n",
    "        matlab_par_file = './Data/DROPLETS/S19_multiple/Parameter.mat'   \n",
    "        matlab_val_name = 'allAmp_red'\n",
    "        matlab_par_name = 'myParameter' \n",
    "        \n",
    "else:\n",
    "    matlab_val_file = './Data/DROPLETS/RESULTS/allAmp_simu.npy' #'./Data/DROPLETS/allAmp_simu.mat'      \n",
    "    matlab_par_file = './Data/DROPLETS/myParameterNew.mat' \n",
    "    matlab_val_name = 'allAmp_red'\n",
    "    matlab_par_name = 'myParameterNew'\n",
    "\n",
    "# microscope parameters\n",
    "zernikefactors = np.array((0,0,0,0,0,0,0.,-0.,0)) # representing the 9 first zernike coefficients in noll-writings \n",
    "shiftIcY=-1\n",
    "shiftIcX=-0\n",
    "dn = .1\n",
    "NAc = .52\n",
    "\n",
    "'''Define Optimization Parameters'''\n",
    "my_learningrate = 1e-2  # learning rate\n",
    "lambda_tv =  1e-2 # lambda for Total variation\n",
    "epsTV = .01\n",
    "lambda_gr = 0 # lambda for Goods Roughness \n",
    "lambda_pos = 0\n",
    "lambda_neg = 10\n",
    "\n",
    "Niter = 10000\n",
    "Ndisplay = 15\n",
    "\n",
    "\n",
    "'''START CODE'''\n",
    "tf.reset_default_graph() # just in case there was an open session"
   ]
  },
  {
   "cell_type": "markdown",
   "metadata": {},
   "source": [
    "# Generate Test-Object"
   ]
  },
  {
   "cell_type": "code",
   "execution_count": 3,
   "metadata": {
    "collapsed": false
   },
   "outputs": [
    {
     "name": "stdout",
     "output_type": "stream",
     "text": [
      "do we need to flip the data?! -> Observe FFT!!\n",
      "Assigned some value for dn which is not good!\n",
      "Attention: Changed Z-sampling!!\n"
     ]
    }
   ],
   "source": [
    "''' File which stores the experimental parameters from the Q-PHASE setup \n",
    "    1.) Read in the parameters of the dataset ''' \n",
    "matlab_pars = data.import_parameters_mat(filename = matlab_par_file, matname=matlab_par_name)\n",
    "\n",
    "''' 2.) Read in the parameters of the dataset ''' \n",
    "if(matlab_val_file.find('mat')==-1):\n",
    "    matlab_val = np.load(matlab_val_file)\n",
    "else:\n",
    "    matlab_val = data.import_realdata_h5(filename = matlab_val_file, matname=matlab_val_name, is_complex=True)\n",
    "\n",
    "if(is_flip):\n",
    "    np_meas_raw = np.flip(matlab_val,0)\n",
    "    print('Attention: We are flipping the data!')\n",
    "else:\n",
    "    np_meas_raw = matlab_val\n",
    "    print('do we need to flip the data?! -> Observe FFT!!')\n",
    "\n",
    "\n",
    "\n",
    "''' Create the Model'''\n",
    "muscat = mus.MuScatModel(matlab_pars, is_optimization=is_optimization, is_optimization_psf = is_optimization_psf)\n",
    "muscat.Nx,muscat.Ny = int(np.squeeze(matlab_pars['Nx'].value)), int(np.squeeze(matlab_pars['Ny'].value))\n",
    "muscat.shiftIcY=shiftIcY\n",
    "muscat.shiftIcX=shiftIcX\n",
    "muscat.dn = dn\n",
    "muscat.NAc = NAc\n",
    "muscat.dz = muscat.lambda0/4\n",
    "\n",
    "print('Attention: Changed Z-sampling!!')\n",
    "\n",
    "''' Adjust some parameters to fit it in the memory '''\n",
    "muscat.mysize = (muscat.Nz,muscat.Nx,muscat.Ny) # ordering is (Nillu, Nz, Nx, Ny)\n",
    "\n",
    "''' Create a 3D Refractive Index Distributaton as a artificial sample'''\n",
    "obj = tf_go.generateObject(mysize=muscat.mysize, obj_dim=(muscat.dz,muscat.dx,muscat.dy), obj_type ='sphere', diameter = 1, dn = muscat.dn)\n",
    "obj = obj+1j*obj\n",
    "# introduce zernike factors here\n",
    "muscat.zernikefactors = zernikefactors\n"
   ]
  },
  {
   "cell_type": "markdown",
   "metadata": {},
   "source": [
    "# Compute the System's properties (e.g. Pupil function/Illumination Source, K-vectors, etc.)"
   ]
  },
  {
   "cell_type": "code",
   "execution_count": 4,
   "metadata": {
    "collapsed": false
   },
   "outputs": [
    {
     "name": "stdout",
     "output_type": "stream",
     "text": [
      "----------> Be aware: We are taking aberrations into account!\n",
      "We are weighing the Intensity int the illu-pupil!\n",
      "Shifting the illumination in X by: 0 Pixel\n",
      "Shifting the illumination in Y by: -1 Pixel\n",
      "Number of Illumination Angles / Plane waves: 49\n",
      "Buildup Q-PHASE Model \n"
     ]
    },
    {
     "name": "stderr",
     "output_type": "stream",
     "text": [
      "C:\\ProgramData\\Anaconda3\\lib\\site-packages\\tensorflow\\python\\framework\\tensor_util.py:416: ComplexWarning: Casting complex values to real discards the imaginary part\n",
      "  nparray = values.astype(dtype.as_numpy_dtype)\n"
     ]
    }
   ],
   "source": [
    "''' Compute the systems model'''\n",
    "muscat.computesys(obj, is_zernike=True, is_padding=is_padding, dropout_prob=1)\n",
    "tf_fwd = muscat.computemodel()"
   ]
  },
  {
   "cell_type": "markdown",
   "metadata": {},
   "source": [
    "# Define Optimizer and Cost-function"
   ]
  },
  {
   "cell_type": "markdown",
   "metadata": {},
   "source": [
    "Now load data which has been saved previously (Optional!)"
   ]
  },
  {
   "cell_type": "code",
   "execution_count": 5,
   "metadata": {
    "collapsed": false
   },
   "outputs": [
    {
     "name": "stdout",
     "output_type": "stream",
     "text": [
      "Evtl unwrap it!\n"
     ]
    },
    {
     "data": {
      "image/png": "[encoded data removed]",
      "text/plain": [
       "<Figure size 720x504 with 6 Axes>"
      ]
     },
     "metadata": {},
     "output_type": "display_data"
    }
   ],
   "source": [
    "print('Evtl unwrap it!')\n",
    "\n",
    "# this is the initial guess of the reconstruction\n",
    "np_meas=np_meas_raw#*np.exp(1j*np.pi)\n",
    "\n",
    "\n",
    "if(False): # good for the experiment\n",
    "    init_guess = np.angle(np_meas)\n",
    "    init_guess = init_guess - np.min(init_guess)\n",
    "    init_guess = init_guess**2\n",
    "    init_guess = init_guess/np.max(init_guess)*muscat.dn\n",
    "elif(False): # good for the simulation\n",
    "    init_guess = -np.abs(np_meas)\n",
    "    init_guess = init_guess - np.min(init_guess)\n",
    "    init_guess = init_guess**2\n",
    "    init_guess = init_guess/np.max(init_guess)*muscat.dn\n",
    "    init_guess = np.flip(init_guess,0)\n",
    "elif(False):\n",
    "    init_guess = np.ones(np_meas.shape)*muscat.dn\n",
    "elif(False):\n",
    "    init_guess = tf_go.generateObject(mysize=muscat.mysize, obj_dim=muscat.dx, obj_type ='sphere', diameter = 7, dn = muscat.dn)\n",
    "else:\n",
    "    init_guess = np_meas\n",
    "    obj = tf_go.generateObject(mysize=muscat.mysize, obj_dim=muscat.dx, obj_type ='sphere', diameter = 10, dn = muscat.dn)\n",
    "    obj_absorption = tf_go.generateObject(mysize=muscat.mysize, obj_dim=muscat.dx, obj_type ='sphere', diameter = 10, dn = 1)\n",
    "    obj = obj+1j*obj_absorption*.2\n",
    "    init_guess = obj\n",
    "    init_guess = np.load('my_res_cmplx.npy')\n",
    "    #init_guess = np.random.randn(np_meas.shape[0],init_guess.shape[1],init_guess.shape[2])*muscat.dn\n",
    "\n",
    "        \n",
    "\n",
    "if(is_display): plt.subplot(231), plt.title('Angle YZ'),plt.imshow(np.real(init_guess[:,init_guess.shape[1]//2,:])), plt.colorbar()\n",
    "if(is_display): plt.subplot(232), plt.title('Angle XZ'),plt.imshow(np.real(init_guess[:,:,init_guess.shape[1]//2])), plt.colorbar()\n",
    "if(is_display): plt.subplot(233), plt.title('Angle XZ'),plt.imshow(np.real(init_guess[init_guess.shape[0]//2,:,:])), plt.colorbar(),plt.show()\n"
   ]
  },
  {
   "cell_type": "markdown",
   "metadata": {},
   "source": [
    "# Set Optimization Parameters"
   ]
  },
  {
   "cell_type": "code",
   "execution_count": 6,
   "metadata": {
    "collapsed": false
   },
   "outputs": [
    {
     "name": "stderr",
     "output_type": "stream",
     "text": [
      "C:\\ProgramData\\Anaconda3\\lib\\site-packages\\tensorflow\\python\\framework\\tensor_util.py:416: ComplexWarning: Casting complex values to real discards the imaginary part\n",
      "  nparray = values.astype(dtype.as_numpy_dtype)\n"
     ]
    },
    {
     "ename": "InternalError",
     "evalue": "BlasScal failed : in.shape=[49,32,32]\n\t [[{{node Fwd_Propagate/Propagate/IFFT2D}} = IFFT2D[Tcomplex=DT_COMPLEX64, _device=\"/job:localhost/replica:0/task:0/device:GPU:0\"](Fwd_Propagate/Propagate/mul)]]\n\t [[{{node Back_Propagate/Back_Propagate_Step_20/Adjust/strided_slice_2/_43}} = _Recv[client_terminated=false, recv_device=\"/job:localhost/replica:0/task:0/device:CPU:0\", send_device=\"/job:localhost/replica:0/task:0/device:GPU:0\", send_device_incarnation=1, tensor_name=\"edge_2142_Back_Propagate/Back_Propagate_Step_20/Adjust/strided_slice_2\", tensor_type=DT_COMPLEX64, _device=\"/job:localhost/replica:0/task:0/device:CPU:0\"]()]]\n\nCaused by op 'Fwd_Propagate/Propagate/IFFT2D', defined at:\n  File \"C:\\ProgramData\\Anaconda3\\lib\\runpy.py\", line 193, in _run_module_as_main\n    \"__main__\", mod_spec)\n  File \"C:\\ProgramData\\Anaconda3\\lib\\runpy.py\", line 85, in _run_code\n    exec(code, run_globals)\n  File \"C:\\ProgramData\\Anaconda3\\lib\\site-packages\\ipykernel\\__main__.py\", line 3, in <module>\n    app.launch_new_instance()\n  File \"C:\\ProgramData\\Anaconda3\\lib\\site-packages\\traitlets\\config\\application.py\", line 658, in launch_instance\n    app.start()\n  File \"C:\\ProgramData\\Anaconda3\\lib\\site-packages\\ipykernel\\kernelapp.py\", line 474, in start\n    ioloop.IOLoop.instance().start()\n  File \"C:\\ProgramData\\Anaconda3\\lib\\site-packages\\zmq\\eventloop\\ioloop.py\", line 177, in start\n    super(ZMQIOLoop, self).start()\n  File \"C:\\ProgramData\\Anaconda3\\lib\\site-packages\\tornado\\ioloop.py\", line 887, in start\n    handler_func(fd_obj, events)\n  File \"C:\\ProgramData\\Anaconda3\\lib\\site-packages\\tornado\\stack_context.py\", line 275, in null_wrapper\n    return fn(*args, **kwargs)\n  File \"C:\\ProgramData\\Anaconda3\\lib\\site-packages\\zmq\\eventloop\\zmqstream.py\", line 440, in _handle_events\n    self._handle_recv()\n  File \"C:\\ProgramData\\Anaconda3\\lib\\site-packages\\zmq\\eventloop\\zmqstream.py\", line 472, in _handle_recv\n    self._run_callback(callback, msg)\n  File \"C:\\ProgramData\\Anaconda3\\lib\\site-packages\\zmq\\eventloop\\zmqstream.py\", line 414, in _run_callback\n    callback(*args, **kwargs)\n  File \"C:\\ProgramData\\Anaconda3\\lib\\site-packages\\tornado\\stack_context.py\", line 275, in null_wrapper\n    return fn(*args, **kwargs)\n  File \"C:\\ProgramData\\Anaconda3\\lib\\site-packages\\ipykernel\\kernelbase.py\", line 276, in dispatcher\n    return self.dispatch_shell(stream, msg)\n  File \"C:\\ProgramData\\Anaconda3\\lib\\site-packages\\ipykernel\\kernelbase.py\", line 228, in dispatch_shell\n    handler(stream, idents, msg)\n  File \"C:\\ProgramData\\Anaconda3\\lib\\site-packages\\ipykernel\\kernelbase.py\", line 390, in execute_request\n    user_expressions, allow_stdin)\n  File \"C:\\ProgramData\\Anaconda3\\lib\\site-packages\\ipykernel\\ipkernel.py\", line 196, in do_execute\n    res = shell.run_cell(code, store_history=store_history, silent=silent)\n  File \"C:\\ProgramData\\Anaconda3\\lib\\site-packages\\ipykernel\\zmqshell.py\", line 501, in run_cell\n    return super(ZMQInteractiveShell, self).run_cell(*args, **kwargs)\n  File \"C:\\ProgramData\\Anaconda3\\lib\\site-packages\\IPython\\core\\interactiveshell.py\", line 2717, in run_cell\n    interactivity=interactivity, compiler=compiler, result=result)\n  File \"C:\\ProgramData\\Anaconda3\\lib\\site-packages\\IPython\\core\\interactiveshell.py\", line 2821, in run_ast_nodes\n    if self.run_code(code, result):\n  File \"C:\\ProgramData\\Anaconda3\\lib\\site-packages\\IPython\\core\\interactiveshell.py\", line 2881, in run_code\n    exec(code_obj, self.user_global_ns, self.user_ns)\n  File \"<ipython-input-4-3abb202ba7e9>\", line 3, in <module>\n    tf_fwd = muscat.computemodel()\n  File \"C:\\Users\\diederichbenedict\\Dropbox\\Dokumente\\Promotion\\PROJECTS\\BOSTON\\MUSCAT\\PYTHON\\muScat\\src\\model.py\", line 282, in computemodel\n    self.TF_A_prop = tf.ifft2d(tf.fft2d(self.TF_A_prop) * self.TF_myprop) # diffraction step\n  File \"C:\\ProgramData\\Anaconda3\\lib\\site-packages\\tensorflow\\python\\ops\\gen_spectral_ops.py\", line 618, in ifft2d\n    \"IFFT2D\", input=input, name=name)\n  File \"C:\\ProgramData\\Anaconda3\\lib\\site-packages\\tensorflow\\python\\framework\\op_def_library.py\", line 787, in _apply_op_helper\n    op_def=op_def)\n  File \"C:\\ProgramData\\Anaconda3\\lib\\site-packages\\tensorflow\\python\\util\\deprecation.py\", line 488, in new_func\n    return func(*args, **kwargs)\n  File \"C:\\ProgramData\\Anaconda3\\lib\\site-packages\\tensorflow\\python\\framework\\ops.py\", line 3272, in create_op\n    op_def=op_def)\n  File \"C:\\ProgramData\\Anaconda3\\lib\\site-packages\\tensorflow\\python\\framework\\ops.py\", line 1768, in __init__\n    self._traceback = tf_stack.extract_stack()\n\nInternalError (see above for traceback): BlasScal failed : in.shape=[49,32,32]\n\t [[{{node Fwd_Propagate/Propagate/IFFT2D}} = IFFT2D[Tcomplex=DT_COMPLEX64, _device=\"/job:localhost/replica:0/task:0/device:GPU:0\"](Fwd_Propagate/Propagate/mul)]]\n\t [[{{node Back_Propagate/Back_Propagate_Step_20/Adjust/strided_slice_2/_43}} = _Recv[client_terminated=false, recv_device=\"/job:localhost/replica:0/task:0/device:CPU:0\", send_device=\"/job:localhost/replica:0/task:0/device:GPU:0\", send_device_incarnation=1, tensor_name=\"edge_2142_Back_Propagate/Back_Propagate_Step_20/Adjust/strided_slice_2\", tensor_type=DT_COMPLEX64, _device=\"/job:localhost/replica:0/task:0/device:CPU:0\"]()]]\n",
     "output_type": "error",
     "traceback": [
      "\u001b[0;31m---------------------------------------------------------------------------\u001b[0m",
      "\u001b[0;31mInternalError\u001b[0m                             Traceback (most recent call last)",
      "\u001b[0;32mC:\\ProgramData\\Anaconda3\\lib\\site-packages\\tensorflow\\python\\client\\session.py\u001b[0m in \u001b[0;36m_do_call\u001b[0;34m(self, fn, *args)\u001b[0m\n\u001b[1;32m   1291\u001b[0m     \u001b[1;32mtry\u001b[0m\u001b[1;33m:\u001b[0m\u001b[1;33m\u001b[0m\u001b[0m\n\u001b[0;32m-> 1292\u001b[0;31m       \u001b[1;32mreturn\u001b[0m \u001b[0mfn\u001b[0m\u001b[1;33m(\u001b[0m\u001b[1;33m*\u001b[0m\u001b[0margs\u001b[0m\u001b[1;33m)\u001b[0m\u001b[1;33m\u001b[0m\u001b[0m\n\u001b[0m\u001b[1;32m   1293\u001b[0m     \u001b[1;32mexcept\u001b[0m \u001b[0merrors\u001b[0m\u001b[1;33m.\u001b[0m\u001b[0mOpError\u001b[0m \u001b[1;32mas\u001b[0m \u001b[0me\u001b[0m\u001b[1;33m:\u001b[0m\u001b[1;33m\u001b[0m\u001b[0m\n",
      "\u001b[0;32mC:\\ProgramData\\Anaconda3\\lib\\site-packages\\tensorflow\\python\\client\\session.py\u001b[0m in \u001b[0;36m_run_fn\u001b[0;34m(feed_dict, fetch_list, target_list, options, run_metadata)\u001b[0m\n\u001b[1;32m   1276\u001b[0m       return self._call_tf_sessionrun(\n\u001b[0;32m-> 1277\u001b[0;31m           options, feed_dict, fetch_list, target_list, run_metadata)\n\u001b[0m\u001b[1;32m   1278\u001b[0m \u001b[1;33m\u001b[0m\u001b[0m\n",
      "\u001b[0;32mC:\\ProgramData\\Anaconda3\\lib\\site-packages\\tensorflow\\python\\client\\session.py\u001b[0m in \u001b[0;36m_call_tf_sessionrun\u001b[0;34m(self, options, feed_dict, fetch_list, target_list, run_metadata)\u001b[0m\n\u001b[1;32m   1366\u001b[0m         \u001b[0mself\u001b[0m\u001b[1;33m.\u001b[0m\u001b[0m_session\u001b[0m\u001b[1;33m,\u001b[0m \u001b[0moptions\u001b[0m\u001b[1;33m,\u001b[0m \u001b[0mfeed_dict\u001b[0m\u001b[1;33m,\u001b[0m \u001b[0mfetch_list\u001b[0m\u001b[1;33m,\u001b[0m \u001b[0mtarget_list\u001b[0m\u001b[1;33m,\u001b[0m\u001b[1;33m\u001b[0m\u001b[0m\n\u001b[0;32m-> 1367\u001b[0;31m         run_metadata)\n\u001b[0m\u001b[1;32m   1368\u001b[0m \u001b[1;33m\u001b[0m\u001b[0m\n",
      "\u001b[0;31mInternalError\u001b[0m: BlasScal failed : in.shape=[49,32,32]\n\t [[{{node Fwd_Propagate/Propagate/IFFT2D}} = IFFT2D[Tcomplex=DT_COMPLEX64, _device=\"/job:localhost/replica:0/task:0/device:GPU:0\"](Fwd_Propagate/Propagate/mul)]]\n\t [[{{node Back_Propagate/Back_Propagate_Step_20/Adjust/strided_slice_2/_43}} = _Recv[client_terminated=false, recv_device=\"/job:localhost/replica:0/task:0/device:CPU:0\", send_device=\"/job:localhost/replica:0/task:0/device:GPU:0\", send_device_incarnation=1, tensor_name=\"edge_2142_Back_Propagate/Back_Propagate_Step_20/Adjust/strided_slice_2\", tensor_type=DT_COMPLEX64, _device=\"/job:localhost/replica:0/task:0/device:CPU:0\"]()]]",
      "\nDuring handling of the above exception, another exception occurred:\n",
      "\u001b[0;31mInternalError\u001b[0m                             Traceback (most recent call last)",
      "\u001b[0;32m<ipython-input-6-4a2f5b5b34ce>\u001b[0m in \u001b[0;36m<module>\u001b[0;34m()\u001b[0m\n\u001b[1;32m     53\u001b[0m     \u001b[0msess\u001b[0m\u001b[1;33m.\u001b[0m\u001b[0mrun\u001b[0m\u001b[1;33m(\u001b[0m\u001b[0mtf\u001b[0m\u001b[1;33m.\u001b[0m\u001b[0massign\u001b[0m\u001b[1;33m(\u001b[0m\u001b[0mmuscat\u001b[0m\u001b[1;33m.\u001b[0m\u001b[0mTF_obj\u001b[0m\u001b[1;33m,\u001b[0m \u001b[0minit_guess\u001b[0m\u001b[1;33m)\u001b[0m\u001b[1;33m)\u001b[0m\u001b[1;33m;\u001b[0m \u001b[1;31m# assign abs of measurement as initial guess of\u001b[0m\u001b[1;33m\u001b[0m\u001b[0m\n\u001b[1;32m     54\u001b[0m \u001b[1;33m\u001b[0m\u001b[0m\n\u001b[0;32m---> 55\u001b[0;31m \u001b[0mmy_fwd\u001b[0m \u001b[1;33m=\u001b[0m \u001b[0msess\u001b[0m\u001b[1;33m.\u001b[0m\u001b[0mrun\u001b[0m\u001b[1;33m(\u001b[0m\u001b[0mtf_fwd\u001b[0m\u001b[1;33m)\u001b[0m\u001b[1;31m#, feed_dict={muscat.TF_obj:obj})\u001b[0m\u001b[1;33m\u001b[0m\u001b[0m\n\u001b[0m\u001b[1;32m     56\u001b[0m \u001b[0mmysize\u001b[0m \u001b[1;33m=\u001b[0m \u001b[0mmy_fwd\u001b[0m\u001b[1;33m.\u001b[0m\u001b[0mshape\u001b[0m\u001b[1;33m\u001b[0m\u001b[0m\n\u001b[1;32m     57\u001b[0m \u001b[1;33m\u001b[0m\u001b[0m\n",
      "\u001b[0;32mC:\\ProgramData\\Anaconda3\\lib\\site-packages\\tensorflow\\python\\client\\session.py\u001b[0m in \u001b[0;36mrun\u001b[0;34m(self, fetches, feed_dict, options, run_metadata)\u001b[0m\n\u001b[1;32m    885\u001b[0m     \u001b[1;32mtry\u001b[0m\u001b[1;33m:\u001b[0m\u001b[1;33m\u001b[0m\u001b[0m\n\u001b[1;32m    886\u001b[0m       result = self._run(None, fetches, feed_dict, options_ptr,\n\u001b[0;32m--> 887\u001b[0;31m                          run_metadata_ptr)\n\u001b[0m\u001b[1;32m    888\u001b[0m       \u001b[1;32mif\u001b[0m \u001b[0mrun_metadata\u001b[0m\u001b[1;33m:\u001b[0m\u001b[1;33m\u001b[0m\u001b[0m\n\u001b[1;32m    889\u001b[0m         \u001b[0mproto_data\u001b[0m \u001b[1;33m=\u001b[0m \u001b[0mtf_session\u001b[0m\u001b[1;33m.\u001b[0m\u001b[0mTF_GetBuffer\u001b[0m\u001b[1;33m(\u001b[0m\u001b[0mrun_metadata_ptr\u001b[0m\u001b[1;33m)\u001b[0m\u001b[1;33m\u001b[0m\u001b[0m\n",
      "\u001b[0;32mC:\\ProgramData\\Anaconda3\\lib\\site-packages\\tensorflow\\python\\client\\session.py\u001b[0m in \u001b[0;36m_run\u001b[0;34m(self, handle, fetches, feed_dict, options, run_metadata)\u001b[0m\n\u001b[1;32m   1108\u001b[0m     \u001b[1;32mif\u001b[0m \u001b[0mfinal_fetches\u001b[0m \u001b[1;32mor\u001b[0m \u001b[0mfinal_targets\u001b[0m \u001b[1;32mor\u001b[0m \u001b[1;33m(\u001b[0m\u001b[0mhandle\u001b[0m \u001b[1;32mand\u001b[0m \u001b[0mfeed_dict_tensor\u001b[0m\u001b[1;33m)\u001b[0m\u001b[1;33m:\u001b[0m\u001b[1;33m\u001b[0m\u001b[0m\n\u001b[1;32m   1109\u001b[0m       results = self._do_run(handle, final_targets, final_fetches,\n\u001b[0;32m-> 1110\u001b[0;31m                              feed_dict_tensor, options, run_metadata)\n\u001b[0m\u001b[1;32m   1111\u001b[0m     \u001b[1;32melse\u001b[0m\u001b[1;33m:\u001b[0m\u001b[1;33m\u001b[0m\u001b[0m\n\u001b[1;32m   1112\u001b[0m       \u001b[0mresults\u001b[0m \u001b[1;33m=\u001b[0m \u001b[1;33m[\u001b[0m\u001b[1;33m]\u001b[0m\u001b[1;33m\u001b[0m\u001b[0m\n",
      "\u001b[0;32mC:\\ProgramData\\Anaconda3\\lib\\site-packages\\tensorflow\\python\\client\\session.py\u001b[0m in \u001b[0;36m_do_run\u001b[0;34m(self, handle, target_list, fetch_list, feed_dict, options, run_metadata)\u001b[0m\n\u001b[1;32m   1284\u001b[0m     \u001b[1;32mif\u001b[0m \u001b[0mhandle\u001b[0m \u001b[1;32mis\u001b[0m \u001b[1;32mNone\u001b[0m\u001b[1;33m:\u001b[0m\u001b[1;33m\u001b[0m\u001b[0m\n\u001b[1;32m   1285\u001b[0m       return self._do_call(_run_fn, feeds, fetches, targets, options,\n\u001b[0;32m-> 1286\u001b[0;31m                            run_metadata)\n\u001b[0m\u001b[1;32m   1287\u001b[0m     \u001b[1;32melse\u001b[0m\u001b[1;33m:\u001b[0m\u001b[1;33m\u001b[0m\u001b[0m\n\u001b[1;32m   1288\u001b[0m       \u001b[1;32mreturn\u001b[0m \u001b[0mself\u001b[0m\u001b[1;33m.\u001b[0m\u001b[0m_do_call\u001b[0m\u001b[1;33m(\u001b[0m\u001b[0m_prun_fn\u001b[0m\u001b[1;33m,\u001b[0m \u001b[0mhandle\u001b[0m\u001b[1;33m,\u001b[0m \u001b[0mfeeds\u001b[0m\u001b[1;33m,\u001b[0m \u001b[0mfetches\u001b[0m\u001b[1;33m)\u001b[0m\u001b[1;33m\u001b[0m\u001b[0m\n",
      "\u001b[0;32mC:\\ProgramData\\Anaconda3\\lib\\site-packages\\tensorflow\\python\\client\\session.py\u001b[0m in \u001b[0;36m_do_call\u001b[0;34m(self, fn, *args)\u001b[0m\n\u001b[1;32m   1306\u001b[0m           self._config.experimental.client_handles_error_formatting):\n\u001b[1;32m   1307\u001b[0m         \u001b[0mmessage\u001b[0m \u001b[1;33m=\u001b[0m \u001b[0merror_interpolation\u001b[0m\u001b[1;33m.\u001b[0m\u001b[0minterpolate\u001b[0m\u001b[1;33m(\u001b[0m\u001b[0mmessage\u001b[0m\u001b[1;33m,\u001b[0m \u001b[0mself\u001b[0m\u001b[1;33m.\u001b[0m\u001b[0m_graph\u001b[0m\u001b[1;33m)\u001b[0m\u001b[1;33m\u001b[0m\u001b[0m\n\u001b[0;32m-> 1308\u001b[0;31m       \u001b[1;32mraise\u001b[0m \u001b[0mtype\u001b[0m\u001b[1;33m(\u001b[0m\u001b[0me\u001b[0m\u001b[1;33m)\u001b[0m\u001b[1;33m(\u001b[0m\u001b[0mnode_def\u001b[0m\u001b[1;33m,\u001b[0m \u001b[0mop\u001b[0m\u001b[1;33m,\u001b[0m \u001b[0mmessage\u001b[0m\u001b[1;33m)\u001b[0m\u001b[1;33m\u001b[0m\u001b[0m\n\u001b[0m\u001b[1;32m   1309\u001b[0m \u001b[1;33m\u001b[0m\u001b[0m\n\u001b[1;32m   1310\u001b[0m   \u001b[1;32mdef\u001b[0m \u001b[0m_extend_graph\u001b[0m\u001b[1;33m(\u001b[0m\u001b[0mself\u001b[0m\u001b[1;33m)\u001b[0m\u001b[1;33m:\u001b[0m\u001b[1;33m\u001b[0m\u001b[0m\n",
      "\u001b[0;31mInternalError\u001b[0m: BlasScal failed : in.shape=[49,32,32]\n\t [[{{node Fwd_Propagate/Propagate/IFFT2D}} = IFFT2D[Tcomplex=DT_COMPLEX64, _device=\"/job:localhost/replica:0/task:0/device:GPU:0\"](Fwd_Propagate/Propagate/mul)]]\n\t [[{{node Back_Propagate/Back_Propagate_Step_20/Adjust/strided_slice_2/_43}} = _Recv[client_terminated=false, recv_device=\"/job:localhost/replica:0/task:0/device:CPU:0\", send_device=\"/job:localhost/replica:0/task:0/device:GPU:0\", send_device_incarnation=1, tensor_name=\"edge_2142_Back_Propagate/Back_Propagate_Step_20/Adjust/strided_slice_2\", tensor_type=DT_COMPLEX64, _device=\"/job:localhost/replica:0/task:0/device:CPU:0\"]()]]\n\nCaused by op 'Fwd_Propagate/Propagate/IFFT2D', defined at:\n  File \"C:\\ProgramData\\Anaconda3\\lib\\runpy.py\", line 193, in _run_module_as_main\n    \"__main__\", mod_spec)\n  File \"C:\\ProgramData\\Anaconda3\\lib\\runpy.py\", line 85, in _run_code\n    exec(code, run_globals)\n  File \"C:\\ProgramData\\Anaconda3\\lib\\site-packages\\ipykernel\\__main__.py\", line 3, in <module>\n    app.launch_new_instance()\n  File \"C:\\ProgramData\\Anaconda3\\lib\\site-packages\\traitlets\\config\\application.py\", line 658, in launch_instance\n    app.start()\n  File \"C:\\ProgramData\\Anaconda3\\lib\\site-packages\\ipykernel\\kernelapp.py\", line 474, in start\n    ioloop.IOLoop.instance().start()\n  File \"C:\\ProgramData\\Anaconda3\\lib\\site-packages\\zmq\\eventloop\\ioloop.py\", line 177, in start\n    super(ZMQIOLoop, self).start()\n  File \"C:\\ProgramData\\Anaconda3\\lib\\site-packages\\tornado\\ioloop.py\", line 887, in start\n    handler_func(fd_obj, events)\n  File \"C:\\ProgramData\\Anaconda3\\lib\\site-packages\\tornado\\stack_context.py\", line 275, in null_wrapper\n    return fn(*args, **kwargs)\n  File \"C:\\ProgramData\\Anaconda3\\lib\\site-packages\\zmq\\eventloop\\zmqstream.py\", line 440, in _handle_events\n    self._handle_recv()\n  File \"C:\\ProgramData\\Anaconda3\\lib\\site-packages\\zmq\\eventloop\\zmqstream.py\", line 472, in _handle_recv\n    self._run_callback(callback, msg)\n  File \"C:\\ProgramData\\Anaconda3\\lib\\site-packages\\zmq\\eventloop\\zmqstream.py\", line 414, in _run_callback\n    callback(*args, **kwargs)\n  File \"C:\\ProgramData\\Anaconda3\\lib\\site-packages\\tornado\\stack_context.py\", line 275, in null_wrapper\n    return fn(*args, **kwargs)\n  File \"C:\\ProgramData\\Anaconda3\\lib\\site-packages\\ipykernel\\kernelbase.py\", line 276, in dispatcher\n    return self.dispatch_shell(stream, msg)\n  File \"C:\\ProgramData\\Anaconda3\\lib\\site-packages\\ipykernel\\kernelbase.py\", line 228, in dispatch_shell\n    handler(stream, idents, msg)\n  File \"C:\\ProgramData\\Anaconda3\\lib\\site-packages\\ipykernel\\kernelbase.py\", line 390, in execute_request\n    user_expressions, allow_stdin)\n  File \"C:\\ProgramData\\Anaconda3\\lib\\site-packages\\ipykernel\\ipkernel.py\", line 196, in do_execute\n    res = shell.run_cell(code, store_history=store_history, silent=silent)\n  File \"C:\\ProgramData\\Anaconda3\\lib\\site-packages\\ipykernel\\zmqshell.py\", line 501, in run_cell\n    return super(ZMQInteractiveShell, self).run_cell(*args, **kwargs)\n  File \"C:\\ProgramData\\Anaconda3\\lib\\site-packages\\IPython\\core\\interactiveshell.py\", line 2717, in run_cell\n    interactivity=interactivity, compiler=compiler, result=result)\n  File \"C:\\ProgramData\\Anaconda3\\lib\\site-packages\\IPython\\core\\interactiveshell.py\", line 2821, in run_ast_nodes\n    if self.run_code(code, result):\n  File \"C:\\ProgramData\\Anaconda3\\lib\\site-packages\\IPython\\core\\interactiveshell.py\", line 2881, in run_code\n    exec(code_obj, self.user_global_ns, self.user_ns)\n  File \"<ipython-input-4-3abb202ba7e9>\", line 3, in <module>\n    tf_fwd = muscat.computemodel()\n  File \"C:\\Users\\diederichbenedict\\Dropbox\\Dokumente\\Promotion\\PROJECTS\\BOSTON\\MUSCAT\\PYTHON\\muScat\\src\\model.py\", line 282, in computemodel\n    self.TF_A_prop = tf.ifft2d(tf.fft2d(self.TF_A_prop) * self.TF_myprop) # diffraction step\n  File \"C:\\ProgramData\\Anaconda3\\lib\\site-packages\\tensorflow\\python\\ops\\gen_spectral_ops.py\", line 618, in ifft2d\n    \"IFFT2D\", input=input, name=name)\n  File \"C:\\ProgramData\\Anaconda3\\lib\\site-packages\\tensorflow\\python\\framework\\op_def_library.py\", line 787, in _apply_op_helper\n    op_def=op_def)\n  File \"C:\\ProgramData\\Anaconda3\\lib\\site-packages\\tensorflow\\python\\util\\deprecation.py\", line 488, in new_func\n    return func(*args, **kwargs)\n  File \"C:\\ProgramData\\Anaconda3\\lib\\site-packages\\tensorflow\\python\\framework\\ops.py\", line 3272, in create_op\n    op_def=op_def)\n  File \"C:\\ProgramData\\Anaconda3\\lib\\site-packages\\tensorflow\\python\\framework\\ops.py\", line 1768, in __init__\n    self._traceback = tf_stack.extract_stack()\n\nInternalError (see above for traceback): BlasScal failed : in.shape=[49,32,32]\n\t [[{{node Fwd_Propagate/Propagate/IFFT2D}} = IFFT2D[Tcomplex=DT_COMPLEX64, _device=\"/job:localhost/replica:0/task:0/device:GPU:0\"](Fwd_Propagate/Propagate/mul)]]\n\t [[{{node Back_Propagate/Back_Propagate_Step_20/Adjust/strided_slice_2/_43}} = _Recv[client_terminated=false, recv_device=\"/job:localhost/replica:0/task:0/device:CPU:0\", send_device=\"/job:localhost/replica:0/task:0/device:GPU:0\", send_device_incarnation=1, tensor_name=\"edge_2142_Back_Propagate/Back_Propagate_Step_20/Adjust/strided_slice_2\", tensor_type=DT_COMPLEX64, _device=\"/job:localhost/replica:0/task:0/device:CPU:0\"]()]]\n"
     ]
    }
   ],
   "source": [
    "@tf.custom_gradient\n",
    "def clip_grad_layer(x):\n",
    "    def grad(dy):\n",
    "        return tf.clip_by_value(dy, -5, 5)\n",
    "    return tf.identity(x), grad\n",
    "\n",
    "'''Regression + Regularization'''\n",
    "tf_meas = tf.placeholder(dtype=tf.complex64, shape=init_guess.shape)\n",
    "             \n",
    "'''Define Cost-function'''\n",
    "tf_lambda_tv = tf.placeholder(tf.float32, [])\n",
    "#tf_tvloss = tf_lambda_tv*reg.tf_total_variation_regularization(muscat.TF_obj, BetaVals = [muscat.dx,muscat.dy,muscat.dz], epsR=epsTV, is_circ = True)  #Alernatively tf_total_variation_regularization # total_variation\n",
    "tf_tvloss = tf_lambda_tv*reg.total_variation_iso_conv(muscat.TF_obj,  eps=epsTV, step_sizes = [muscat.dx,muscat.dy,muscat.dz])  #Alernatively tf_total_variation_regularization # total_variation\n",
    "tf_tvloss += tf_lambda_tv*reg.total_variation_iso_conv(muscat.TF_obj_absorption,  eps=epsTV, step_sizes = [muscat.dx,muscat.dy,muscat.dz])  #Alernatively tf_total_variation_regularization # total_variation\n",
    "\n",
    "tf_negsqrloss = lambda_neg*reg.RegularizeNegSqr(muscat.TF_obj)\n",
    "tf_globalphase = tf.Variable(0., tf.float32, name='var_phase')\n",
    "tf_globalabs = tf.Variable(1., tf.float32, name='var_abs')# \n",
    "tf_fidelity = tf.reduce_sum((tf_helper.tf_abssqr(tf_fwd  - (tf_meas/tf.cast(tf.abs(tf_globalabs), tf.complex64)*tf.exp(1j*tf.cast(tf_globalphase, tf.complex64)))))) # allow a global phase parameter to avoid unwrapping effects\n",
    "#tf_fidelity = clip_grad_layer(tf_fidelity)\n",
    "tf_grads = tf.gradients(tf_fidelity, [muscat.TF_obj])[0]\n",
    "\n",
    "tf_loss = tf_fidelity +  tf_negsqrloss + tf_tvloss #tf_negloss + tf_posloss + tf_tvloss\n",
    "\n",
    " # data fidelity\n",
    "# TV regularization\n",
    "# Positivity Penalty          \n",
    "# eventually Goods Roughness reg\n",
    "'''Define Optimizer'''\n",
    "tf_learningrate = tf.placeholder(tf.float32, []) \n",
    "tf_optimizer = tf.train.AdamOptimizer(tf_learningrate)\n",
    "if(False):\n",
    "    gradients, variables = zip(*tf_optimizer.compute_gradients(tf_loss))\n",
    "    gradients, _ = tf.clip_by_global_norm(gradients, 5.0)\n",
    "    tf_lossop = tf_optimizer.apply_gradients(zip(gradients, variables))\n",
    "\n",
    "#tf_optimizer = tf.train.MomentumOptimizer(tf_learningrate, momentum = .9, use_nesterov=True)\n",
    "#tf_optimizer = tf.train.ProximalGradientDescentOptimizer(tf_learningrate)\n",
    "else:\n",
    "    tf_lossop = tf_optimizer.minimize(tf_loss)\n",
    "\n",
    "    \n",
    "''' Evaluate the model '''\n",
    "sess = tf.Session()#config=tf.ConfigProto(allow_growth=True))#config=tf.ConfigProto(log_device_placement=True))\n",
    "sess.run(tf.global_variables_initializer())\n",
    "if is_optimization:\n",
    "    if is_padding:\n",
    "        # Pad object with zeros along X/Y\n",
    "        init_guess_tmp= np.zeros(muscat.mysize)# + 1j*np.zeros(muscat.mysize)\n",
    "        init_guess_tmp[:,muscat.Nx//2-muscat.Nx//4:muscat.Nx//2+muscat.Nx//4, muscat.Ny//2-muscat.Ny//4:muscat.Ny//2+muscat.Ny//4] =init_guess\n",
    "        init_guess = init_guess_tmp\n",
    "\n",
    "    sess.run(tf.assign(muscat.TF_obj, init_guess)); # assign abs of measurement as initial guess of \n",
    "\n",
    "my_fwd = sess.run(tf_fwd)#, feed_dict={muscat.TF_obj:obj})\n",
    "mysize = my_fwd.shape\n",
    "\n"
   ]
  },
  {
   "cell_type": "markdown",
   "metadata": {},
   "source": [
    "# Estimate the Phase difference between Measurement and Simulation"
   ]
  },
  {
   "cell_type": "code",
   "execution_count": null,
   "metadata": {
    "collapsed": false
   },
   "outputs": [],
   "source": [
    "# We assume, that there is a global phase mismatch between measurment and first estimate of the fwd model, this can be estimated by the difference of mean phase of the two\n",
    "# subtracting the mean phase from either measurement or the fwd model could help to speed up the optimization\n",
    "# this is the initial guess of the reconstruction\n",
    "np_meas = matlab_val\n",
    "myinitphase = np.mean(np.angle(np_meas))-np.mean(np.angle(my_fwd))\n",
    "print('My Init Phase is :'+str(myinitphase))\n",
    "np_meas=np_meas*np.exp(-1j*(myinitphase)) # subtract globaphase - anyway we want to optimize for that, but now the global phase can be assumed to be 0 initally\n",
    "if(is_display): plt.subplot(231), plt.title('Angle XZ - Measurement'),plt.imshow(np.angle(np_meas)[:,mysize[1]//2,:]), plt.colorbar()#, plt.show()\n",
    "if(is_display): plt.subplot(232), plt.title('Angle YZ - Measurement'),plt.imshow(np.angle(np_meas)[:,:,mysize[2]//2]), plt.colorbar()#, plt.show()\n",
    "if(is_display): plt.subplot(233), plt.title('Angle XY - Measurement'),plt.imshow(np.angle(np_meas)[mysize[0]//2,:,:]), plt.colorbar(), plt.show()\n",
    "if(is_display): plt.subplot(234), plt.title('Angle YZ - Simulation'),plt.imshow(np.angle(my_fwd)[:,mysize[1]//2,:]), plt.colorbar()#, plt.show()\n",
    "if(is_display): plt.subplot(235), plt.title('Angle XZ - Simulation'),plt.imshow(np.angle(my_fwd)[:,:,mysize[2]//2]), plt.colorbar()#, plt.show()\n",
    "if(is_display): plt.subplot(236), plt.title('Angle XY - Simulation'),plt.imshow(np.angle(my_fwd)[mysize[0]//2,:,:]), plt.colorbar(), plt.show()\n",
    "\n",
    "myinitabs = np.mean(np.abs(my_fwd))\n",
    "print('My Init ABS is :'+str(myinitabs))\n",
    "np_meas=np_meas/np.max(np.abs(np_meas))*myinitabs# subtract globaphase - anyway we want to optimize for that, but now the global phase can be assumed to be 0 initally\n",
    "if(is_display): plt.subplot(231), plt.title('Abs XZ - Measurement'),plt.imshow(np.abs(np_meas)[:,mysize[1]//2,:]), plt.colorbar()#, plt.show()\n",
    "if(is_display): plt.subplot(232), plt.title('Abs YZ - Measurement'),plt.imshow(np.abs(np_meas)[:,:,mysize[2]//2]), plt.colorbar()#, plt.show()\n",
    "if(is_display): plt.subplot(233), plt.title('Abs XY - Measurement'),plt.imshow(np.abs(np_meas)[mysize[0]//2,:,:]), plt.colorbar(), plt.show()\n",
    "if(is_display): plt.subplot(234), plt.title('Abs YZ - Simulation'),plt.imshow(np.abs(my_fwd)[:,mysize[1]//2,:]), plt.colorbar()#, plt.show()\n",
    "if(is_display): plt.subplot(235), plt.title('Abs XZ - Simulation'),plt.imshow(np.abs(my_fwd)[:,:,mysize[2]//2]), plt.colorbar()#, plt.show()\n",
    "if(is_display): plt.subplot(236), plt.title('Abs XY - Simulation'),plt.imshow(np.abs(my_fwd)[mysize[0]//2,:,:]), plt.colorbar(), plt.show()\n"
   ]
  },
  {
   "cell_type": "code",
   "execution_count": null,
   "metadata": {
    "collapsed": true
   },
   "outputs": [],
   "source": [
    "# assert some memory \n",
    "iter_last = 0\n",
    "mylosslist = []\n",
    "myfidelitylist = []\n",
    "myposlosslist = []\n",
    "myneglosslist = []\n",
    "mytvlosslist = []\n",
    "result_phaselist = []\n",
    "result_reallist = []\n",
    "globalphaselist = []\n",
    "globalabslist = []"
   ]
  },
  {
   "cell_type": "code",
   "execution_count": null,
   "metadata": {
    "collapsed": false
   },
   "outputs": [],
   "source": [
    "#%%\n",
    "''' Optimize the model '''\n",
    "print('Start optimizing')\n",
    "#np_meas = matlab_val # use the previously simulated data\n",
    "\n",
    "def abssqr(input):\n",
    "    return np.real(input*np.conj(input))\n",
    "\n",
    "for iterx in range(iter_last,Niter):\n",
    "    if iterx == 1000:\n",
    "        my_learningrate = my_learningrate*.1\n",
    "    # try to optimize\n",
    "    mylambdatv = lambda_tv/((iterx+1)/100)\n",
    "    if(iterx==0 or not np.mod(iterx, Ndisplay)):\n",
    "        my_res, my_res_absortpion, my_loss, my_fidelity, my_negloss, my_tvloss, myglobalphase, myglobalabs, myfwd =  \\\n",
    "            sess.run([muscat.TF_obj, muscat.TF_obj_absorption, tf_loss, tf_fidelity, tf_negsqrloss, tf_tvloss, tf_globalphase, tf_globalabs, tf_fwd], \\\n",
    "                     feed_dict={tf_meas:np_meas, tf_learningrate:my_learningrate, tf_lambda_tv:mylambdatv})\n",
    "\n",
    "        print('Loss@'+str(iterx)+': ' + str(my_loss) + ' - Fid: '+str(my_fidelity)+', Neg: '+str(my_negloss)+', TV: '+str(my_tvloss)+' G-Phase:'+str(myglobalphase)+' G-ABS: '+str(myglobalabs))        \n",
    "        mylosslist.append(my_loss)\n",
    "        myfidelitylist.append(my_fidelity)\n",
    "        myneglosslist.append(my_negloss)\n",
    "        mytvlosslist.append(my_tvloss)\n",
    "        result_phaselist.append(my_res)\n",
    "        globalphaselist.append(myglobalphase)\n",
    "        globalabslist.append(myglobalabs)  \n",
    "        if(False):\n",
    "            if(is_display): plt.subplot(234), plt.title('Angle XZ'),plt.imshow(np.angle(myfwd)[:,myfwd.shape[1]//2,:]), plt.colorbar()#, plt.show()\n",
    "            if(is_display): plt.subplot(235), plt.title('Angle XZ'),plt.imshow(np.angle(myfwd)[:,:,myfwd.shape[2]//2]), plt.colorbar()#, plt.show()\n",
    "            if(is_display): plt.subplot(236), plt.title('Angle XY'),plt.imshow(np.angle(myfwd)[myfwd.shape[0]//2,:,:]), plt.colorbar(), plt.show()\n",
    "\n",
    "    else:\n",
    "        _, mygrads = sess.run([tf_lossop,tf_grads], feed_dict={tf_meas:np_meas, tf_learningrate:my_learningrate, tf_lambda_tv:mylambdatv})\n",
    "        #plt.imshow(np.abs(my_res[:,50,:]))\n",
    "        #print(mygrads)\n",
    "        #print(mygrads.shape)\n",
    "        #_, myfwd = sess.run([tf_lossop,tf_fwd], feed_dict={tf_meas:np_meas, tf_learningrate:my_learningrate, tf_lambda_tv:mylambdatv})\n",
    "        "
   ]
  },
  {
   "cell_type": "markdown",
   "metadata": {},
   "source": [
    "# Display result - FFT"
   ]
  },
  {
   "cell_type": "code",
   "execution_count": null,
   "metadata": {
    "collapsed": false
   },
   "outputs": [],
   "source": [
    "# This is the reconstruction\n",
    "if(is_display): \n",
    "    plt.figure()\n",
    "    plt.subplot(231), plt.title('ABS XZ'),plt.imshow(np.abs(myfwd)[:,myfwd.shape[1]//2,:]), plt.colorbar()#, plt.show()\n",
    "    plt.subplot(232), plt.title('ABS XZ'),plt.imshow(np.abs(myfwd)[:,:,myfwd.shape[2]//2]), plt.colorbar()#, plt.show()\n",
    "    plt.subplot(233), plt.title('ABS XY'),plt.imshow(np.abs(myfwd)[myfwd.shape[0]//2,:,:]), plt.colorbar()#, plt.show()\n",
    "    plt.subplot(234), plt.title('Angle XZ'),plt.imshow(np.angle(myfwd)[:,myfwd.shape[1]//2,:]), plt.colorbar()#, plt.show()\n",
    "    plt.subplot(235), plt.title('Angle XZ'),plt.imshow(np.angle(myfwd)[:,:,myfwd.shape[2]//2]), plt.colorbar()#, plt.show()\n",
    "    plt.subplot(236), plt.title('Angle XY'),plt.imshow(np.angle(myfwd)[myfwd.shape[0]//2,:,:]), plt.colorbar()#, plt.show()\n",
    "    plt.savefig(savepath+'/res_myfwd.png'), plt.show()\n",
    "\n",
    "    # This is the measurment\n",
    "    plt.subplot(231), plt.title('ABS XZ'),plt.imshow(np.abs(np_meas)[:,np_meas.shape[1]//2,:]), plt.colorbar()#, plt.show()\n",
    "    plt.subplot(232), plt.title('ABS XZ'),plt.imshow(np.abs(np_meas)[:,:,np_meas.shape[2]//2]), plt.colorbar()#, plt.show()\n",
    "    plt.subplot(233), plt.title('ABS XY'),plt.imshow(np.abs(np_meas)[np_meas.shape[0]//2,:,:]), plt.colorbar()#, plt.show()\n",
    "    plt.subplot(234), plt.title('Angle XZ'),plt.imshow(np.angle(np_meas)[:,np_meas.shape[1]//2,:]), plt.colorbar()#, plt.show()\n",
    "    plt.subplot(235), plt.title('Angle XZ'),plt.imshow(np.angle(np_meas)[:,:,np_meas.shape[2]//2]), plt.colorbar()#, plt.show()\n",
    "    plt.subplot(236), plt.title('Angle XY'),plt.imshow(np.angle(np_meas)[np_meas.shape[0]//2,:,:]), plt.colorbar()#, plt.show()\n",
    "    plt.savefig(savepath+'/res_mymeas.png'), plt.show()\n",
    "\n",
    "    # diplay the error over time\n",
    "    plt.subplot(231), plt.title('Error/Cost-function'), plt.semilogy((np.array(mylosslist)))#, plt.show()\n",
    "    plt.subplot(232), plt.title('Fidelity-function'), plt.semilogy((np.array(myfidelitylist)))#, plt.show()\n",
    "    plt.subplot(233), plt.title('Neg-loss-function'), plt.plot(np.array(myneglosslist))#, plt.show()\n",
    "    plt.subplot(234), plt.title('TV-loss-function'), plt.semilogy(np.array(mytvlosslist))#, plt.show()\n",
    "    plt.subplot(235), plt.title('Global Phase'), plt.plot(np.array(globalphaselist))#, plt.show()\n",
    "    plt.subplot(236), plt.title('Global ABS'), plt.plot(np.array(globalabslist))#, plt.show()\n",
    "    plt.savefig(savepath+'/myplots.png'), plt.show()"
   ]
  },
  {
   "cell_type": "markdown",
   "metadata": {},
   "source": [
    "# Display Result Refractive index"
   ]
  },
  {
   "cell_type": "code",
   "execution_count": null,
   "metadata": {
    "collapsed": false
   },
   "outputs": [],
   "source": [
    "if(is_display): \n",
    "    plt.subplot(131), plt.title('Result Phase: XZ'),plt.imshow(my_res[:,my_res.shape[1]//2,:]), plt.colorbar()#, plt.show()\n",
    "    plt.subplot(132), plt.title('Result Phase: XZ'),plt.imshow(my_res[:,:,my_res.shape[2]//2]), plt.colorbar()#, plt.show()\n",
    "    plt.subplot(133), plt.title('Result Phase: XY'),plt.imshow(my_res[my_res.shape[0]//2,:,:]), plt.colorbar()\n",
    "    plt.savefig(savepath+'/RI_result.png'), plt.show()\n",
    "    \n",
    "    plt.subplot(131), plt.title('Result Abs: XZ'),plt.imshow(my_res_absortpion[:,my_res.shape[1]//2,:]), plt.colorbar()#, plt.show()\n",
    "    plt.subplot(132), plt.title('Result abs: XZ'),plt.imshow(my_res_absortpion[:,:,my_res.shape[2]//2]), plt.colorbar()#, plt.show()\n",
    "    plt.subplot(133), plt.title('Result abs: XY'),plt.imshow(my_res_absortpion[my_res.shape[0]//2,:,:]), plt.colorbar()\n",
    "    plt.savefig(savepath+'/RI_abs_result.png'), plt.show()\n",
    "    \n",
    "    print(np.real(sess.run(muscat.TF_zernikefactors)))\n",
    "    plt.subplot(121), plt.title('Po Phase'), plt.imshow(np.fft.fftshift(np.angle(sess.run(muscat.TF_Po_aberr)))), plt.colorbar()\n",
    "    plt.subplot(122), plt.title('Po abs'), plt.imshow(np.fft.fftshift(np.abs(sess.run(muscat.TF_Po_aberr)))), plt.colorbar()\n",
    "    plt.savefig(savepath+'/recovered_pupil.png'), plt.show()\n",
    "\n",
    "    data.export_realdatastack_h5(savepath+'/myrefractiveindex.h5', 'temp', np.array(result_phaselist))\n",
    "    myobj = my_res+1j*my_res_absortpion\n",
    "    np.save('my_res_cmplx', myobj)"
   ]
  },
  {
   "cell_type": "code",
   "execution_count": null,
   "metadata": {
    "collapsed": true
   },
   "outputs": [],
   "source": []
  },
  {
   "cell_type": "markdown",
   "metadata": {},
   "source": [
    "# Display results ABS/Angle - FWD model"
   ]
  },
  {
   "cell_type": "code",
   "execution_count": null,
   "metadata": {
    "collapsed": true
   },
   "outputs": [],
   "source": []
  },
  {
   "cell_type": "code",
   "execution_count": null,
   "metadata": {
    "collapsed": true
   },
   "outputs": [],
   "source": []
  }
 ],
 "metadata": {
  "kernelspec": {
   "display_name": "Python 3",
   "language": "python",
   "name": "python3"
  },
  "language_info": {
   "codemirror_mode": {
    "name": "ipython",
    "version": 3
   },
   "file_extension": ".py",
   "mimetype": "text/x-python",
   "name": "python",
   "nbconvert_exporter": "python",
   "pygments_lexer": "ipython3",
   "version": "3.6.1"
  }
 },
 "nbformat": 4,
 "nbformat_minor": 2
}
