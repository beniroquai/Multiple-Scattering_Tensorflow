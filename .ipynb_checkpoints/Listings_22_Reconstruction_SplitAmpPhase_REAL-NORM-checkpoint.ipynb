{
 "cells": [
  {
   "cell_type": "markdown",
   "metadata": {},
   "source": [
    "# This is the minimum Working Example to compute a multiple scattering experiment in the Q-Phase "
   ]
  },
  {
   "cell_type": "code",
   "execution_count": 1,
   "metadata": {},
   "outputs": [],
   "source": [
    "#!/usr/bin/env python2\n",
    "# -*- coding: utf-8 -*-\n",
    "\"\"\"\n",
    "Created on Sat Jun 10 19:53:32 2017\n",
    "\n",
    "@author: Bene\n",
    "\n",
    "This file creates a fwd-model for the TESCAN Q-PHASE under \n",
    "multiple-scattering. It is majorly derived from  \"LEarning approach for optical tomography\"\n",
    "U. S. Kamilov, BIG, EPFL, 2014.\n",
    "\"\"\"\n",
    "# %load_ext autoreload\n",
    "import tensorflow as tf\n",
    "import numpy as np\n",
    "import matplotlib as mpl\n",
    "import matplotlib.pyplot as plt\n",
    "import os\n",
    "from datetime import datetime\n",
    "\n",
    "# load own functions\n",
    "import src.model as mus\n",
    "import src.tf_helper as tf_helper\n",
    "import src.tf_generate_object as tf_go\n",
    "import src.data as data\n",
    "import src.optimization.tf_regularizers as reg\n",
    "\n",
    "os.environ[\"CUDA_DEVICE_ORDER\"] = \"PCI_BUS_ID\" \n",
    "os.environ[\"CUDA_VISIBLE_DEVICES\"] = \"0\"\n",
    "\n",
    "# Optionally, tweak styles.\n",
    "mpl.rc('figure',  figsize=(10, 7))\n",
    "mpl.rc('image', cmap='gray')\n"
   ]
  },
  {
   "cell_type": "markdown",
   "metadata": {},
   "source": [
    "# Define some optimization parameters "
   ]
  },
  {
   "cell_type": "code",
   "execution_count": 2,
   "metadata": {},
   "outputs": [],
   "source": [
    "'''Define some stuff related to infrastructure'''\n",
    "mytimestamp = datetime.now().strftime('%Y-%m-%d_%H-%M-%S')\n",
    "savepath = os.path.join('./Data/DROPLETS/RESULTS/', mytimestamp)\n",
    "\n",
    "# Create directory\n",
    "try: \n",
    "    os.mkdir(savepath)\n",
    "except(FileExistsError): \n",
    "    print('Folder exists already')\n",
    "\n",
    "# Define parameters \n",
    "is_padding = False \n",
    "is_display = True\n",
    "is_optimization = True \n",
    "is_optimization_psf = False\n",
    "is_flip = False\n",
    "is_measurement = True\n",
    "\n",
    "# data files for parameters and measuremets \n",
    "if is_measurement:\n",
    "    if(False):\n",
    "        matlab_val_file = './Data/DROPLETS/allAmp_red.mat'      #'./Data/DROPLETS/allAmp_simu.npy' #\n",
    "        matlab_par_file = './Data/DROPLETS/myParameterNew.mat'   \n",
    "        matlab_val_name = 'allAmp_red'\n",
    "        matlab_par_name = 'myParameterNew'  \n",
    "    if(True):\n",
    "        matlab_val_file = './Data/DROPLETS/S19_multiple/S19_subroi5.mat'      #'./Data/DROPLETS/allAmp_simu.npy' #\n",
    "        matlab_par_file = './Data/DROPLETS/S19_multiple/Parameter.mat'   \n",
    "        matlab_val_name = 'allAmp_red'\n",
    "        matlab_par_name = 'myParameter' \n",
    "        \n",
    "else:\n",
    "    matlab_val_file = './Data/DROPLETS/RESULTS/allAmp_simu.npy' #'./Data/DROPLETS/allAmp_simu.mat'      \n",
    "    matlab_par_file = './Data/DROPLETS/myParameterNew.mat' \n",
    "    matlab_val_name = 'allAmp_red'\n",
    "    matlab_par_name = 'myParameterNew'\n",
    "\n",
    "# microscope parameters\n",
    "zernikefactors = np.array((0,0,0,0,0,0,0.5,-0.5,0))*0 # representing the 9 first zernike coefficients in noll-writings \n",
    "shiftIcY=-1\n",
    "shiftIcX=-0\n",
    "dn = .1\n",
    "NAc = .52\n",
    "\n",
    "'''Define Optimization Parameters'''\n",
    "my_learningrate = 1e-2  # learning rate\n",
    "lambda_tv =  1e-2 # lambda for Total variation\n",
    "epsTV = .01\n",
    "lambda_gr = 0 # lambda for Goods Roughness \n",
    "lambda_pos = 0\n",
    "lambda_neg = 10\n",
    "\n",
    "Niter = 5000\n",
    "Ndisplay = 15\n",
    "\n",
    "\n",
    "'''START CODE'''\n",
    "tf.reset_default_graph() # just in case there was an open session"
   ]
  },
  {
   "cell_type": "markdown",
   "metadata": {},
   "source": [
    "# Generate Test-Object"
   ]
  },
  {
   "cell_type": "code",
   "execution_count": 3,
   "metadata": {},
   "outputs": [
    {
     "name": "stdout",
     "output_type": "stream",
     "text": [
      "do we need to flip the data?! -> Observe FFT!!\n",
      "Assigned some value for dn which is not good!\n",
      "Attention: Changed Z-sampling!!\n"
     ]
    }
   ],
   "source": [
    "''' File which stores the experimental parameters from the Q-PHASE setup \n",
    "    1.) Read in the parameters of the dataset ''' \n",
    "matlab_pars = data.import_parameters_mat(filename = matlab_par_file, matname=matlab_par_name)\n",
    "\n",
    "''' 2.) Read in the parameters of the dataset ''' \n",
    "if(matlab_val_file.find('mat')==-1):\n",
    "    matlab_val = np.load(matlab_val_file)\n",
    "else:\n",
    "    matlab_val = data.import_realdata_h5(filename = matlab_val_file, matname=matlab_val_name, is_complex=True)\n",
    "\n",
    "if(is_flip):\n",
    "    np_meas_raw = np.flip(matlab_val,0)\n",
    "    print('Attention: We are flipping the data!')\n",
    "else:\n",
    "    np_meas_raw = matlab_val\n",
    "    print('do we need to flip the data?! -> Observe FFT!!')\n",
    "\n",
    "\n",
    "\n",
    "''' Create the Model'''\n",
    "muscat = mus.MuScatModel(matlab_pars, is_optimization=is_optimization, is_optimization_psf = is_optimization_psf)\n",
    "muscat.Nx,muscat.Ny = int(np.squeeze(matlab_pars['Nx'].value)), int(np.squeeze(matlab_pars['Ny'].value))\n",
    "muscat.shiftIcY=shiftIcY\n",
    "muscat.shiftIcX=shiftIcX\n",
    "muscat.dn = dn\n",
    "muscat.NAc = NAc\n",
    "muscat.dz = muscat.lambda0/4\n",
    "\n",
    "print('Attention: Changed Z-sampling!!')\n",
    "\n",
    "''' Adjust some parameters to fit it in the memory '''\n",
    "muscat.mysize = (muscat.Nz,muscat.Nx,muscat.Ny) # ordering is (Nillu, Nz, Nx, Ny)\n",
    "\n",
    "''' Create a 3D Refractive Index Distributaton as a artificial sample'''\n",
    "obj = tf_go.generateObject(mysize=muscat.mysize, obj_dim=(muscat.dz,muscat.dx,muscat.dy), obj_type ='sphere', diameter = 1, dn = muscat.dn)\n",
    "obj = obj+1j*obj\n",
    "# introduce zernike factors here\n",
    "muscat.zernikefactors = zernikefactors\n"
   ]
  },
  {
   "cell_type": "markdown",
   "metadata": {},
   "source": [
    "# Compute the System's properties (e.g. Pupil function/Illumination Source, K-vectors, etc.)"
   ]
  },
  {
   "cell_type": "code",
   "execution_count": 4,
   "metadata": {},
   "outputs": [
    {
     "name": "stdout",
     "output_type": "stream",
     "text": [
      "----------> Be aware: We are taking aberrations into account!\n",
      "We are weighing the Intensity int the illu-pupil!\n",
      "Shifting the illumination in X by: 0 Pixel\n",
      "Shifting the illumination in Y by: -1 Pixel\n",
      "Number of Illumination Angles / Plane waves: 49\n",
      "Buildup Q-PHASE Model \n"
     ]
    },
    {
     "name": "stderr",
     "output_type": "stream",
     "text": [
      "/home/diederich/anaconda3/lib/python3.6/site-packages/tensorflow/python/framework/tensor_util.py:416: ComplexWarning: Casting complex values to real discards the imaginary part\n",
      "  nparray = values.astype(dtype.as_numpy_dtype)\n"
     ]
    }
   ],
   "source": [
    "''' Compute the systems model'''\n",
    "muscat.computesys(obj, is_zernike=True, is_padding=is_padding, dropout_prob=1)\n",
    "tf_fwd = muscat.computemodel()"
   ]
  },
  {
   "cell_type": "markdown",
   "metadata": {},
   "source": [
    "# Define Optimizer and Cost-function"
   ]
  },
  {
   "cell_type": "markdown",
   "metadata": {},
   "source": [
    "Now load data which has been saved previously (Optional!)"
   ]
  },
  {
   "cell_type": "code",
   "execution_count": 5,
   "metadata": {},
   "outputs": [
    {
     "name": "stdout",
     "output_type": "stream",
     "text": [
      "Evtl unwrap it!\n"
     ]
    },
    {
     "data": {
      "image/png": "[encoded data removed]",
      "text/plain": [
       "<Figure size 432x288 with 6 Axes>"
      ]
     },
     "metadata": {},
     "output_type": "display_data"
    }
   ],
   "source": [
    "print('Evtl unwrap it!')\n",
    "\n",
    "# this is the initial guess of the reconstruction\n",
    "np_meas=np_meas_raw#*np.exp(1j*np.pi)\n",
    "\n",
    "\n",
    "if(False): # good for the experiment\n",
    "    init_guess = np.angle(np_meas)\n",
    "    init_guess = init_guess - np.min(init_guess)\n",
    "    init_guess = init_guess**2\n",
    "    init_guess = init_guess/np.max(init_guess)*muscat.dn\n",
    "elif(False): # good for the simulation\n",
    "    init_guess = -np.abs(np_meas)\n",
    "    init_guess = init_guess - np.min(init_guess)\n",
    "    init_guess = init_guess**2\n",
    "    init_guess = init_guess/np.max(init_guess)*muscat.dn\n",
    "    init_guess = np.flip(init_guess,0)\n",
    "elif(False):\n",
    "    init_guess = np.ones(np_meas.shape)*muscat.dn\n",
    "elif(False):\n",
    "    init_guess = tf_go.generateObject(mysize=muscat.mysize, obj_dim=muscat.dx, obj_type ='sphere', diameter = 7, dn = muscat.dn)\n",
    "else:\n",
    "    init_guess = np_meas\n",
    "    ''' Create a 3D Refractive Index Distributaton as a artificial sample'''\n",
    "    mydiameter = 7\n",
    "    obj = tf_go.generateObject(mysize=muscat.mysize, obj_dim=muscat.dx, obj_type ='sphere', diameter = mydiameter, dn = .4)\n",
    "    obj_absorption = tf_go.generateObject(mysize=muscat.mysize, obj_dim=muscat.dx, obj_type ='sphere', diameter = mydiameter, dn = 1)\n",
    "    obj = obj+1j*obj_absorption*.05\n",
    "    obj = np.roll(obj,-9,0)\n",
    "    init_guess = obj\n",
    "    #init_guess = np.load('my_res_cmplx.npy')\n",
    "    #init_guess = np.random.randn(np_meas.shape[0],init_guess.shape[1],init_guess.shape[2])*muscat.dn\n",
    "\n",
    "        \n",
    "\n",
    "if(is_display): plt.subplot(231), plt.title('Angle YZ'),plt.imshow(np.real(init_guess[:,init_guess.shape[1]//2,:])), plt.colorbar()\n",
    "if(is_display): plt.subplot(232), plt.title('Angle XZ'),plt.imshow(np.real(init_guess[:,:,init_guess.shape[1]//2])), plt.colorbar()\n",
    "if(is_display): plt.subplot(233), plt.title('Angle XZ'),plt.imshow(np.real(init_guess[init_guess.shape[0]//2,:,:])), plt.colorbar(),plt.show()\n"
   ]
  },
  {
   "cell_type": "markdown",
   "metadata": {},
   "source": [
    "# Set Optimization Parameters"
   ]
  },
  {
   "cell_type": "code",
   "execution_count": null,
   "metadata": {},
   "outputs": [],
   "source": [
    "@tf.custom_gradient\n",
    "def clip_grad_layer(x):\n",
    "    def grad(dy):\n",
    "        return tf.clip_by_value(dy, -5, 5)\n",
    "    return tf.identity(x), grad\n",
    "\n",
    "'''Numpy to Tensorflow'''\n",
    "np_meas = matlab_val\n",
    "np_mean = np.mean(np_meas)\n",
    "\n",
    "'''Regression + Regularization'''\n",
    "tf_meas = tf.placeholder(dtype=tf.complex64, shape=init_guess.shape)\n",
    "             \n",
    "'''Define Cost-function'''\n",
    "tf_lambda_tv = tf.placeholder(tf.float32, [])\n",
    "tf_tvloss = tf_lambda_tv*reg.Reg_TV(muscat.TF_obj, BetaVals = [muscat.dx,muscat.dy,muscat.dz], epsR=epsTV, is_circ = True)  #Alernatively tf_total_variation_regularization # total_variation\n",
    "tf_tvloss += tf_lambda_tv*reg.Reg_TV(muscat.TF_obj_absorption, BetaVals = [muscat.dx,muscat.dy,muscat.dz], epsR=epsTV, is_circ = True)  #Alernatively tf_total_variation_regularization # total_variation\n",
    "#tf_tvloss = tf_lambda_tv*reg.total_variation_iso_conv(muscat.TF_obj,  eps=epsTV, step_sizes = [muscat.dx,muscat.dy,muscat.dz])  #Alernatively tf_total_variation_regularization # total_variation\n",
    "#tf_tvloss += tf_lambda_tv*reg.total_variation_iso_conv(muscat.TF_obj_absorption,  eps=epsTV, step_sizes = [muscat.dx,muscat.dy,muscat.dz])  #Alernatively tf_total_variation_regularization # total_variation\n",
    "\n",
    "tf_negsqrloss = lambda_neg*reg.Reg_NegSqr(muscat.TF_obj)\n",
    "tf_globalphase = tf.Variable(0., tf.float32, name='var_phase')\n",
    "tf_globalabs = tf.Variable(1., tf.float32, name='var_abs')# \n",
    "#tf_fidelity = tf.reduce_sum((tf_helper.tf_abssqr(tf_fwd  - (tf_meas/tf.cast(tf.abs(tf_globalabs), tf.complex64)*tf.exp(1j*tf.cast(tf_globalphase, tf.complex64)))))) # allow a global phase parameter to avoid unwrapping effects\n",
    "tf_fidelity = tf.reduce_mean((tf_helper.tf_abssqr(tf_fwd  - (tf_meas/tf.cast(tf.abs(tf_globalabs), tf.complex64)*tf.exp(1j*tf.cast(tf_globalphase, tf.complex64)))))) # allow a global phase parameter to avoid unwrapping effects\n",
    "#tf_fidelity = clip_grad_layer(tf_fidelity)\n",
    "tf_grads = tf.gradients(tf_fidelity, [muscat.TF_obj])[0]\n",
    "\n",
    "tf_loss = tf_fidelity/np_mean +  tf_negsqrloss + tf_tvloss #tf_negloss + tf_posloss + tf_tvloss\n",
    "\n",
    " # data fidelity\n",
    "# TV regularization\n",
    "# Positivity Penalty          \n",
    "# eventually Goods Roughness reg\n",
    "'''Define Optimizer'''\n",
    "tf_learningrate = tf.placeholder(tf.float32, []) \n",
    "tf_optimizer = tf.train.AdamOptimizer(tf_learningrate)\n",
    "if(False):\n",
    "    gradients, variables = zip(*tf_optimizer.compute_gradients(tf_loss))\n",
    "    gradients, _ = tf.clip_by_global_norm(gradients, 5.0)\n",
    "    tf_lossop = tf_optimizer.apply_gradients(zip(gradients, variables))\n",
    "\n",
    "#tf_optimizer = tf.train.MomentumOptimizer(tf_learningrate, momentum = .9, use_nesterov=True)\n",
    "#tf_optimizer = tf.train.ProximalGradientDescentOptimizer(tf_learningrate)\n",
    "else:\n",
    "    tf_lossop = tf_optimizer.minimize(tf_loss)\n",
    "\n",
    "    \n",
    "''' Evaluate the model '''\n",
    "sess = tf.Session()#config=tf.ConfigProto(allow_growth=True))#config=tf.ConfigProto(log_device_placement=True))\n",
    "sess.run(tf.global_variables_initializer())\n",
    "if is_optimization:\n",
    "    if is_padding:\n",
    "        # Pad object with zeros along X/Y\n",
    "        init_guess_tmp= np.zeros(muscat.mysize)# + 1j*np.zeros(muscat.mysize)\n",
    "        init_guess_tmp[:,muscat.Nx//2-muscat.Nx//4:muscat.Nx//2+muscat.Nx//4, muscat.Ny//2-muscat.Ny//4:muscat.Ny//2+muscat.Ny//4] =init_guess\n",
    "        init_guess = init_guess_tmp\n",
    "\n",
    "    sess.run(tf.assign(muscat.TF_obj, np.real(init_guess))); # assign abs of measurement as initial guess of \n",
    "    sess.run(tf.assign(muscat.TF_obj_absorption, np.imag(init_guess))); # assign abs of measurement as initial guess of \n",
    "\n",
    "my_fwd = sess.run(tf_fwd)#, feed_dict={muscat.TF_obj:obj})\n",
    "mysize = my_fwd.shape\n",
    "\n"
   ]
  },
  {
   "cell_type": "markdown",
   "metadata": {},
   "source": [
    "# Estimate the Phase difference between Measurement and Simulation"
   ]
  },
  {
   "cell_type": "code",
   "execution_count": 6,
   "metadata": {},
   "outputs": [
    {
     "ename": "NameError",
     "evalue": "name 'my_fwd' is not defined",
     "output_type": "error",
     "traceback": [
      "\u001b[0;31m---------------------------------------------------------------------------\u001b[0m",
      "\u001b[0;31mNameError\u001b[0m                                 Traceback (most recent call last)",
      "\u001b[0;32m<ipython-input-6-435e184ffd40>\u001b[0m in \u001b[0;36m<module>\u001b[0;34m()\u001b[0m\n\u001b[1;32m      4\u001b[0m \u001b[0mnp_meas\u001b[0m \u001b[0;34m=\u001b[0m \u001b[0mmatlab_val\u001b[0m\u001b[0;34m\u001b[0m\u001b[0m\n\u001b[1;32m      5\u001b[0m \u001b[0mnp_mean\u001b[0m \u001b[0;34m=\u001b[0m \u001b[0mnp\u001b[0m\u001b[0;34m.\u001b[0m\u001b[0mmean\u001b[0m\u001b[0;34m(\u001b[0m\u001b[0mnp_meas\u001b[0m\u001b[0;34m)\u001b[0m\u001b[0;34m\u001b[0m\u001b[0m\n\u001b[0;32m----> 6\u001b[0;31m \u001b[0mmyinitphase\u001b[0m \u001b[0;34m=\u001b[0m \u001b[0mnp\u001b[0m\u001b[0;34m.\u001b[0m\u001b[0mmean\u001b[0m\u001b[0;34m(\u001b[0m\u001b[0mnp\u001b[0m\u001b[0;34m.\u001b[0m\u001b[0mangle\u001b[0m\u001b[0;34m(\u001b[0m\u001b[0mnp_meas\u001b[0m\u001b[0;34m)\u001b[0m\u001b[0;34m)\u001b[0m\u001b[0;34m-\u001b[0m\u001b[0mnp\u001b[0m\u001b[0;34m.\u001b[0m\u001b[0mmean\u001b[0m\u001b[0;34m(\u001b[0m\u001b[0mnp\u001b[0m\u001b[0;34m.\u001b[0m\u001b[0mangle\u001b[0m\u001b[0;34m(\u001b[0m\u001b[0mmy_fwd\u001b[0m\u001b[0;34m)\u001b[0m\u001b[0;34m)\u001b[0m\u001b[0;34m+\u001b[0m\u001b[0;36m2\u001b[0m\u001b[0;34m\u001b[0m\u001b[0m\n\u001b[0m\u001b[1;32m      7\u001b[0m \u001b[0mprint\u001b[0m\u001b[0;34m(\u001b[0m\u001b[0;34m'My Init Phase is :'\u001b[0m\u001b[0;34m+\u001b[0m\u001b[0mstr\u001b[0m\u001b[0;34m(\u001b[0m\u001b[0mmyinitphase\u001b[0m\u001b[0;34m)\u001b[0m\u001b[0;34m)\u001b[0m\u001b[0;34m\u001b[0m\u001b[0m\n\u001b[1;32m      8\u001b[0m \u001b[0mnp_meas\u001b[0m\u001b[0;34m=\u001b[0m\u001b[0mnp_meas\u001b[0m\u001b[0;34m*\u001b[0m\u001b[0mnp\u001b[0m\u001b[0;34m.\u001b[0m\u001b[0mexp\u001b[0m\u001b[0;34m(\u001b[0m\u001b[0;34m-\u001b[0m\u001b[0;36m1j\u001b[0m\u001b[0;34m*\u001b[0m\u001b[0;34m(\u001b[0m\u001b[0mmyinitphase\u001b[0m\u001b[0;34m)\u001b[0m\u001b[0;34m)\u001b[0m \u001b[0;31m# subtract globaphase - anyway we want to optimize for that, but now the global phase can be assumed to be 0 initally\u001b[0m\u001b[0;34m\u001b[0m\u001b[0m\n",
      "\u001b[0;31mNameError\u001b[0m: name 'my_fwd' is not defined"
     ]
    }
   ],
   "source": [
    "# We assume, that there is a global phase mismatch between measurment and first estimate of the fwd model, this can be estimated by the difference of mean phase of the two\n",
    "# subtracting the mean phase from either measurement or the fwd model could help to speed up the optimization\n",
    "# this is the initial guess of the reconstruction\n",
    "myinitphase = np.mean(np.angle(np_meas))-np.mean(np.angle(my_fwd))+2\n",
    "print('My Init Phase is :'+str(myinitphase))\n",
    "np_meas=np_meas*np.exp(-1j*(myinitphase)) # subtract globaphase - anyway we want to optimize for that, but now the global phase can be assumed to be 0 initally\n",
    "if(is_display): plt.subplot(231), plt.title('Angle XZ - Measurement'),plt.imshow(np.angle(np_meas)[:,mysize[1]//2,:]), plt.colorbar()#, plt.show()\n",
    "if(is_display): plt.subplot(232), plt.title('Angle YZ - Measurement'),plt.imshow(np.angle(np_meas)[:,:,mysize[2]//2]), plt.colorbar()#, plt.show()\n",
    "if(is_display): plt.subplot(233), plt.title('Angle XY - Measurement'),plt.imshow(np.angle(np_meas)[mysize[0]//2,:,:]), plt.colorbar(), plt.show()\n",
    "if(is_display): plt.subplot(234), plt.title('Angle YZ - Simulation'),plt.imshow(np.angle(my_fwd)[:,mysize[1]//2,:]), plt.colorbar()#, plt.show()\n",
    "if(is_display): plt.subplot(235), plt.title('Angle XZ - Simulation'),plt.imshow(np.angle(my_fwd)[:,:,mysize[2]//2]), plt.colorbar()#, plt.show()\n",
    "if(is_display): plt.subplot(236), plt.title('Angle XY - Simulation'),plt.imshow(np.angle(my_fwd)[mysize[0]//2,:,:]), plt.colorbar(), plt.show()\n",
    "\n",
    "myinitabs = np.mean(np.abs(my_fwd))\n",
    "print('My Init ABS is :'+str(myinitabs))\n",
    "np_meas=np_meas/np.max(np.abs(np_meas))*myinitabs# subtract globaphase - anyway we want to optimize for that, but now the global phase can be assumed to be 0 initally\n",
    "if(is_display): plt.subplot(231), plt.title('Abs XZ - Measurement'),plt.imshow(np.abs(np_meas)[:,mysize[1]//2,:]), plt.colorbar()#, plt.show()\n",
    "if(is_display): plt.subplot(232), plt.title('Abs YZ - Measurement'),plt.imshow(np.abs(np_meas)[:,:,mysize[2]//2]), plt.colorbar()#, plt.show()\n",
    "if(is_display): plt.subplot(233), plt.title('Abs XY - Measurement'),plt.imshow(np.abs(np_meas)[mysize[0]//2,:,:]), plt.colorbar(), plt.show()\n",
    "if(is_display): plt.subplot(234), plt.title('Abs YZ - Simulation'),plt.imshow(np.abs(my_fwd)[:,mysize[1]//2,:]), plt.colorbar()#, plt.show()\n",
    "if(is_display): plt.subplot(235), plt.title('Abs XZ - Simulation'),plt.imshow(np.abs(my_fwd)[:,:,mysize[2]//2]), plt.colorbar()#, plt.show()\n",
    "if(is_display): plt.subplot(236), plt.title('Abs XY - Simulation'),plt.imshow(np.abs(my_fwd)[mysize[0]//2,:,:]), plt.colorbar(), plt.show()\n"
   ]
  },
  {
   "cell_type": "code",
   "execution_count": null,
   "metadata": {},
   "outputs": [],
   "source": [
    "# assert some memory \n",
    "iter_last = 0\n",
    "mylosslist = []\n",
    "myfidelitylist = []\n",
    "myposlosslist = []\n",
    "myneglosslist = []\n",
    "mytvlosslist = []\n",
    "result_phaselist = []\n",
    "result_absorptionlist = []\n",
    "globalphaselist = []\n",
    "globalabslist = []"
   ]
  },
  {
   "cell_type": "code",
   "execution_count": null,
   "metadata": {},
   "outputs": [],
   "source": [
    "#%%\n",
    "''' Optimize the model '''\n",
    "print('Start optimizing')\n",
    "#np_meas = matlab_val # use the previously simulated data\n",
    "\n",
    "def abssqr(input):\n",
    "    return np.real(input*np.conj(input))\n",
    "\n",
    "for iterx in range(iter_last,Niter):\n",
    "    if iterx == 2000:\n",
    "        my_learningrate = my_learningrate*.1\n",
    "    # try to optimize\n",
    "    mylambdatv = lambda_tv/((iterx+1)/100)\n",
    "    if(iterx==0 or not np.mod(iterx, Ndisplay)):\n",
    "        my_res, my_res_absortpion, my_loss, my_fidelity, my_negloss, my_tvloss, myglobalphase, myglobalabs, myfwd =  \\\n",
    "            sess.run([muscat.TF_obj, muscat.TF_obj_absorption, tf_loss, tf_fidelity, tf_negsqrloss, tf_tvloss, tf_globalphase, tf_globalabs, tf_fwd], \\\n",
    "                     feed_dict={tf_meas:np_meas, tf_learningrate:my_learningrate, tf_lambda_tv:mylambdatv})\n",
    "\n",
    "        print('Loss@'+str(iterx)+': ' + str(my_loss) + ' - Fid: '+str(my_fidelity)+', Neg: '+str(my_negloss)+', TV: '+str(my_tvloss)+' G-Phase:'+str(myglobalphase)+' G-ABS: '+str(myglobalabs))        \n",
    "        mylosslist.append(my_loss)\n",
    "        myfidelitylist.append(my_fidelity)\n",
    "        myneglosslist.append(my_negloss)\n",
    "        mytvlosslist.append(my_tvloss)\n",
    "        result_phaselist.append(my_res)\n",
    "        result_absorptionlist.append(my_res_absortpion)\n",
    "        globalphaselist.append(myglobalphase)\n",
    "        globalabslist.append(myglobalabs)  \n",
    "        if(False):\n",
    "            if(is_display): plt.subplot(234), plt.title('Angle XZ'),plt.imshow(np.angle(myfwd)[:,myfwd.shape[1]//2,:]), plt.colorbar()#, plt.show()\n",
    "            if(is_display): plt.subplot(235), plt.title('Angle XZ'),plt.imshow(np.angle(myfwd)[:,:,myfwd.shape[2]//2]), plt.colorbar()#, plt.show()\n",
    "            if(is_display): plt.subplot(236), plt.title('Angle XY'),plt.imshow(np.angle(myfwd)[myfwd.shape[0]//2,:,:]), plt.colorbar(), plt.show()\n",
    "\n",
    "    else:\n",
    "        _, mygrads = sess.run([tf_lossop,tf_grads], feed_dict={tf_meas:np_meas, tf_learningrate:my_learningrate, tf_lambda_tv:mylambdatv})\n",
    "        #plt.imshow(np.abs(my_res[:,50,:]))\n",
    "        #print(mygrads)\n",
    "        #print(mygrads.shape)\n",
    "        #_, myfwd = sess.run([tf_lossop,tf_fwd], feed_dict={tf_meas:np_meas, tf_learningrate:my_learningrate, tf_lambda_tv:mylambdatv})\n",
    "        "
   ]
  },
  {
   "cell_type": "markdown",
   "metadata": {},
   "source": [
    "# Display result - FFT"
   ]
  },
  {
   "cell_type": "code",
   "execution_count": null,
   "metadata": {},
   "outputs": [],
   "source": [
    "# This is the reconstruction\n",
    "if(is_display):\n",
    "    plt.subplot(231), plt.title('ABS XZ'),plt.imshow(np.abs(myfwd)[:,myfwd.shape[1]//2,:]), plt.colorbar()#, plt.show()\n",
    "    plt.subplot(232), plt.title('ABS YZ'),plt.imshow(np.abs(myfwd)[:,:,myfwd.shape[2]//2]), plt.colorbar()#, plt.show()\n",
    "    plt.subplot(233), plt.title('ABS XY'),plt.imshow(np.abs(myfwd)[myfwd.shape[0]//2,:,:]), plt.colorbar()#, plt.show()\n",
    "    plt.subplot(234), plt.title('Angle XZ'),plt.imshow(np.angle(myfwd)[:,myfwd.shape[1]//2,:]), plt.colorbar()#, plt.show()\n",
    "    plt.subplot(235), plt.title('Angle XZ'),plt.imshow(np.angle(myfwd)[:,:,myfwd.shape[2]//2]), plt.colorbar()#, plt.show()\n",
    "    plt.subplot(236), plt.title('Angle XY'),plt.imshow(np.angle(myfwd)[myfwd.shape[0]//2,:,:]), plt.colorbar()#, plt.show()\n",
    "    plt.savefig(savepath+'/res_myfwd.png'), plt.show()\n",
    "\n",
    "    # This is the measurment\n",
    "    plt.subplot(231), plt.title('ABS XZ'),plt.imshow(np.abs(np_meas)[:,np_meas.shape[1]//2,:]), plt.colorbar()#, plt.show()\n",
    "    plt.subplot(232), plt.title('ABS YZ'),plt.imshow(np.abs(np_meas)[:,:,np_meas.shape[2]//2]), plt.colorbar()#, plt.show()\n",
    "    plt.subplot(233), plt.title('ABS XY'),plt.imshow(np.abs(np_meas)[np_meas.shape[0]//2,:,:]), plt.colorbar()#, plt.show()\n",
    "    plt.subplot(234), plt.title('Angle XZ'),plt.imshow(np.angle(np_meas)[:,np_meas.shape[1]//2,:]), plt.colorbar()#, plt.show()\n",
    "    plt.subplot(235), plt.title('Angle XZ'),plt.imshow(np.angle(np_meas)[:,:,np_meas.shape[2]//2]), plt.colorbar()#, plt.show()\n",
    "    plt.subplot(236), plt.title('Angle XY'),plt.imshow(np.angle(np_meas)[np_meas.shape[0]//2,:,:]), plt.colorbar()#, plt.show()\n",
    "    plt.savefig(savepath+'/res_mymeas.png'), plt.show()\n",
    "\n",
    "    # This is the residual\n",
    "    plt.subplot(231), plt.title('Residual ABS XZ'),plt.imshow((np.abs(myfwd)-np.abs(np_meas))[:,myfwd.shape[1]//2,:]), plt.colorbar()#, plt.show()\n",
    "    plt.subplot(232), plt.title('Residual ABS YZ'),plt.imshow((np.abs(myfwd)-np.abs(np_meas))[:,:,myfwd.shape[2]//2]), plt.colorbar()#, plt.show()\n",
    "    plt.subplot(233), plt.title('Residual ABS XY'),plt.imshow((np.abs(myfwd)-np.abs(np_meas))[myfwd.shape[0]//2,:,:]), plt.colorbar()#, plt.show()\n",
    "    plt.subplot(234), plt.title('Residual Angle XZ'),plt.imshow((np.angle(myfwd)-np.angle(np_meas))[:,myfwd.shape[1]//2,:]), plt.colorbar()#, plt.show()\n",
    "    plt.subplot(235), plt.title('Residual Angle XZ'),plt.imshow((np.angle(myfwd)-np.angle(np_meas))[:,:,myfwd.shape[2]//2]), plt.colorbar()#, plt.show()\n",
    "    plt.subplot(236), plt.title('Residual Angle XY'),plt.imshow((np.angle(myfwd)-np.angle(np_meas))[myfwd.shape[0]//2,:,:]), plt.colorbar()#, plt.show()\n",
    "    plt.savefig(savepath+'/res_myresidual.png'), plt.show()\n",
    "    \n",
    "    ''' Save Parameters '''\n",
    "    muscat.writeParameterFile(my_learningrate, mylambdatv, epsTV, filepath = savepath+'/myparameters.yml')\n",
    "\n",
    "\n",
    "    \n",
    "    # diplay the error over time\n",
    "    plt.subplot(231), plt.title('Error/Cost-function'), plt.semilogy((np.array(mylosslist)))#, plt.show()\n",
    "    plt.subplot(232), plt.title('Fidelity-function'), plt.semilogy((np.array(myfidelitylist)))#, plt.show()\n",
    "    plt.subplot(233), plt.title('Neg-loss-function'), plt.plot(np.array(myneglosslist))#, plt.show()\n",
    "    plt.subplot(234), plt.title('TV-loss-function'), plt.semilogy(np.array(mytvlosslist))#, plt.show()\n",
    "    plt.subplot(235), plt.title('Global Phase'), plt.plot(np.array(globalphaselist))#, plt.show()\n",
    "    plt.subplot(236), plt.title('Global ABS'), plt.plot(np.array(globalabslist))#, plt.show()\n",
    "    plt.savefig(savepath+'/myplots.png'), plt.show()"
   ]
  },
  {
   "cell_type": "markdown",
   "metadata": {},
   "source": [
    "# Display Result Refractive index"
   ]
  },
  {
   "cell_type": "code",
   "execution_count": null,
   "metadata": {},
   "outputs": [],
   "source": [
    "if(is_display): \n",
    "    plt.subplot(131), plt.title('Result Phase: XZ'),plt.imshow(my_res[:,my_res.shape[1]//2,:]), plt.colorbar()#, plt.show()\n",
    "    plt.subplot(132), plt.title('Result Phase: XZ'),plt.imshow(my_res[:,:,my_res.shape[2]//2]), plt.colorbar()#, plt.show()\n",
    "    plt.subplot(133), plt.title('Result Phase: XY'),plt.imshow(my_res[my_res.shape[0]//2,:,:]), plt.colorbar()\n",
    "    plt.savefig(savepath+'/RI_result.png'), plt.show()\n",
    "    \n",
    "    plt.subplot(131), plt.title('Result Abs: XZ'),plt.imshow(my_res_absortpion[:,my_res.shape[1]//2,:]), plt.colorbar()#, plt.show()\n",
    "    plt.subplot(132), plt.title('Result abs: XZ'),plt.imshow(my_res_absortpion[:,:,my_res.shape[2]//2]), plt.colorbar()#, plt.show()\n",
    "    plt.subplot(133), plt.title('Result abs: XY'),plt.imshow(my_res_absortpion[my_res.shape[0]//2,:,:]), plt.colorbar()\n",
    "    plt.savefig(savepath+'/RI_abs_result.png'), plt.show()\n",
    "    \n",
    "    print(np.real(sess.run(muscat.TF_zernikefactors)))\n",
    "    plt.subplot(121), plt.title('Po Phase'), plt.imshow(np.fft.fftshift(np.angle(sess.run(muscat.TF_Po_aberr)))), plt.colorbar()\n",
    "    plt.subplot(122), plt.title('Po abs'), plt.imshow(np.fft.fftshift(np.abs(sess.run(muscat.TF_Po_aberr)))), plt.colorbar()\n",
    "    plt.savefig(savepath+'/recovered_pupil.png'), plt.show()\n",
    "\n",
    "    data.export_realdatastack_h5(savepath+'/myrefractiveindex.h5', 'temp', np.array(result_phaselist))\n",
    "    data.export_realdatastack_h5(savepath+'/myrefractiveindex_absorption.h5', 'temp', np.array(result_absorptionlist))\n",
    "    myobj = my_res+1j*my_res_absortpion\n",
    "    np.save('my_res_cmplx', myobj)"
   ]
  },
  {
   "cell_type": "code",
   "execution_count": null,
   "metadata": {},
   "outputs": [],
   "source": []
  }
 ],
 "metadata": {
  "kernelspec": {
   "display_name": "Python 3",
   "language": "python",
   "name": "python3"
  },
  "language_info": {
   "codemirror_mode": {
    "name": "ipython",
    "version": 3
   },
   "file_extension": ".py",
   "mimetype": "text/x-python",
   "name": "python",
   "nbconvert_exporter": "python",
   "pygments_lexer": "ipython3",
   "version": "3.6.6"
  }
 },
 "nbformat": 4,
 "nbformat_minor": 2
}
