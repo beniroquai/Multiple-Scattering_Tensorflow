{
 "cells": [
  {
   "cell_type": "markdown",
   "metadata": {},
   "source": [
    "# This is the minimum Working Example to compute a multiple scattering experiment in the Q-Phase "
   ]
  },
  {
   "cell_type": "code",
   "execution_count": 1,
   "metadata": {
    "collapsed": false
   },
   "outputs": [
    {
     "name": "stderr",
     "output_type": "stream",
     "text": [
      "C:\\ProgramData\\Anaconda3\\lib\\site-packages\\h5py\\__init__.py:72: UserWarning: h5py is running against HDF5 1.10.2 when it was built against 1.10.3, this may cause problems\n",
      "  '{0}.{1}.{2}'.format(*version.hdf5_built_version_tuple)\n"
     ]
    }
   ],
   "source": [
    "#!/usr/bin/env python2\n",
    "# -*- coding: utf-8 -*-\n",
    "\"\"\"\n",
    "Created on Sat Jun 10 19:53:32 2017\n",
    "\n",
    "@author: Bene\n",
    "\n",
    "This file creates a fwd-model for the TESCAN Q-PHASE under \n",
    "multiple-scattering. It is majorly derived from  \"LEarning approach for optical tomography\"\n",
    "U. S. Kamilov, BIG, EPFL, 2014.\n",
    "\"\"\"\n",
    "# %load_ext autoreload\n",
    "import tensorflow as tf\n",
    "import numpy as np\n",
    "import matplotlib as mpl\n",
    "import matplotlib.pyplot as plt\n",
    "import os\n",
    "from datetime import datetime\n",
    "\n",
    "# load own functions\n",
    "import src.model as mus\n",
    "import src.tf_helper as tf_helper\n",
    "import src.tf_generate_object as tf_go\n",
    "import src.data as data\n",
    "import src.optimization.tf_regularizers as reg\n",
    "\n",
    "\n",
    "# change the following to %matplotlib notebook for interactive plotting\n",
    "# %matplotlib inline\n",
    "\n",
    "# Optionally, tweak styles.\n",
    "mpl.rc('figure',  figsize=(10, 6))\n",
    "mpl.rc('image', cmap='gray')\n"
   ]
  },
  {
   "cell_type": "markdown",
   "metadata": {},
   "source": [
    "# Define some optimization parameters "
   ]
  },
  {
   "cell_type": "code",
   "execution_count": 2,
   "metadata": {
    "collapsed": false
   },
   "outputs": [
    {
     "name": "stdout",
     "output_type": "stream",
     "text": [
      "Folder exists already\n"
     ]
    }
   ],
   "source": [
    "'''Define some stuff related to infrastructure'''\n",
    "mytimestamp = datetime.now().strftime('%Y-%m-%d_%H-%M-%S')\n",
    "savepath = os.path.join('./Data/DROPLETS/RESULTS/')#, mytimestamp)\n",
    "\n",
    "# Create directory\n",
    "try: \n",
    "    os.mkdir(savepath)\n",
    "except(FileExistsError): \n",
    "    print('Folder exists already')\n",
    "\n",
    "# Define parameters \n",
    "is_padding = False\n",
    "is_display = True\n",
    "is_optimization = False \n",
    "is_optimization_psf = True\n",
    "is_flip = False\n",
    "\n",
    "# data files for parameters and measuremets \n",
    "matlab_val_file = './Data/DROPLETS/allAmp_simu.npy' #'./Data/DROPLETS/allAmp_simu.mat'      \n",
    "matlab_par_file = './Data/DROPLETS/myParameterNew.mat'   \n",
    "\n",
    "# microscope parameters\n",
    "zernikefactors = np.array((0,0,0,0,0,0,-.5,-.5,0)) # representing the 9 first zernike coefficients in noll-writings \n",
    "dn = .075 # refractive index of the object (difference)\n",
    "\n",
    "'''Define Optimization Parameters'''\n",
    "my_learningrate = 1e-2  # learning rate\n",
    "lambda_tv = 0#1e-4 # lambda for Total variation\n",
    "lambda_gr = 0 # lambda for Goods Roughness \n",
    "lambda_pos = 0\n",
    "lambda_neg = 00\n",
    "\n",
    "Niter = 1000\n",
    "Ndisplay = 10\n",
    "\n",
    "\n",
    "'''START CODE'''\n",
    "tf.reset_default_graph() # just in case there was an open session"
   ]
  },
  {
   "cell_type": "markdown",
   "metadata": {},
   "source": [
    "# Generate Test-Object"
   ]
  },
  {
   "cell_type": "code",
   "execution_count": 3,
   "metadata": {
    "collapsed": false
   },
   "outputs": [
    {
     "name": "stdout",
     "output_type": "stream",
     "text": [
      "do we need to flip the data?! -> Observe FFT!!\n",
      "Assigned some value for dn which is not good!\n",
      "Attention: Changed Z-sampling!!\n"
     ]
    }
   ],
   "source": [
    "''' File which stores the experimental parameters from the Q-PHASE setup \n",
    "    1.) Read in the parameters of the dataset ''' \n",
    "matlab_pars = data.import_parameters_mat(filename = matlab_par_file, matname='myParameterNew')\n",
    "\n",
    "''' 2.) Read in the parameters of the dataset ''' \n",
    "if(matlab_val_file.find('mat')==-1):\n",
    "    matlab_val = np.load(matlab_val_file)\n",
    "else:\n",
    "    matlab_val = data.import_realdata_h5(filename = matlab_val_file, matname='allAmp_red', is_complex=True)\n",
    "\n",
    "if(is_flip):\n",
    "    np_meas = np.flip(matlab_val,0)\n",
    "    print('Attention: We are flipping the data!')\n",
    "else:\n",
    "    np_meas = matlab_val\n",
    "print('do we need to flip the data?! -> Observe FFT!!')\n",
    "\n",
    "\n",
    "''' Create the Model'''\n",
    "muscat = mus.MuScatModel(matlab_pars, is_optimization=is_optimization, is_optimization_psf = is_optimization_psf)\n",
    "muscat.Nx,muscat.Ny = int(np.squeeze(matlab_pars['Nx'].value)), int(np.squeeze(matlab_pars['Ny'].value))\n",
    "muscat.shiftIcY=0\n",
    "muscat.shiftIcX=0\n",
    "muscat.dn = dn\n",
    "#muscat.NAc =.4\n",
    "muscat.dz = muscat.lambda0/4\n",
    "print('Attention: Changed Z-sampling!!')\n",
    "\n",
    "''' Adjust some parameters to fit it in the memory '''\n",
    "muscat.mysize = (muscat.Nz,muscat.Nx,muscat.Ny) # ordering is (Nillu, Nz, Nx, Ny)\n",
    "\n",
    "''' Create a 3D Refractive Index Distributaton as a artificial sample'''\n",
    "obj = tf_go.generateObject(mysize=muscat.mysize, obj_dim=(muscat.dz,muscat.dx,muscat.dy), obj_type ='sphere', diameter = 1, dn = muscat.dn)\n",
    "\n",
    "# introduce zernike factors here\n",
    "muscat.zernikefactors = zernikefactors"
   ]
  },
  {
   "cell_type": "markdown",
   "metadata": {},
   "source": [
    "# Compute the System's properties (e.g. Pupil function/Illumination Source, K-vectors, etc.)"
   ]
  },
  {
   "cell_type": "code",
   "execution_count": 4,
   "metadata": {
    "collapsed": false
   },
   "outputs": [
    {
     "name": "stdout",
     "output_type": "stream",
     "text": [
      "----------> Be aware: We are taking aberrations into account!\n",
      "Shifting the illumination in X by: 0 Pixel\n",
      "Shifting the illumination in Y by: 0 Pixel\n",
      "Number of Illumination Angles / Plane waves: 49\n"
     ]
    }
   ],
   "source": [
    "''' Compute the systems model'''\n",
    "muscat.computesys(obj, is_zernike=True)"
   ]
  },
  {
   "cell_type": "markdown",
   "metadata": {},
   "source": [
    "# Generate Computational Graph (fwd model)"
   ]
  },
  {
   "cell_type": "code",
   "execution_count": 5,
   "metadata": {
    "collapsed": false
   },
   "outputs": [
    {
     "name": "stdout",
     "output_type": "stream",
     "text": [
      "Buildup Q-PHASE Model \n",
      "WARNING:tensorflow:Variable += will be deprecated. Use variable.assign_add if you want assignment to the variable value or 'x = x + y' if you want a new python Tensor object.\n"
     ]
    },
    {
     "data": {
      "image/png": "[encoded data removed]",
      "text/plain": [
       "<Figure size 720x432 with 5 Axes>"
      ]
     },
     "metadata": {},
     "output_type": "display_data"
    }
   ],
   "source": [
    "tf_fwd = muscat.computemodel()\n",
    "\n",
    "if(is_display): \n",
    "    plt.subplot(131), plt.title('Ic'), plt.imshow(muscat.Ic)\n",
    "    plt.subplot(132), plt.title('Po'),plt.imshow(np.fft.fftshift(np.abs(muscat.Po))), plt.colorbar()\n",
    "    plt.subplot(133), plt.title('Po'),plt.imshow(np.fft.fftshift(np.angle(muscat.Po))), plt.colorbar(), plt.show()"
   ]
  },
  {
   "cell_type": "markdown",
   "metadata": {},
   "source": [
    "# Define Optimizer and Cost-function"
   ]
  },
  {
   "cell_type": "markdown",
   "metadata": {},
   "source": [
    "Now load data which has been saved previously (Optional!)"
   ]
  },
  {
   "cell_type": "code",
   "execution_count": 6,
   "metadata": {
    "collapsed": false
   },
   "outputs": [
    {
     "name": "stdout",
     "output_type": "stream",
     "text": [
      "Evtl unwrap it!\n"
     ]
    },
    {
     "data": {
      "image/png": "[encoded data removed]",
      "text/plain": [
       "<Figure size 720x432 with 6 Axes>"
      ]
     },
     "metadata": {},
     "output_type": "display_data"
    }
   ],
   "source": [
    "print('Evtl unwrap it!')\n",
    "\n",
    "# this is the initial guess of the reconstruction\n",
    "np_meas=np_meas#*np.exp(1j*np.pi)\n",
    "if(True):\n",
    "    init_guess = np.angle(np_meas)\n",
    "    init_guess = init_guess - np.min(init_guess)\n",
    "    init_guess = init_guess/np.max(init_guess)*muscat.dn\n",
    "else:\n",
    "    init_guess = np.ones(np_meas.shape)*muscat.dn\n",
    "    \n",
    "if(is_display): plt.subplot(231), plt.title('Angle XZ'),plt.imshow(init_guess[:,muscat.mysize[1]//2,:]), plt.colorbar()\n",
    "if(is_display): plt.subplot(232), plt.title('Angle XZ'),plt.imshow(init_guess[:,:,muscat.mysize[1]//2]), plt.colorbar()\n",
    "if(is_display): plt.subplot(233), plt.title('Angle XZ'),plt.imshow(init_guess[muscat.mysize[0]//2,:,:]), plt.colorbar(),plt.show()\n"
   ]
  },
  {
   "cell_type": "markdown",
   "metadata": {},
   "source": [
    "# Optimize"
   ]
  },
  {
   "cell_type": "code",
   "execution_count": 7,
   "metadata": {
    "collapsed": false
   },
   "outputs": [
    {
     "name": "stdout",
     "output_type": "stream",
     "text": [
      "Regularizer: Penalize Values less then 0\n",
      "Regularizer: Penalize Values higher then 0.2\n"
     ]
    },
    {
     "data": {
      "image/png": "[encoded data removed]",
      "text/plain": [
       "<Figure size 720x432 with 6 Axes>"
      ]
     },
     "metadata": {},
     "output_type": "display_data"
    },
    {
     "data": {
      "image/png": "[encoded data removed]",
      "text/plain": [
       "<Figure size 720x432 with 6 Axes>"
      ]
     },
     "metadata": {},
     "output_type": "display_data"
    },
    {
     "name": "stdout",
     "output_type": "stream",
     "text": [
      "Variable:  Variable_assignment/Variable:0\n",
      "Shape:  (9,)\n",
      "[ 0.   0.   0.   0.   0.   0.  -0.5 -0.5  0. ]\n",
      "Variable:  Variable:0\n",
      "Shape:  ()\n",
      "1\n",
      "Variable:  var_globalphase:0\n",
      "Shape:  ()\n",
      "0.0\n",
      "Variable:  var_globalabs:0\n",
      "Shape:  ()\n",
      "1.0\n"
     ]
    }
   ],
   "source": [
    "#%%\n",
    "'''Regression + Regularization'''\n",
    "tf_meas = tf.placeholder(dtype=tf.complex64, shape=muscat.mysize, name='mymeasurement')\n",
    "             \n",
    "'''Define Cost-function'''\n",
    "tf_tvloss = lambda_tv*reg.tf_total_variation_regularization(muscat.TF_obj)  #Alernatively total_variation\n",
    "tf_posloss = lambda_neg*reg.posiminity(muscat.TF_obj, minval=0)\n",
    "tf_negloss = lambda_pos*reg.posimaxity(muscat.TF_obj, maxval=.2) \n",
    "tf_globalphase = tf.Variable(0., tf.float32, name='var_globalphase') # \n",
    "tf_globalabs = tf.Variable(1., tf.float32, name='var_globalabs') # \n",
    "\n",
    "tf_fidelity_phase = tf.reduce_sum(tf_helper.tf_abssqr(tf.angle(tf_fwd)  - tf.angle(tf_meas*tf.exp(1j*np.pi*tf.cast(tf_globalphase, tf.complex64))))) # allow a global phase parameter to avoid unwrapping effects\n",
    "tf_fidelity_abs = tf.reduce_sum(tf_helper.tf_abssqr(tf.abs(tf_fwd)  - tf.abs(tf_meas)/tf.abs(tf_globalabs))) # allow a global phase parameter to avoid unwrapping effects\n",
    "tf_loss_phase = tf_fidelity_phase +  tf_negloss + tf_posloss + tf_tvloss\n",
    "tf_loss_abs= tf_fidelity_abs +  tf_negloss + tf_posloss + tf_tvloss\n",
    "\n",
    " # data fidelity\n",
    "# TV regularization\n",
    "# Positivity Penalty          \n",
    "# eventually Goods Roughness reg\n",
    "          \n",
    "if(True):          \n",
    "    '''Define Optimizer'''\n",
    "    tf_optimizer_phase = tf.train.AdamOptimizer(my_learningrate)\n",
    "    tf_lossop_phase = tf_optimizer_phase.minimize(tf_loss_phase)\n",
    "    tf_optimizer_abs = tf.train.AdamOptimizer(my_learningrate)\n",
    "    tf_lossop_abs = tf_optimizer_abs.minimize(tf_loss_abs)\n",
    "else:\n",
    "    tf_optimizer = tf.contrib.opt.ScipyOptimizerInterface(loss, options={'maxiter': 40},method='L-BFGS-B') # 'L-BFGS-B'\n",
    "    tf_optimizer.minimize(sess)\n",
    "    myloss=loss.eval()\n",
    "    \n",
    "''' Evaluate the model '''\n",
    "sess = tf.Session()\n",
    "sess.run(tf.global_variables_initializer())\n",
    "if is_optimization:\n",
    "    sess.run(tf.assign(muscat.TF_obj, init_guess)); # assign abs of measurement as initial guess of \n",
    "my_fwd = sess.run(tf_fwd)#, feed_dict={muscat.TF_obj:obj})\n",
    "mysize = my_fwd.shape\n",
    "\n",
    "if(is_display): plt.subplot(231), plt.title('Angle XZ'),plt.imshow(np.angle(np_meas*np.exp(1j*np.pi))[:,mysize[1]//2,:]), plt.colorbar()#, plt.show()\n",
    "if(is_display): plt.subplot(232), plt.title('Angle XZ'),plt.imshow(np.angle(np_meas*np.exp(1j*np.pi))[:,:,mysize[2]//2]), plt.colorbar()#, plt.show()\n",
    "if(is_display): plt.subplot(233), plt.title('Angle XY'),plt.imshow(np.angle(np_meas*np.exp(1j*np.pi))[mysize[0]//2,:,:]), plt.colorbar(), plt.show()\n",
    "\n",
    "if(is_display): plt.subplot(234), plt.title('Angle XZ'),plt.imshow(np.angle(my_fwd*np.exp(1j*np.pi))[:,mysize[1]//2,:]), plt.colorbar()#, plt.show()\n",
    "if(is_display): plt.subplot(235), plt.title('Angle XZ'),plt.imshow(np.angle(my_fwd*np.exp(1j*np.pi))[:,:,mysize[2]//2]), plt.colorbar()#, plt.show()\n",
    "if(is_display): plt.subplot(236), plt.title('Angle XY'),plt.imshow(np.angle(my_fwd*np.exp(1j*np.pi))[mysize[0]//2,:,:]), plt.colorbar(), plt.show()\n",
    "\n",
    "    \n",
    "variables_names = [v.name for v in tf.trainable_variables()]\n",
    "values = sess.run(variables_names)\n",
    "for k, v in zip(variables_names, values):\n",
    "    print(\"Variable: \", k)\n",
    "    print(\"Shape: \", v.shape)\n",
    "    print(v    )"
   ]
  },
  {
   "cell_type": "code",
   "execution_count": 10,
   "metadata": {
    "collapsed": false
   },
   "outputs": [
    {
     "ename": "SyntaxError",
     "evalue": "invalid syntax (<ipython-input-10-c43a75b154e0>, line 28)",
     "output_type": "error",
     "traceback": [
      "\u001b[0;36m  File \u001b[0;32m\"<ipython-input-10-c43a75b154e0>\"\u001b[0;36m, line \u001b[0;32m28\u001b[0m\n\u001b[0;31m    print('MY loss: @'+str(iterx)+':- Fidelity (phase): '+str(my_fidelity_phase)+'Fidelity (abs): '+str(my_fidelity_abs)+, Neg: '+str(my_negloss)+', Pos: '+str(my_posloss)+', TV: '+str(my_tvloss))\u001b[0m\n\u001b[0m                                                                                                                         ^\u001b[0m\n\u001b[0;31mSyntaxError\u001b[0m\u001b[0;31m:\u001b[0m invalid syntax\n"
     ]
    }
   ],
   "source": [
    "#%%\n",
    "''' Optimize the model '''\n",
    "print('Start optimizing')\n",
    "mylosslist_phase = []\n",
    "mylosslist_abs = []\n",
    "myfidelitylist_phase = []\n",
    "myfidelitylist_abs = []\n",
    "myposlosslist = []\n",
    "myneglosslist = []\n",
    "mytvlosslist = []\n",
    "resultlist = []\n",
    "globalphaselist = []\n",
    "np_meas = matlab_val # use the previously simulated data\n",
    "\n",
    "for iterx in range(1,Niter):\n",
    "    # try to optimize\n",
    "    \n",
    "    if not np.mod(iterx,2):\n",
    "        tf_lossop = tf_lossop_phase\n",
    "    else:\n",
    "        tf_lossop = tf_lossop_abs\n",
    "        \n",
    "    if(iterx==0 or not np.mod(iterx, 9)):\n",
    "        my_opt, my_res, my_loss_phase, my_loss_abs, my_fidelity_phase, my_fidelity_abs, my_negloss, my_posloss, my_tvloss, myglobalphase =  \\\n",
    "            sess.run([tf_lossop, muscat.TF_obj, tf_loss_phase, tf_loss_abs, tf_fidelity_phase, tf_fidelity_abs, tf_negloss, tf_posloss, tf_tvloss, tf_globalphase], feed_dict={tf_meas:np_meas})\n",
    "\n",
    "\n",
    "            \n",
    "        print('MY loss: @'+str(iterx)+':- Fidelity (phase): '+str(my_fidelity_phase)+'Fidelity (abs): '+str(my_fidelity_abs)+, Neg: '+str(my_negloss)+', Pos: '+str(my_posloss)+', TV: '+str(my_tvloss))        \n",
    "        mylosslist.append(my_loss_phase)\n",
    "        mylosslist.append(my_loss_abs)\n",
    "        myfidelitylist.append(my_fidelity_phase)\n",
    "        myfidelitylist.append(my_fidelity_abs)        \n",
    "        myposlosslist.append(my_negloss)\n",
    "        myneglosslist.append(my_posloss)\n",
    "        mytvlosslist.append(my_tvloss)\n",
    "        resultlist.append(my_res)\n",
    "        globalphaselist.append(myglobalphase)\n",
    "    else:\n",
    "        sess.run([tf_lossop], feed_dict={tf_meas:np_meas})\n",
    "        #plt.imshow(np.abs(my_res[:,50,:]))\n",
    "        \n",
    "\n",
    "#save stack to disk\n",
    "#sktiff.imsave(savepath+'Obj_Reconstruction.tif', np.array(resultlist), compress=6, metadata={'axes': 'TZXY'})"
   ]
  },
  {
   "cell_type": "markdown",
   "metadata": {},
   "source": [
    "# Display result - FFT"
   ]
  },
  {
   "cell_type": "code",
   "execution_count": null,
   "metadata": {
    "collapsed": true
   },
   "outputs": [],
   "source": [
    "#%% Display the results\n",
    "is_display=True\n",
    "myfwd, mymeas, my_res = sess.run([tf_fwd, tf_meas, muscat.TF_obj], feed_dict={tf_meas:np_meas})\n",
    "        \n",
    "if(is_display): plt.subplot(231),plt.title('FFT, Meas, YZ'), plt.imshow(np.abs(np.fft.fftshift(np.fft.fftn(mymeas))**.2)[:,muscat.mysize[1]//2,:]), plt.colorbar()#, plt.show()    \n",
    "if(is_display): plt.subplot(232),plt.title('FFT, Meas, XZ'), plt.imshow(np.abs(np.fft.fftshift(np.fft.fftn(mymeas))**.2)[muscat.mysize[0]//2,:,:]), plt.colorbar()#, plt.show()   \n",
    "if(is_display): plt.subplot(233),plt.title('FFT, Meas, XY'), plt.imshow(np.abs(np.fft.fftshift(np.fft.fftn(mymeas))**.2)[:,:,muscat.mysize[2]//2]), plt.colorbar()#, plt.show()     \n",
    "if(is_display): plt.subplot(234),plt.title('FFT, Meas, YZ'), plt.imshow(np.abs(np.fft.fftshift(np.fft.fftn(myfwd))**.2)[:,muscat.mysize[1]//2,:]), plt.colorbar()#, plt.show()\n",
    "if(is_display): plt.subplot(235),plt.title('FFT, Meas, XZ'), plt.imshow(np.abs(np.fft.fftshift(np.fft.fftn(myfwd))**.2)[muscat.mysize[0]//2,:,:]), plt.colorbar()#, plt.show()    \n",
    "if(is_display): plt.subplot(236),plt.title('FFT, Meas, XY'), plt.imshow(np.abs(np.fft.fftshift(np.fft.fftn(myfwd))**.2)[:,:,muscat.mysize[2]//2]), plt.colorbar(), plt.show()    \n",
    "if(is_display): plt.subplot(236),plt.title('FFT, Meas, XY'), plt.imshow(np.abs(np.fft.fftshift(np.fft.fftn(myfwd))**.2)[:,:,muscat.mysize[2]//2]), plt.colorbar(), plt.show()    \n",
    "\n",
    "\n",
    "#%% save the results\n",
    "#np.save(savepath+'/rec.npy', my_res)\n",
    "import src.data as data\n",
    "data.export_realdatastack_h5('temp.h5', 'temp', np.array(resultlist))\n"
   ]
  },
  {
   "cell_type": "markdown",
   "metadata": {},
   "source": [
    "# Display results ABS/Angle - FWD model"
   ]
  },
  {
   "cell_type": "code",
   "execution_count": null,
   "metadata": {
    "collapsed": true
   },
   "outputs": [],
   "source": [
    "if(is_display): plt.subplot(231), plt.title('ABS XZ'),plt.imshow(np.abs(myfwd)[:,muscat.mysize[1]//2,:]), plt.colorbar()#, plt.show()\n",
    "if(is_display): plt.subplot(232), plt.title('ABS XZ'),plt.imshow(np.abs(myfwd)[:,:,muscat.mysize[2]//2]), plt.colorbar()#, plt.show()\n",
    "if(is_display): plt.subplot(233), plt.title('ABS XY'),plt.imshow(np.abs(myfwd)[muscat.mysize[0]//2,:,:]), plt.colorbar()#, plt.show()\n",
    "if(is_display): plt.subplot(234), plt.title('Angle XZ'),plt.imshow(np.angle(myfwd)[:,muscat.mysize[1]//2,:]), plt.colorbar()#, plt.show()\n",
    "if(is_display): plt.subplot(235), plt.title('Angle XZ'),plt.imshow(np.angle(myfwd)[:,:,muscat.mysize[2]//2]), plt.colorbar()#, plt.show()\n",
    "if(is_display): plt.subplot(236), plt.title('Angle XY'),plt.imshow(np.angle(myfwd)[muscat.mysize[0]//2,:,:]), plt.colorbar(), plt.show()\n",
    "\n",
    "    \n",
    "if(is_display): plt.subplot(231), plt.title('ABS XZ'),plt.imshow(np.abs(np_meas)[:,muscat.mysize[1]//2,:]), plt.colorbar()#, plt.show()\n",
    "if(is_display): plt.subplot(232), plt.title('ABS XZ'),plt.imshow(np.abs(np_meas)[:,:,muscat.mysize[2]//2]), plt.colorbar()#, plt.show()\n",
    "if(is_display): plt.subplot(233), plt.title('ABS XY'),plt.imshow(np.abs(np_meas)[muscat.mysize[0]//2,:,:]), plt.colorbar()#, plt.show()\n",
    "if(is_display): plt.subplot(234), plt.title('Angle XZ'),plt.imshow(np.angle(np_meas)[:,muscat.mysize[1]//2,:]), plt.colorbar()#, plt.show()\n",
    "if(is_display): plt.subplot(235), plt.title('Angle XZ'),plt.imshow(np.angle(np_meas)[:,:,muscat.mysize[2]//2]), plt.colorbar()#, plt.show()\n",
    "if(is_display): plt.subplot(236), plt.title('Angle XY'),plt.imshow(np.angle(np_meas)[muscat.mysize[0]//2,:,:]), plt.colorbar(), plt.show()\n",
    "\n",
    "# diplay the error over time\n",
    "plt.subplot(241), plt.title('Error/Cost-function phase'), plt.plot(np.array(mylosslist_phase))\n",
    "plt.subplot(242), plt.title('Error/Cost-function abs'), plt.plot(np.array(mylosslist_abs))\n",
    "plt.subplot(243), plt.title('Fidelity-function phase'), plt.plot(np.array(myfidelitylist_phase))\n",
    "plt.subplot(244), plt.title('Fidelity-function abs'), plt.plot(np.array(myfidelitylist_abs))\n",
    "plt.subplot(245), plt.title('Neg-loss-function'), plt.plot(np.array(myposlosslist))\n",
    "plt.subplot(246), plt.title('Pos-loss-function'), plt.plot(np.array(myneglosslist))\n",
    "plt.subplot(247), plt.title('TV-loss-function'), plt.plot(np.array(mytvlosslist))\n",
    "plt.subplot(248), plt.title('Global Phase'), plt.plot(np.array(globalphaselist)), plt.show()"
   ]
  },
  {
   "cell_type": "markdown",
   "metadata": {},
   "source": [
    "# Display Result Refractive index"
   ]
  },
  {
   "cell_type": "code",
   "execution_count": null,
   "metadata": {
    "collapsed": true
   },
   "outputs": [],
   "source": [
    "if(False):\n",
    "    my_residual = tf_helper.abssqr(myfwd-mymeas)\n",
    "    if(is_display): plt.title('Residual: XZ'),plt.imshow(my_residual [:,muscat.mysize[1]//2,:]), plt.colorbar(), plt.show()\n",
    "    if(is_display): plt.title('Residual: XZ'),plt.imshow(my_residual [:,:,muscat.mysize[2]//2]), plt.colorbar(), plt.show()\n",
    "    if(is_display): plt.title('Residual: XY'),plt.imshow(my_residual [muscat.mysize[0]//2,:,:]), plt.colorbar(), plt.show()\n",
    "\n",
    "\n",
    "if(is_display): plt.subplot(131), plt.title('Result: XZ'),plt.imshow(my_res[:,muscat.mysize[1]//2,:]), plt.colorbar()#, plt.show()\n",
    "if(is_display): plt.subplot(132), plt.title('Result: XZ'),plt.imshow(my_res[:,:,muscat.mysize[2]//2]), plt.colorbar()#, plt.show()\n",
    "if(is_display): plt.subplot(133), plt.title('Result: XY'),plt.imshow(my_res[muscat.mysize[0]//2,:,:]), plt.colorbar(), plt.show()\n"
   ]
  },
  {
   "cell_type": "code",
   "execution_count": null,
   "metadata": {
    "collapsed": true
   },
   "outputs": [],
   "source": [
    "# Display recovered pupil"
   ]
  },
  {
   "cell_type": "code",
   "execution_count": null,
   "metadata": {
    "collapsed": true
   },
   "outputs": [],
   "source": [
    "#plt.subplot(121), plt.imshow(np.angle(sess.run(muscat.TF_Po.eval)))\n",
    "print(np.real(sess.run(muscat.TF_zernikefactors)))\n",
    "plt.subplot(121), plt.title('Po Phase'), plt.imshow(np.fft.fftshift(np.angle(sess.run(muscat.TF_Po_aberr)))), plt.colorbar()\n",
    "plt.subplot(122), plt.title('Po abs'), plt.imshow(np.fft.fftshift(np.abs(sess.run(muscat.TF_Po_aberr)))), plt.colorbar(), plt.show()\n",
    "\n",
    "np.save('tmp.npy',np.array(resultlist))\n",
    "data.export_realdatastack_h5('temp.h5', 'temp', np.array(resultlist))"
   ]
  },
  {
   "cell_type": "markdown",
   "metadata": {},
   "source": [
    "# Save results"
   ]
  },
  {
   "cell_type": "markdown",
   "metadata": {},
   "source": [
    "# %% save the results\n",
    "np.save(savepath+'/rec.npy', my_res)\n",
    "data.saveHDF5(my_res, savepath+'/Obj_Reconstruction.h5')\n",
    "data.saveHDF5(np.abs(np_meas), savepath+'/Amplitude_abs.h5')\n",
    "data.saveHDF5(np.angle(np_meas), savepath+'/Amplitude_angle.h5')"
   ]
  }
 ],
 "metadata": {
  "kernelspec": {
   "display_name": "Python 3",
   "language": "python",
   "name": "python3"
  },
  "language_info": {
   "codemirror_mode": {
    "name": "ipython",
    "version": 3
   },
   "file_extension": ".py",
   "mimetype": "text/x-python",
   "name": "python",
   "nbconvert_exporter": "python",
   "pygments_lexer": "ipython3",
   "version": "3.6.1"
  }
 },
 "nbformat": 4,
 "nbformat_minor": 2
}
