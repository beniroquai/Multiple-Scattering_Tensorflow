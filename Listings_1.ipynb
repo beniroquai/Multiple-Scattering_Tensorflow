{
 "cells": [
  {
   "cell_type": "markdown",
   "metadata": {},
   "source": [
    "# This is the minimum Working Example to compute a multiple scattering experiment in the Q-Phase "
   ]
  },
  {
   "cell_type": "code",
   "execution_count": 1,
   "metadata": {},
   "outputs": [],
   "source": [
    "#!/usr/bin/env python2\n",
    "# -*- coding: utf-8 -*-\n",
    "\"\"\"\n",
    "Created on Sat Jun 10 19:53:32 2017\n",
    "\n",
    "@author: Bene\n",
    "\n",
    "This file creates a fwd-model for the TESCAN Q-PHASE under \n",
    "multiple-scattering. It is majorly derived from  \"LEarning approach for optical tomography\"\n",
    "U. S. Kamilov, BIG, EPFL, 2014.\n",
    "\"\"\"\n",
    "%load_ext autoreload\n",
    "import tensorflow as tf\n",
    "import numpy as np\n",
    "import matplotlib.pyplot as plt\n",
    "import h5py \n",
    "import scipy.io\n",
    "import scipy as scipy\n",
    "import scipy.misc\n",
    "\n",
    "# load own functions\n",
    "from src import tf_helper as helper\n",
    "from src import muscat as mus\n",
    "from src import tf_generate_object as tf_go\n",
    "from src import data as data"
   ]
  },
  {
   "cell_type": "code",
   "execution_count": null,
   "metadata": {},
   "outputs": [],
   "source": []
  },
  {
   "cell_type": "markdown",
   "metadata": {},
   "source": [
    "# Define some optimization parameters "
   ]
  },
  {
   "cell_type": "code",
   "execution_count": 2,
   "metadata": {},
   "outputs": [],
   "source": [
    "\n",
    "optimize = 0#0# want to optimize for the refractive index?\n",
    "\n",
    "my_learningrate = 1e-3# learning rate\n",
    "my_keep_prob = 1\n",
    "tv_lambda = 1e-2\n",
    "gr_lambda = 1e-2\n",
    "obj_reg_lambda = 1e9\n",
    "\n",
    "load_data = 0 # want to load previously stored data from disk (numpy) otherwise MATLAB experiment will be loaded    \n",
    "\n",
    "\n",
    "# Define the location for the files; it is expected to be in the MATLAB -v7.3 format\n",
    "# The parameter file has a struct-object called myParameter with all necessary variables\n",
    "# The dataset file holds a complex matrix with Nx * Ny * Nz voxels called allAmpSimu\n",
    "matlab_par_file = './Data/BEADS/Beads_40x_100a_myParameter.mat'   # File with the experimental Parameters\n",
    "matlab_val_file = './Data/BEADS/Beads_40x_100a_allAmp.mat'   # File that stores the 3D (complex) Amplitude"
   ]
  },
  {
   "cell_type": "code",
   "execution_count": 3,
   "metadata": {},
   "outputs": [],
   "source": [
    "# This is the place to load data\n",
    "''' File which stores the experimental parameters from the Q-PHASE setup \n",
    "    1.) Read in the parameters of the dataset ''' \n",
    "matlab_pars = data.import_parameters_mat(filename = matlab_par_file)\n",
    "\n",
    "''' 2.) Read in the parameters of the dataset ''' \n",
    "matlab_val = data.import_realdata_h5(filename = matlab_val_file, matname='allAmpSimu', is_complex=True)"
   ]
  },
  {
   "cell_type": "markdown",
   "metadata": {},
   "source": [
    "# Initiate the MuScat (Multiple Scattering) Object"
   ]
  },
  {
   "cell_type": "code",
   "execution_count": 4,
   "metadata": {},
   "outputs": [],
   "source": [
    "''' Create the Model'''\n",
    "mm = mus.MuScatModel(matlab_pars, optimize, my_learningrate, my_keep_prob, tv_lambda, obj_reg_lambda, gr_lambda) # First initiliaze it\n",
    "\n",
    "''' Adjust some parameters to fit it in the memory '''\n",
    "#mm.Nz, mm.Nx, mm.Ny = np.shape(np_allAmpSimu)\n",
    "mm.Nz=100#int( np.double(np.array(self.myParamter.get('Nz'))))\n",
    "mm.Nx=100#np.int(np.floor((2*self.Rsim)/self.dx)+1);\n",
    "mm.Ny=100#np.int(np.floor((2*self.Rsim)/self.dy)+1)\n",
    "mm.NAc = 0.1 "
   ]
  },
  {
   "cell_type": "markdown",
   "metadata": {},
   "source": [
    "## Compute the System's properties (e.g. Pupil function/Illumination Source, K-vectors, etc.)"
   ]
  },
  {
   "cell_type": "code",
   "execution_count": 5,
   "metadata": {},
   "outputs": [
    {
     "name": "stdout",
     "output_type": "stream",
     "text": [
      "Number of Illumination Angles / Plane waves: 13\n"
     ]
    }
   ],
   "source": [
    "''' Compute the systems model'''\n",
    "mm.computeSys()"
   ]
  },
  {
   "cell_type": "markdown",
   "metadata": {},
   "source": [
    "Now load data which has been saved previously (Optional!)"
   ]
  },
  {
   "cell_type": "code",
   "execution_count": 6,
   "metadata": {},
   "outputs": [],
   "source": [
    "# Load Copute the systems model\n",
    "if(load_data):\n",
    "    mm.loadData()\n",
    "else:\n",
    "    mm.allSumAmp_mes = matlab_val"
   ]
  },
  {
   "cell_type": "markdown",
   "metadata": {},
   "source": [
    "## Generate a phantom object in 3D "
   ]
  },
  {
   "cell_type": "code",
   "execution_count": 7,
   "metadata": {},
   "outputs": [],
   "source": [
    "''' Create a 3D Refractive Index Distributaton as a artificial sample'''\n",
    "obj = tf_go.generateObject(obj_shape=mm.mysize, obj_dim=mm.dx, obj_type = 4, diameter = 1, dn = mm.dn)"
   ]
  },
  {
   "cell_type": "markdown",
   "metadata": {},
   "source": [
    "## Create computational graph"
   ]
  },
  {
   "cell_type": "code",
   "execution_count": 8,
   "metadata": {},
   "outputs": [
    {
     "name": "stdout",
     "output_type": "stream",
     "text": [
      "Start interactive Session\n",
      "no XLA activvated\n",
      "Generate Object\n",
      "Buildup Q-PHASE Model \n",
      "Current Z-Slice # is: 0\n",
      "Current Z-Slice # is: 1\n",
      "Current Z-Slice # is: 2\n",
      "Current Z-Slice # is: 3\n",
      "Current Z-Slice # is: 4\n",
      "Current Z-Slice # is: 5\n",
      "Current Z-Slice # is: 6\n",
      "Current Z-Slice # is: 7\n",
      "Current Z-Slice # is: 8\n",
      "Current Z-Slice # is: 9\n",
      "Current Z-Slice # is: 10\n",
      "Current Z-Slice # is: 11\n",
      "Current Z-Slice # is: 12\n",
      "Current Z-Slice # is: 13\n",
      "Current Z-Slice # is: 14\n",
      "Current Z-Slice # is: 15\n",
      "Current Z-Slice # is: 16\n",
      "Current Z-Slice # is: 17\n",
      "Current Z-Slice # is: 18\n",
      "Current Z-Slice # is: 19\n",
      "Current Z-Slice # is: 20\n",
      "Current Z-Slice # is: 21\n",
      "Current Z-Slice # is: 22\n",
      "Current Z-Slice # is: 23\n",
      "Current Z-Slice # is: 24\n",
      "Current Z-Slice # is: 25\n",
      "Current Z-Slice # is: 26\n",
      "Current Z-Slice # is: 27\n",
      "Current Z-Slice # is: 28\n",
      "Current Z-Slice # is: 29\n",
      "Current Z-Slice # is: 30\n",
      "Current Z-Slice # is: 31\n",
      "Current Z-Slice # is: 32\n",
      "Current Z-Slice # is: 33\n",
      "Current Z-Slice # is: 34\n",
      "Current Z-Slice # is: 35\n",
      "Current Z-Slice # is: 36\n",
      "Current Z-Slice # is: 37\n",
      "Current Z-Slice # is: 38\n",
      "Current Z-Slice # is: 39\n",
      "Current Z-Slice # is: 40\n",
      "Current Z-Slice # is: 41\n",
      "Current Z-Slice # is: 42\n",
      "Current Z-Slice # is: 43\n",
      "Current Z-Slice # is: 44\n",
      "Current Z-Slice # is: 45\n",
      "Current Z-Slice # is: 46\n",
      "Current Z-Slice # is: 47\n",
      "Current Z-Slice # is: 48\n",
      "Current Z-Slice # is: 49\n",
      "Current Z-Slice # is: 50\n",
      "Current Z-Slice # is: 51\n",
      "Current Z-Slice # is: 52\n",
      "Current Z-Slice # is: 53\n",
      "Current Z-Slice # is: 54\n",
      "Current Z-Slice # is: 55\n",
      "Current Z-Slice # is: 56\n",
      "Current Z-Slice # is: 57\n",
      "Current Z-Slice # is: 58\n",
      "Current Z-Slice # is: 59\n",
      "Current Z-Slice # is: 60\n",
      "Current Z-Slice # is: 61\n",
      "Current Z-Slice # is: 62\n",
      "Current Z-Slice # is: 63\n",
      "Current Z-Slice # is: 64\n",
      "Current Z-Slice # is: 65\n",
      "Current Z-Slice # is: 66\n",
      "Current Z-Slice # is: 67\n",
      "Current Z-Slice # is: 68\n",
      "Current Z-Slice # is: 69\n",
      "Current Z-Slice # is: 70\n",
      "Current Z-Slice # is: 71\n",
      "Current Z-Slice # is: 72\n",
      "Current Z-Slice # is: 73\n",
      "Current Z-Slice # is: 74\n",
      "Current Z-Slice # is: 75\n",
      "Current Z-Slice # is: 76\n",
      "Current Z-Slice # is: 77\n",
      "Current Z-Slice # is: 78\n",
      "Current Z-Slice # is: 79\n",
      "Current Z-Slice # is: 80\n",
      "Current Z-Slice # is: 81\n",
      "Current Z-Slice # is: 82\n",
      "Current Z-Slice # is: 83\n",
      "Current Z-Slice # is: 84\n",
      "Current Z-Slice # is: 85\n",
      "Current Z-Slice # is: 86\n",
      "Current Z-Slice # is: 87\n",
      "Current Z-Slice # is: 88\n",
      "Current Z-Slice # is: 89\n",
      "Current Z-Slice # is: 90\n",
      "Current Z-Slice # is: 91\n",
      "Current Z-Slice # is: 92\n",
      "Current Z-Slice # is: 93\n",
      "Current Z-Slice # is: 94\n",
      "Current Z-Slice # is: 95\n",
      "Current Z-Slice # is: 96\n",
      "Current Z-Slice # is: 97\n",
      "Current Z-Slice # is: 98\n",
      "Current Z-Slice # is: 99\n",
      "Current illumination angle # is: 0\n",
      "Current illumination angle # is: 1\n",
      "Current illumination angle # is: 2\n",
      "Current illumination angle # is: 3\n",
      "Current illumination angle # is: 4\n",
      "Current illumination angle # is: 5\n",
      "Current illumination angle # is: 6\n",
      "Current illumination angle # is: 7\n",
      "Current illumination angle # is: 8\n",
      "Current illumination angle # is: 9\n",
      "Current illumination angle # is: 10\n",
      "Current illumination angle # is: 11\n",
      "Current illumination angle # is: 12\n",
      "Building the graph successfully\n"
     ]
    }
   ],
   "source": [
    "''' Assign Object (3D sample) to Class'''\n",
    "mm.obj_init = tf_go.generateInitObject(obj)\n",
    "\n",
    "''' Create computational graph'''\n",
    "mm.create_graph(obj, if_xla=0)\n"
   ]
  },
  {
   "cell_type": "markdown",
   "metadata": {},
   "source": [
    "## Now evaluate the result - start inference"
   ]
  },
  {
   "cell_type": "code",
   "execution_count": 9,
   "metadata": {},
   "outputs": [
    {
     "name": "stdout",
     "output_type": "stream",
     "text": [
      "Object will be taken from Class\n",
      "start evaluating your computational graph\n"
     ]
    }
   ],
   "source": [
    "'''Compute result'''    \n",
    "mm.eval_graph() # result will be stored in mm.allSumAmp\n",
    "\n",
    "# mm.inference(obj, if_xla=0)"
   ]
  },
  {
   "cell_type": "markdown",
   "metadata": {},
   "source": [
    "\n",
    "## Visualize Results\n"
   ]
  },
  {
   "cell_type": "code",
   "execution_count": 16,
   "metadata": {},
   "outputs": [
    {
     "name": "stdout",
     "output_type": "stream",
     "text": [
      "(100, 100, 100)\n"
     ]
    },
    {
     "data": {
      "text/plain": [
       "<matplotlib.image.AxesImage at 0x130aad048>"
      ]
     },
     "execution_count": 16,
     "metadata": {},
     "output_type": "execute_result"
    },
    {
     "data": {
      "image/png": "[encoded data removed]",
      "text/plain": [
       "<Figure size 432x288 with 1 Axes>"
      ]
     },
     "metadata": {
      "needs_background": "light"
     },
     "output_type": "display_data"
    }
   ],
   "source": [
    "print(mm.allSumAmp.shape)\n",
    "plt.imshow(np.abs(mm.allSumAmp[:,:,int(mm.Nx/2)]))\n",
    "# mm.visualize_results()"
   ]
  },
  {
   "cell_type": "markdown",
   "metadata": {},
   "source": [
    "# Add some Regularizers"
   ]
  },
  {
   "cell_type": "code",
   "execution_count": null,
   "metadata": {},
   "outputs": [],
   "source": [
    "mm.regularizer(if_tvreg=True, if_posreg=True)"
   ]
  },
  {
   "cell_type": "code",
   "execution_count": null,
   "metadata": {},
   "outputs": [],
   "source": []
  },
  {
   "cell_type": "code",
   "execution_count": null,
   "metadata": {},
   "outputs": [],
   "source": []
  }
 ],
 "metadata": {
  "kernelspec": {
   "display_name": "Python 3",
   "language": "python",
   "name": "python3"
  },
  "language_info": {
   "codemirror_mode": {
    "name": "ipython",
    "version": 3
   },
   "file_extension": ".py",
   "mimetype": "text/x-python",
   "name": "python",
   "nbconvert_exporter": "python",
   "pygments_lexer": "ipython3",
   "version": "3.6.6"
  }
 },
 "nbformat": 4,
 "nbformat_minor": 2
}
